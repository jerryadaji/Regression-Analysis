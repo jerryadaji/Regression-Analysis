{
 "cells": [
  {
   "cell_type": "markdown",
   "metadata": {},
   "source": [
    "## Setup"
   ]
  },
  {
   "cell_type": "code",
   "execution_count": 1,
   "metadata": {
    "ExecuteTime": {
     "end_time": "2021-02-15T16:05:37.761603Z",
     "start_time": "2021-02-15T16:05:32.708785Z"
    }
   },
   "outputs": [
    {
     "data": {
      "text/html": [
       "<div>\n",
       "<style scoped>\n",
       "    .dataframe tbody tr th:only-of-type {\n",
       "        vertical-align: middle;\n",
       "    }\n",
       "\n",
       "    .dataframe tbody tr th {\n",
       "        vertical-align: top;\n",
       "    }\n",
       "\n",
       "    .dataframe thead th {\n",
       "        text-align: right;\n",
       "    }\n",
       "</style>\n",
       "<table border=\"1\" class=\"dataframe\">\n",
       "  <thead>\n",
       "    <tr style=\"text-align: right;\">\n",
       "      <th></th>\n",
       "      <th>REVENUE</th>\n",
       "      <th>CROSS_SELL_SUCCESS</th>\n",
       "      <th>NAME</th>\n",
       "      <th>EMAIL</th>\n",
       "      <th>FIRST_NAME</th>\n",
       "      <th>FAMILY_NAME</th>\n",
       "      <th>TOTAL_MEALS_ORDERED</th>\n",
       "      <th>UNIQUE_MEALS_PURCH</th>\n",
       "      <th>CONTACTS_W_CUSTOMER_SERVICE</th>\n",
       "      <th>PRODUCT_CATEGORIES_VIEWED</th>\n",
       "      <th>AVG_TIME_PER_SITE_VISIT</th>\n",
       "      <th>MOBILE_NUMBER</th>\n",
       "      <th>CANCELLATIONS_BEFORE_NOON</th>\n",
       "      <th>CANCELLATIONS_AFTER_NOON</th>\n",
       "      <th>TASTES_AND_PREFERENCES</th>\n",
       "      <th>PC_LOGINS</th>\n",
       "      <th>MOBILE_LOGINS</th>\n",
       "      <th>WEEKLY_PLAN</th>\n",
       "      <th>EARLY_DELIVERIES</th>\n",
       "      <th>LATE_DELIVERIES</th>\n",
       "      <th>PACKAGE_LOCKER</th>\n",
       "      <th>REFRIGERATED_LOCKER</th>\n",
       "      <th>AVG_PREP_VID_TIME</th>\n",
       "      <th>LARGEST_ORDER_SIZE</th>\n",
       "      <th>MASTER_CLASSES_ATTENDED</th>\n",
       "      <th>MEDIAN_MEAL_RATING</th>\n",
       "      <th>AVG_CLICKS_PER_VISIT</th>\n",
       "      <th>TOTAL_PHOTOS_VIEWED</th>\n",
       "    </tr>\n",
       "  </thead>\n",
       "  <tbody>\n",
       "    <tr>\n",
       "      <th>0</th>\n",
       "      <td>393.0</td>\n",
       "      <td>1</td>\n",
       "      <td>Saathos</td>\n",
       "      <td>saathos@unitedhealth.com</td>\n",
       "      <td>Saathos</td>\n",
       "      <td>Saathos</td>\n",
       "      <td>14</td>\n",
       "      <td>6</td>\n",
       "      <td>12</td>\n",
       "      <td>10</td>\n",
       "      <td>48.00</td>\n",
       "      <td>1</td>\n",
       "      <td>3</td>\n",
       "      <td>1</td>\n",
       "      <td>1</td>\n",
       "      <td>5</td>\n",
       "      <td>2</td>\n",
       "      <td>0</td>\n",
       "      <td>0</td>\n",
       "      <td>2</td>\n",
       "      <td>0</td>\n",
       "      <td>0</td>\n",
       "      <td>33.4</td>\n",
       "      <td>1</td>\n",
       "      <td>0</td>\n",
       "      <td>1</td>\n",
       "      <td>17</td>\n",
       "      <td>0</td>\n",
       "    </tr>\n",
       "    <tr>\n",
       "      <th>1</th>\n",
       "      <td>1365.0</td>\n",
       "      <td>1</td>\n",
       "      <td>Alysanne Osgrey</td>\n",
       "      <td>alysanne.osgrey@ge.org</td>\n",
       "      <td>Alysanne</td>\n",
       "      <td>Osgrey</td>\n",
       "      <td>87</td>\n",
       "      <td>3</td>\n",
       "      <td>8</td>\n",
       "      <td>8</td>\n",
       "      <td>40.35</td>\n",
       "      <td>1</td>\n",
       "      <td>0</td>\n",
       "      <td>0</td>\n",
       "      <td>1</td>\n",
       "      <td>5</td>\n",
       "      <td>1</td>\n",
       "      <td>12</td>\n",
       "      <td>0</td>\n",
       "      <td>2</td>\n",
       "      <td>0</td>\n",
       "      <td>0</td>\n",
       "      <td>84.8</td>\n",
       "      <td>1</td>\n",
       "      <td>0</td>\n",
       "      <td>3</td>\n",
       "      <td>13</td>\n",
       "      <td>170</td>\n",
       "    </tr>\n",
       "    <tr>\n",
       "      <th>2</th>\n",
       "      <td>800.0</td>\n",
       "      <td>1</td>\n",
       "      <td>Edwyd Fossoway</td>\n",
       "      <td>edwyd.fossoway@jnj.com</td>\n",
       "      <td>Edwyd</td>\n",
       "      <td>Fossoway</td>\n",
       "      <td>15</td>\n",
       "      <td>7</td>\n",
       "      <td>11</td>\n",
       "      <td>5</td>\n",
       "      <td>19.77</td>\n",
       "      <td>1</td>\n",
       "      <td>3</td>\n",
       "      <td>0</td>\n",
       "      <td>1</td>\n",
       "      <td>6</td>\n",
       "      <td>1</td>\n",
       "      <td>1</td>\n",
       "      <td>0</td>\n",
       "      <td>1</td>\n",
       "      <td>0</td>\n",
       "      <td>0</td>\n",
       "      <td>63.0</td>\n",
       "      <td>1</td>\n",
       "      <td>0</td>\n",
       "      <td>2</td>\n",
       "      <td>16</td>\n",
       "      <td>0</td>\n",
       "    </tr>\n",
       "    <tr>\n",
       "      <th>3</th>\n",
       "      <td>600.0</td>\n",
       "      <td>1</td>\n",
       "      <td>Eleyna Westerling</td>\n",
       "      <td>eleyna.westerling@ge.org</td>\n",
       "      <td>Eleyna</td>\n",
       "      <td>Westerling</td>\n",
       "      <td>13</td>\n",
       "      <td>6</td>\n",
       "      <td>11</td>\n",
       "      <td>5</td>\n",
       "      <td>90.00</td>\n",
       "      <td>1</td>\n",
       "      <td>2</td>\n",
       "      <td>0</td>\n",
       "      <td>1</td>\n",
       "      <td>6</td>\n",
       "      <td>1</td>\n",
       "      <td>14</td>\n",
       "      <td>0</td>\n",
       "      <td>3</td>\n",
       "      <td>0</td>\n",
       "      <td>0</td>\n",
       "      <td>43.8</td>\n",
       "      <td>1</td>\n",
       "      <td>0</td>\n",
       "      <td>2</td>\n",
       "      <td>14</td>\n",
       "      <td>0</td>\n",
       "    </tr>\n",
       "    <tr>\n",
       "      <th>4</th>\n",
       "      <td>1490.0</td>\n",
       "      <td>1</td>\n",
       "      <td>Elyn Norridge</td>\n",
       "      <td>elyn.norridge@jnj.com</td>\n",
       "      <td>Elyn</td>\n",
       "      <td>Norridge</td>\n",
       "      <td>47</td>\n",
       "      <td>8</td>\n",
       "      <td>6</td>\n",
       "      <td>10</td>\n",
       "      <td>40.38</td>\n",
       "      <td>1</td>\n",
       "      <td>0</td>\n",
       "      <td>0</td>\n",
       "      <td>0</td>\n",
       "      <td>5</td>\n",
       "      <td>1</td>\n",
       "      <td>5</td>\n",
       "      <td>0</td>\n",
       "      <td>8</td>\n",
       "      <td>0</td>\n",
       "      <td>0</td>\n",
       "      <td>84.8</td>\n",
       "      <td>1</td>\n",
       "      <td>1</td>\n",
       "      <td>3</td>\n",
       "      <td>12</td>\n",
       "      <td>205</td>\n",
       "    </tr>\n",
       "  </tbody>\n",
       "</table>\n",
       "</div>"
      ],
      "text/plain": [
       "   REVENUE  CROSS_SELL_SUCCESS               NAME                     EMAIL FIRST_NAME FAMILY_NAME  TOTAL_MEALS_ORDERED  UNIQUE_MEALS_PURCH  CONTACTS_W_CUSTOMER_SERVICE  PRODUCT_CATEGORIES_VIEWED  AVG_TIME_PER_SITE_VISIT  MOBILE_NUMBER  CANCELLATIONS_BEFORE_NOON  CANCELLATIONS_AFTER_NOON  TASTES_AND_PREFERENCES  PC_LOGINS  MOBILE_LOGINS  WEEKLY_PLAN  EARLY_DELIVERIES  LATE_DELIVERIES  PACKAGE_LOCKER  REFRIGERATED_LOCKER  AVG_PREP_VID_TIME  LARGEST_ORDER_SIZE  MASTER_CLASSES_ATTENDED  MEDIAN_MEAL_RATING  AVG_CLICKS_PER_VISIT  TOTAL_PHOTOS_VIEWED\n",
       "0    393.0                   1            Saathos  saathos@unitedhealth.com    Saathos     Saathos                   14                   6                           12                         10                    48.00              1                          3                         1                       1          5              2            0                 0                2               0                    0               33.4                   1                        0                   1                    17                    0\n",
       "1   1365.0                   1    Alysanne Osgrey    alysanne.osgrey@ge.org   Alysanne      Osgrey                   87                   3                            8                          8                    40.35              1                          0                         0                       1          5              1           12                 0                2               0                    0               84.8                   1                        0                   3                    13                  170\n",
       "2    800.0                   1     Edwyd Fossoway    edwyd.fossoway@jnj.com      Edwyd    Fossoway                   15                   7                           11                          5                    19.77              1                          3                         0                       1          6              1            1                 0                1               0                    0               63.0                   1                        0                   2                    16                    0\n",
       "3    600.0                   1  Eleyna Westerling  eleyna.westerling@ge.org     Eleyna  Westerling                   13                   6                           11                          5                    90.00              1                          2                         0                       1          6              1           14                 0                3               0                    0               43.8                   1                        0                   2                    14                    0\n",
       "4   1490.0                   1      Elyn Norridge     elyn.norridge@jnj.com       Elyn    Norridge                   47                   8                            6                         10                    40.38              1                          0                         0                       0          5              1            5                 0                8               0                    0               84.8                   1                        1                   3                    12                  205"
      ]
     },
     "execution_count": 1,
     "metadata": {},
     "output_type": "execute_result"
    }
   ],
   "source": [
    "# importing libraries\n",
    "import numpy             as np\n",
    "import random            as rand                     # random number gen\n",
    "import pandas            as pd                       # data science essentials\n",
    "import matplotlib.pyplot as plt                      # data visualization\n",
    "import seaborn           as sns                      # enhanced data viz\n",
    "from sklearn.model_selection import train_test_split # train-test split\n",
    "from sklearn.linear_model import LogisticRegression  # logistic regression\n",
    "import statsmodels.formula.api as smf                # logistic regression\n",
    "from sklearn.metrics import confusion_matrix         # confusion matrix\n",
    "from sklearn.metrics import roc_auc_score            # auc score\n",
    "from sklearn.neighbors import KNeighborsClassifier   # KNN for classification\n",
    "from sklearn.neighbors import KNeighborsRegressor    # KNN for regression\n",
    "from sklearn.preprocessing import StandardScaler     # standard scaler\n",
    "from scipy import stats\n",
    "\n",
    "\n",
    "import random as rand # random number generation\n",
    "import pandas as pd # data science essentials\n",
    "\n",
    "\n",
    "# New! (may need to be downloaded)\n",
    "import gender_guesser.detector as gender # guess gender based on (given) name\n",
    "\n",
    "# libraries for classification trees\n",
    "from sklearn.tree import DecisionTreeClassifier      # classification trees\n",
    "from sklearn.tree import export_graphviz             # exports graphics\n",
    "from six import StringIO           # saves objects in memory\n",
    "from IPython.display import Image                    # displays on frontend\n",
    "import pydotplus                                     # interprets dot objects\n",
    "\n",
    "from sklearn.model_selection import RandomizedSearchCV     # hyperparameter tuning\n",
    "from sklearn.metrics import make_scorer              # customizable scorer\n",
    "\n",
    "from sklearn.ensemble import RandomForestClassifier     # random forest\n",
    "from sklearn.ensemble import GradientBoostingClassifier # gbm\n",
    "\n",
    "# setting random seed\n",
    "rand.seed(a = 327)\n",
    "\n",
    "\n",
    "# setting pandas print options\n",
    "pd.set_option('display.max_rows', 500)\n",
    "pd.set_option('display.max_columns', 500)\n",
    "pd.set_option('display.width', 1000)\n",
    "\n",
    "\n",
    "# specifying file name\n",
    "file = './Apprentice_Chef_Dataset.xlsx'\n",
    "\n",
    "\n",
    "# reading the file into Python\n",
    "meals = pd.read_excel(io = file)\n",
    "\n",
    "# displaying the first rows of the DataFrame\n",
    "meals.head(n = 5)"
   ]
  },
  {
   "cell_type": "markdown",
   "metadata": {},
   "source": [
    "### Data Cleaning"
   ]
  },
  {
   "cell_type": "code",
   "execution_count": 2,
   "metadata": {
    "ExecuteTime": {
     "end_time": "2021-02-15T16:05:37.777716Z",
     "start_time": "2021-02-15T16:05:37.765278Z"
    }
   },
   "outputs": [
    {
     "name": "stdout",
     "output_type": "stream",
     "text": [
      "Index(['REVENUE', 'CROSS_SELL_SUCCESS', 'NAME', 'EMAIL', 'FIRST_NAME', 'FAMILY_NAME', 'TOTAL_MEALS_ORDERED', 'UNIQUE_MEALS_PURCH', 'CONTACTS_W_CUSTOMER_SERVICE', 'PRODUCT_CATEGORIES_VIEWED', 'AVG_TIME_PER_SITE_VISIT', 'MOBILE_NUMBER', 'CANCELLATIONS_BEFORE_NOON', 'CANCELLATIONS_AFTER_NOON', 'TASTES_AND_PREFERENCES', 'PC_LOGINS', 'MOBILE_LOGINS', 'WEEKLY_PLAN', 'EARLY_DELIVERIES', 'LATE_DELIVERIES', 'PACKAGE_LOCKER', 'REFRIGERATED_LOCKER', 'AVG_PREP_VID_TIME', 'LARGEST_ORDER_SIZE', 'MASTER_CLASSES_ATTENDED', 'MEDIAN_MEAL_RATING', 'AVG_CLICKS_PER_VISIT', 'TOTAL_PHOTOS_VIEWED'], dtype='object')\n"
     ]
    }
   ],
   "source": [
    "# column names\n",
    "print(meals.columns)"
   ]
  },
  {
   "cell_type": "code",
   "execution_count": 3,
   "metadata": {
    "ExecuteTime": {
     "end_time": "2021-02-15T16:05:37.792885Z",
     "start_time": "2021-02-15T16:05:37.777716Z"
    }
   },
   "outputs": [],
   "source": [
    "# converting column names to first letter cap only\n",
    "col_lst = []\n",
    "\n",
    "for col in meals.columns:\n",
    "    col_lst.append(col.capitalize())\n",
    "    \n",
    "meals.columns = col_lst"
   ]
  },
  {
   "cell_type": "code",
   "execution_count": 4,
   "metadata": {
    "ExecuteTime": {
     "end_time": "2021-02-15T16:05:37.811599Z",
     "start_time": "2021-02-15T16:05:37.793881Z"
    }
   },
   "outputs": [],
   "source": [
    "#Renaming the mislabelled column LARGEST_ORDER_SIZE to AVG_MEAL_ORDERED\n",
    "\n",
    "meals.rename(columns={'Largest_order_size':'Avg_meal_ordered'}, inplace=True)\n"
   ]
  },
  {
   "cell_type": "markdown",
   "metadata": {},
   "source": [
    "## Feature Engineering"
   ]
  },
  {
   "cell_type": "markdown",
   "metadata": {},
   "source": [
    "### Developing Flag Based Feature Engineering"
   ]
  },
  {
   "cell_type": "code",
   "execution_count": 5,
   "metadata": {
    "ExecuteTime": {
     "end_time": "2021-02-15T16:05:41.117442Z",
     "start_time": "2021-02-15T16:05:37.812627Z"
    }
   },
   "outputs": [],
   "source": [
    "# dummy variable for viewing a photo and attending master classes.\n",
    "meals['has_Total_photos_viewed']   = 0\n",
    "meals['has_Master_classes_attended'] = 0\n",
    "meals['has_cancellations_before_noon'] = 0\n",
    "meals['has_cancellations_after_noon'] = 0\n",
    "meals['has_Late_delivery'] = 0\n",
    "meals['has_Early_delivery'] = 0\n",
    "\n",
    "for index, value in meals.iterrows():\n",
    "    \n",
    "    # Total_photos_viewed\n",
    "    if meals.loc[index, 'Total_photos_viewed'] > 0:\n",
    "        meals.loc[index, 'has_Total_photos_viewed'] = 1\n",
    "\n",
    "\n",
    "    # Master_classes_attended\n",
    "    if meals.loc[index, 'Master_classes_attended'] > 0:\n",
    "        meals.loc[index, 'has_Master_classes_attended'] = 1\n",
    "    \n",
    "    # Cancellations_before_noon\n",
    "    if meals.loc[index, 'Cancellations_before_noon'] > 0:\n",
    "        meals.loc[index, 'has_cancellations_before_noon'] = 1\n",
    "        \n",
    "    # Cancellations_after_noon\n",
    "    if meals.loc[index, 'Cancellations_after_noon'] > 0:\n",
    "        meals.loc[index, 'has_cancellations_after_noon'] = 1\n",
    "    \n",
    "    # Late_delivery\n",
    "    if meals.loc[index, 'Late_deliveries'] > 0:\n",
    "        meals.loc[index, 'has_Late_delivery'] = 1\n",
    "    \n",
    "    # Early_delivery\n",
    "    if meals.loc[index, 'Early_deliveries'] > 0:\n",
    "        meals.loc[index, 'has_Early_delivery'] = 1\n",
    "        \n",
    "        "
   ]
  },
  {
   "cell_type": "code",
   "execution_count": 6,
   "metadata": {
    "ExecuteTime": {
     "end_time": "2021-02-15T16:05:41.146278Z",
     "start_time": "2021-02-15T16:05:41.122952Z"
    }
   },
   "outputs": [],
   "source": [
    "# one hot encoding categorical variables\n",
    "one_hot_Median_meal_rating   = pd.get_dummies(meals['Median_meal_rating'])\n",
    "\n",
    "\n",
    "# dropping categorical variables after they've been encoded\n",
    "meals = meals.drop('Median_meal_rating', axis = 1)\n",
    "\n",
    "\n",
    "# joining codings together\n",
    "meals = meals.join([one_hot_Median_meal_rating])\n",
    "\n",
    "\n",
    "# saving new columns\n",
    "new_columns = meals.columns\n"
   ]
  },
  {
   "cell_type": "code",
   "execution_count": 7,
   "metadata": {
    "ExecuteTime": {
     "end_time": "2021-02-15T16:05:42.409706Z",
     "start_time": "2021-02-15T16:05:41.150272Z"
    }
   },
   "outputs": [],
   "source": [
    "#Creating outlier flags\n",
    "# dummy variable for contacting customer service more than 10 times\n",
    "meals['more_contacts_with_cust_service'] = 0\n",
    "\n",
    "for index, value in meals.iterrows():\n",
    "    \n",
    "    \n",
    "    if meals.loc[index, 'Contacts_w_customer_service'] > 10:\n",
    "        meals.loc[index, 'more_contacts_with_cust_service'] = 1\n",
    "        \n",
    "\n",
    "# dummy variable for subscribing to more than one weekly plan\n",
    "meals['more_weekly_plan'] = 0\n",
    "\n",
    "for index, value in meals.iterrows():\n",
    "    \n",
    "    \n",
    "    if meals.loc[index, 'Weekly_plan'] > 1:\n",
    "        meals.loc[index, 'more_weekly_plan'] = 1\n",
    "\n",
    "\n"
   ]
  },
  {
   "cell_type": "code",
   "execution_count": 8,
   "metadata": {
    "ExecuteTime": {
     "end_time": "2021-02-15T16:05:42.465052Z",
     "start_time": "2021-02-15T16:05:42.409706Z"
    }
   },
   "outputs": [
    {
     "name": "stdout",
     "output_type": "stream",
     "text": [
      " \n",
      "Number of Outliers flagged: 76\n",
      "\n"
     ]
    }
   ],
   "source": [
    "meals['Outliers'] = 0\n",
    "\n",
    "# If the z-value of a variable in a column is greater than 3, it is flagged as an outlier\n",
    "\n",
    "for index, value in meals[(np.abs(stats.zscore(meals['Total_meals_ordered'])) > 3)].iterrows():\n",
    "    meals.loc[index,'Outliers'] = 1\n",
    "\n",
    "for index, value in meals[(np.abs(stats.zscore(meals['Avg_prep_vid_time'])) > 3)].iterrows():\n",
    "    meals.loc[index,'Outliers'] = 1\n",
    "\n",
    "for index, value in meals[(np.abs(stats.zscore(meals['Revenue'])) > 3)].iterrows():\n",
    "    meals.loc[index,'Outliers'] = 1\n",
    "    \n",
    "print(f\"\"\" \n",
    "Number of Outliers flagged: {meals['Outliers'].sum()}\n",
    "\"\"\")"
   ]
  },
  {
   "cell_type": "markdown",
   "metadata": {},
   "source": [
    "### Transforming Variables to Log"
   ]
  },
  {
   "cell_type": "code",
   "execution_count": 9,
   "metadata": {
    "ExecuteTime": {
     "end_time": "2021-02-15T16:05:42.492402Z",
     "start_time": "2021-02-15T16:05:42.466049Z"
    }
   },
   "outputs": [],
   "source": [
    "#Transforming Variables to Log\n",
    "meals['log_Revenue'] = np.log10(meals['Revenue'])\n",
    "\n",
    "meals['log_Total_meals_ordered'] = np.log10(meals ['Total_meals_ordered'])\n",
    "\n",
    "meals['log_Avg_clicks_per_visit'] = np.log10(meals ['Avg_clicks_per_visit'])\n",
    "\n",
    "meals['Total_Logins'] = meals['Pc_logins'] + meals['Mobile_logins']"
   ]
  },
  {
   "cell_type": "markdown",
   "metadata": {},
   "source": [
    "### Feature Engineering Based on Relationships with variables"
   ]
  },
  {
   "cell_type": "code",
   "execution_count": 10,
   "metadata": {
    "ExecuteTime": {
     "end_time": "2021-02-15T16:05:42.509779Z",
     "start_time": "2021-02-15T16:05:42.494666Z"
    }
   },
   "outputs": [],
   "source": [
    "# Create new variable with the average time of videos seen by meal bought\n",
    "meals['Avg_vidtime_vs_meal'] = meals['Avg_prep_vid_time'] / meals['Total_meals_ordered']\n",
    "\n",
    "# Create new variable with the average meal ordered over unique meal purchase\n",
    "meals['Avg_meal_ordered_vs_purch'] = meals['Avg_meal_ordered'] \\\n",
    "                                            / meals['Unique_meals_purch']"
   ]
  },
  {
   "cell_type": "markdown",
   "metadata": {},
   "source": [
    "### Email Split"
   ]
  },
  {
   "cell_type": "markdown",
   "metadata": {},
   "source": [
    "%pip install gender_guesser\n"
   ]
  },
  {
   "cell_type": "code",
   "execution_count": 11,
   "metadata": {
    "ExecuteTime": {
     "end_time": "2021-02-15T16:05:42.674344Z",
     "start_time": "2021-02-15T16:05:42.511160Z"
    }
   },
   "outputs": [
    {
     "data": {
      "text/html": [
       "<div>\n",
       "<style scoped>\n",
       "    .dataframe tbody tr th:only-of-type {\n",
       "        vertical-align: middle;\n",
       "    }\n",
       "\n",
       "    .dataframe tbody tr th {\n",
       "        vertical-align: top;\n",
       "    }\n",
       "\n",
       "    .dataframe thead th {\n",
       "        text-align: right;\n",
       "    }\n",
       "</style>\n",
       "<table border=\"1\" class=\"dataframe\">\n",
       "  <thead>\n",
       "    <tr style=\"text-align: right;\">\n",
       "      <th></th>\n",
       "      <th>0</th>\n",
       "      <th>1</th>\n",
       "    </tr>\n",
       "  </thead>\n",
       "  <tbody>\n",
       "    <tr>\n",
       "      <th>0</th>\n",
       "      <td>saathos</td>\n",
       "      <td>unitedhealth.com</td>\n",
       "    </tr>\n",
       "    <tr>\n",
       "      <th>1</th>\n",
       "      <td>alysanne.osgrey</td>\n",
       "      <td>ge.org</td>\n",
       "    </tr>\n",
       "    <tr>\n",
       "      <th>2</th>\n",
       "      <td>edwyd.fossoway</td>\n",
       "      <td>jnj.com</td>\n",
       "    </tr>\n",
       "    <tr>\n",
       "      <th>3</th>\n",
       "      <td>eleyna.westerling</td>\n",
       "      <td>ge.org</td>\n",
       "    </tr>\n",
       "    <tr>\n",
       "      <th>4</th>\n",
       "      <td>elyn.norridge</td>\n",
       "      <td>jnj.com</td>\n",
       "    </tr>\n",
       "    <tr>\n",
       "      <th>...</th>\n",
       "      <td>...</td>\n",
       "      <td>...</td>\n",
       "    </tr>\n",
       "    <tr>\n",
       "      <th>1941</th>\n",
       "      <td>obara.sand</td>\n",
       "      <td>yahoo.com</td>\n",
       "    </tr>\n",
       "    <tr>\n",
       "      <th>1942</th>\n",
       "      <td>quentyn.blackwood</td>\n",
       "      <td>yahoo.com</td>\n",
       "    </tr>\n",
       "    <tr>\n",
       "      <th>1943</th>\n",
       "      <td>rhonda.rowan</td>\n",
       "      <td>gmail.com</td>\n",
       "    </tr>\n",
       "    <tr>\n",
       "      <th>1944</th>\n",
       "      <td>turnip</td>\n",
       "      <td>yahoo.com</td>\n",
       "    </tr>\n",
       "    <tr>\n",
       "      <th>1945</th>\n",
       "      <td>tommard.heddle</td>\n",
       "      <td>merck.com</td>\n",
       "    </tr>\n",
       "  </tbody>\n",
       "</table>\n",
       "<p>1946 rows × 2 columns</p>\n",
       "</div>"
      ],
      "text/plain": [
       "                      0                 1\n",
       "0               saathos  unitedhealth.com\n",
       "1       alysanne.osgrey            ge.org\n",
       "2        edwyd.fossoway           jnj.com\n",
       "3     eleyna.westerling            ge.org\n",
       "4         elyn.norridge           jnj.com\n",
       "...                 ...               ...\n",
       "1941         obara.sand         yahoo.com\n",
       "1942  quentyn.blackwood         yahoo.com\n",
       "1943       rhonda.rowan         gmail.com\n",
       "1944             turnip         yahoo.com\n",
       "1945     tommard.heddle         merck.com\n",
       "\n",
       "[1946 rows x 2 columns]"
      ]
     },
     "execution_count": 11,
     "metadata": {},
     "output_type": "execute_result"
    }
   ],
   "source": [
    "# STEP 1: splitting personal emails\n",
    "\n",
    "# placeholder list\n",
    "placeholder_lst = []\n",
    "\n",
    "# looping over each email address\n",
    "for index, col in meals.iterrows():\n",
    "    \n",
    "    # splitting email domain at '@'\n",
    "    split_email = meals.loc[index, 'Email'].split(sep = '@')\n",
    "    \n",
    "    # appending placeholder_lst with the results\n",
    "    placeholder_lst.append(split_email)\n",
    "    \n",
    "\n",
    "# converting placeholder_lst into a DataFrame \n",
    "email_df = pd.DataFrame(placeholder_lst)\n",
    "\n",
    "\n",
    "# displaying the results\n",
    "email_df"
   ]
  },
  {
   "cell_type": "code",
   "execution_count": 12,
   "metadata": {
    "ExecuteTime": {
     "end_time": "2021-02-15T16:05:42.698576Z",
     "start_time": "2021-02-15T16:05:42.676041Z"
    }
   },
   "outputs": [
    {
     "data": {
      "text/plain": [
       "gmail.com           303\n",
       "protonmail.com      284\n",
       "yahoo.com           274\n",
       "msn.com              72\n",
       "aol.com              69\n",
       "passport.com         64\n",
       "hotmail.com          63\n",
       "live.com             62\n",
       "me.com               59\n",
       "amex.com             30\n",
       "mcdonalds.com        28\n",
       "jnj.com              28\n",
       "cocacola.com         28\n",
       "merck.com            28\n",
       "nike.com             27\n",
       "apple.com            27\n",
       "ibm.com              26\n",
       "ge.org               26\n",
       "dupont.com           26\n",
       "microsoft.com        25\n",
       "chevron.com          25\n",
       "exxon.com            24\n",
       "travelers.com        24\n",
       "unitedhealth.com     24\n",
       "boeing.com           23\n",
       "verizon.com          22\n",
       "pg.com               22\n",
       "caterpillar.com      22\n",
       "mmm.com              22\n",
       "disney.com           21\n",
       "walmart.com          21\n",
       "pfizer.com           20\n",
       "visa.com             20\n",
       "jpmorgan.com         19\n",
       "goldmansacs.com      18\n",
       "cisco.com            18\n",
       "unitedtech.com       18\n",
       "homedepot.com        17\n",
       "intel.com            17\n",
       "Name: email_domain, dtype: int64"
      ]
     },
     "execution_count": 12,
     "metadata": {},
     "output_type": "execute_result"
    }
   ],
   "source": [
    "# STEP 2: concatenating with original DataFrame\n",
    "\n",
    "# renaming column to concatenate\n",
    "email_df.columns = ['0' , 'email_domain']\n",
    "\n",
    "\n",
    "# concatenating personal_email_domain with friends DataFrame\n",
    "meals = pd.concat([meals, email_df['email_domain']],\n",
    "                   axis = 1)\n",
    "\n",
    "\n",
    "# printing value counts of personal_email_domain\n",
    "meals.loc[: ,'email_domain'].value_counts()\n"
   ]
  },
  {
   "cell_type": "code",
   "execution_count": 13,
   "metadata": {
    "ExecuteTime": {
     "end_time": "2021-02-15T16:05:42.722634Z",
     "start_time": "2021-02-15T16:05:42.701165Z"
    }
   },
   "outputs": [
    {
     "data": {
      "text/plain": [
       "personal        861\n",
       "professional    696\n",
       "junk            389\n",
       "Name: domain_group, dtype: int64"
      ]
     },
     "execution_count": 13,
     "metadata": {},
     "output_type": "execute_result"
    }
   ],
   "source": [
    "# email domain types\n",
    "professional_email_domains = ['@mmm.com', '@amex.com', '@apple.com',\n",
    "                              '@boeing.com', '@caterpillar.com', \n",
    "                              '@chevron.com','@cisco.com','@cocacola.com',\n",
    "                              '@disney.com','@dupont.com','@exxon.com',\n",
    "                              '@ge.org','@goldmansacs.com','@homedepot.com',\n",
    "                              '@ibm.com','@intel.com','@jnj.com',\n",
    "                              '@jpmorgan.com','@mcdonalds.com', '@merck.com',\n",
    "                              '@microsoft.com','@nike.com','@pfizer.com',\n",
    "                              '@pg.com','@travelers.com','@unitedtech.com',\n",
    "                              '@unitedhealth.com','@verizon.com','@visa.com',\n",
    "                              '@walmart.com']\n",
    "personal_email_domains = ['@gmail.com', '@yahoo.com','@protonmail.com']\n",
    "junk_email_domains  = ['@me.com','@aol.com','@hotmail.com','@live.com',\n",
    "                       '@msn.com','@passport.com']\n",
    "\n",
    "\n",
    "# placeholder list\n",
    "placeholder_lst = []\n",
    "\n",
    "\n",
    "# looping to group observations by domain type\n",
    "for domain in meals['email_domain']:\n",
    "        if '@' + domain in professional_email_domains:\n",
    "            placeholder_lst.append('professional')\n",
    "            \n",
    "        elif '@' + domain in personal_email_domains:\n",
    "            placeholder_lst.append('personal')\n",
    "        \n",
    "        elif '@' + domain in junk_email_domains:\n",
    "            placeholder_lst.append('junk')\n",
    "            \n",
    "        else:\n",
    "            print('Unknown')\n",
    "\n",
    "\n",
    "# concatenating with original DataFrame\n",
    "meals['domain_group'] = pd.Series(placeholder_lst)\n",
    "\n",
    "\n",
    "# checking results\n",
    "meals['domain_group'].value_counts()"
   ]
  },
  {
   "cell_type": "code",
   "execution_count": 14,
   "metadata": {
    "ExecuteTime": {
     "end_time": "2021-02-15T16:05:42.740573Z",
     "start_time": "2021-02-15T16:05:42.723911Z"
    }
   },
   "outputs": [],
   "source": [
    "# one hot encoding for Email domains\n",
    "one_hot_Email       = pd.get_dummies(meals['domain_group'])\n",
    "\n",
    "\n",
    "# dropping categorical variables after they've been encoded\n",
    "meals = meals.drop('domain_group', axis = 1)\n",
    "\n",
    "# joining codings together\n",
    "meals = meals.join([one_hot_Email])\n",
    "\n",
    "\n",
    "# saving new columns\n",
    "new_columns = meals.columns"
   ]
  },
  {
   "cell_type": "markdown",
   "metadata": {
    "deletable": false,
    "editable": false
   },
   "source": [
    "### Gender Guesser"
   ]
  },
  {
   "cell_type": "code",
   "execution_count": 15,
   "metadata": {
    "ExecuteTime": {
     "end_time": "2021-02-15T16:05:44.751128Z",
     "start_time": "2021-02-15T16:05:42.741601Z"
    }
   },
   "outputs": [],
   "source": [
    "### Commented out to speed up the execution ###\n",
    "\n",
    "# # guessing gender based on (given) name\n",
    "\n",
    "# # placeholder list\n",
    "placeholder_lst = []\n",
    "\n",
    "\n",
    "# looping to guess gender\n",
    "#for name in meals[\"First_name\"]:\n",
    "#    guess = gender.Detector().get_gender(name)\n",
    "#    placeholder_lst.append(guess)\n",
    "\n",
    "\n",
    "# print results\n",
    "# print(placeholder_lst)\n",
    "\n",
    "# Copied results for faster execution\n",
    "placeholder_lst = ['unknown', 'unknown', 'unknown', 'unknown', 'unknown', \n",
    "'female', 'unknown', 'unknown', 'unknown', 'unknown', 'unknown', 'unknown',\n",
    "'unknown', 'unknown', 'unknown', 'unknown', 'unknown', 'unknown', 'male',\n",
    "'unknown', 'female', 'male', 'unknown', 'male', 'unknown', 'unknown', \n",
    "'unknown', 'unknown', 'unknown', 'male', 'unknown', 'male', 'unknown', \n",
    "'unknown', 'unknown', 'unknown', 'female', 'unknown', 'unknown', 'unknown', \n",
    "'unknown', 'male', 'male', 'unknown', 'male', 'unknown', 'male', 'unknown', \n",
    "'unknown', 'unknown', 'male', 'male', 'unknown', 'unknown', 'male', 'male',\n",
    "'unknown', 'unknown', 'unknown', 'unknown', 'unknown', 'unknown', 'unknown',\n",
    "'male', 'male', 'unknown', 'unknown', 'mostly_male', 'female', 'unknown', \n",
    "'male', 'male', 'unknown', 'male', 'unknown', 'unknown', 'unknown', 'male', \n",
    "'unknown', 'unknown', 'male', 'unknown', 'unknown', 'unknown', 'unknown', \n",
    "'mostly_male', 'unknown', 'unknown', 'unknown', 'unknown', 'unknown',\n",
    "'unknown', 'male', 'male', 'male', 'unknown', 'male', 'unknown', 'unknown',\n",
    "'male', 'male', 'male', 'female', 'unknown', 'unknown', 'male', 'unknown', \n",
    "'unknown', 'unknown', 'female', 'unknown', 'male', 'unknown', 'male',\n",
    "'unknown', 'female', 'male', 'unknown', 'unknown', 'male', 'unknown',\n",
    "'unknown', 'unknown', 'unknown', 'unknown', 'female', 'male', 'female', \n",
    "'female', 'unknown', 'male', 'unknown', 'male', 'unknown', 'male', 'unknown',\n",
    "'unknown', 'unknown', 'unknown', 'unknown', 'unknown', 'unknown', 'unknown', \n",
    "'unknown', 'unknown', 'unknown', 'unknown', 'male', 'unknown', 'unknown', \n",
    "'unknown', 'male', 'unknown', 'unknown', 'unknown', 'unknown', 'unknown', \n",
    "'male', 'female', 'unknown', 'andy', 'unknown', 'unknown', 'unknown',\n",
    "'unknown', 'male', 'mostly_male', 'unknown', 'unknown', 'male', 'unknown', \n",
    "'male', 'unknown', 'unknown', 'unknown', 'unknown', 'unknown', 'mostly_male',\n",
    "'unknown', 'mostly_male', 'male', 'unknown', 'unknown', 'unknown', 'unknown',\n",
    "'unknown', 'unknown', 'male', 'male', 'unknown', 'unknown', 'female', \n",
    "'unknown', 'male', 'unknown', 'unknown', 'male', 'unknown', 'male', \n",
    "'unknown', 'unknown', 'unknown', 'female', 'unknown', 'unknown', 'unknown',\n",
    "'unknown', 'male', 'male', 'unknown', 'unknown', 'unknown', 'unknown', 'male',\n",
    "'unknown', 'male', 'unknown', 'female', 'unknown', 'unknown', 'unknown', \n",
    "'male', 'unknown', 'mostly_male', 'unknown', 'unknown', 'male', 'unknown', \n",
    "'unknown', 'unknown', 'unknown', 'male', 'unknown', 'unknown', 'unknown', \n",
    "'male', 'unknown', 'unknown', 'female', 'unknown', 'unknown', 'unknown',\n",
    "'unknown', 'unknown', 'male', 'unknown', 'female', 'unknown', 'unknown',\n",
    "'male', 'unknown', 'unknown', 'unknown', 'male', 'unknown', 'unknown', \n",
    "'unknown', 'unknown', 'unknown', 'unknown', 'unknown', 'unknown', 'unknown', \n",
    "'unknown', 'unknown', 'unknown', 'unknown', 'male', 'unknown', 'unknown', \n",
    "'unknown', 'unknown', 'male', 'unknown', 'unknown', 'unknown', 'unknown', \n",
    "'unknown', 'female', 'unknown', 'male', 'unknown', 'male', 'unknown', 'male',\n",
    "'male', 'unknown', 'unknown', 'unknown', 'unknown', 'unknown', 'unknown', \n",
    "'unknown', 'male', 'unknown', 'unknown', 'unknown', 'unknown', 'unknown', \n",
    "'male', 'male', 'unknown', 'male', 'unknown', 'unknown', 'unknown', 'unknown',\n",
    "'male', 'female', 'unknown', 'unknown', 'unknown', 'unknown', 'unknown', \n",
    "'male', 'unknown', 'unknown', 'unknown', 'unknown', 'unknown', 'unknown',\n",
    "'male', 'unknown', 'unknown', 'unknown', 'unknown', 'unknown', 'male', 'male', \n",
    "'unknown', 'unknown', 'mostly_male', 'male', 'unknown', 'unknown', 'unknown',\n",
    "'unknown', 'unknown', 'unknown', 'unknown', 'unknown', 'unknown', 'unknown', \n",
    "'male', 'unknown', 'unknown', 'unknown', 'unknown', 'unknown', 'unknown', \n",
    "'unknown', 'male', 'unknown', 'unknown', 'unknown', 'unknown', 'male', \n",
    "'unknown', 'unknown', 'unknown', 'unknown', 'unknown', 'unknown', \n",
    "'mostly_female', 'unknown', 'unknown', 'andy', 'unknown', 'unknown',\n",
    "'female', 'male', 'unknown', 'unknown', 'unknown', 'unknown', 'unknown', \n",
    "'unknown', 'unknown', 'unknown', 'unknown', 'unknown', 'unknown', 'unknown', \n",
    "'mostly_male', 'unknown', 'unknown', 'male', 'unknown', 'unknown', 'unknown',\n",
    "'male', 'unknown', 'unknown', 'unknown', 'male', 'unknown', 'unknown', \n",
    "'unknown', 'unknown', 'unknown', 'unknown', 'unknown', 'unknown', 'unknown', \n",
    "'female', 'unknown', 'unknown', 'unknown', 'unknown', 'unknown', 'unknown', \n",
    "'unknown', 'unknown', 'mostly_female', 'unknown', 'male', 'male', 'unknown',\n",
    "'unknown', 'male', 'unknown', 'unknown', 'unknown', 'andy', 'male', 'unknown', \n",
    "'unknown', 'male', 'male', 'female', 'female', 'unknown', 'unknown', 'male',\n",
    "'unknown', 'male', 'unknown', 'unknown', 'male', 'male', 'unknown', 'unknown', \n",
    "'unknown', 'unknown', 'female', 'unknown', 'unknown', 'unknown', 'male', \n",
    "'unknown', 'unknown', 'unknown', 'unknown', 'unknown', 'mostly_female', \n",
    "'female', 'unknown', 'male', 'female', 'unknown', 'unknown', 'unknown', \n",
    "'female', 'male', 'unknown', 'female', 'unknown', 'unknown', 'unknown', \n",
    "'unknown', 'unknown', 'male', 'unknown', 'unknown', 'unknown', 'unknown',\n",
    "'unknown', 'unknown', 'unknown', 'male', 'male', 'unknown', 'unknown', \n",
    "'unknown', 'unknown', 'unknown', 'unknown', 'female', 'female', 'unknown',\n",
    "'male', 'unknown', 'unknown', 'unknown', 'unknown', 'unknown', 'unknown', \n",
    "'unknown', 'unknown', 'female', 'male', 'unknown', 'unknown', 'male', 'male',\n",
    "'unknown', 'unknown', 'unknown', 'unknown', 'unknown', 'unknown', 'unknown',\n",
    "'unknown', 'unknown', 'unknown', 'unknown', 'unknown', 'unknown', 'unknown', \n",
    "'unknown', 'unknown', 'unknown', 'unknown', 'unknown', 'unknown', 'unknown', \n",
    "'female', 'unknown', 'unknown', 'unknown', 'unknown', 'unknown', 'female', \n",
    "'unknown', 'unknown', 'unknown', 'unknown', 'female', 'unknown', 'unknown', \n",
    "'unknown', 'unknown', 'mostly_female', 'unknown', 'unknown', 'unknown', \n",
    "'unknown', 'mostly_female', 'mostly_female', 'male', 'unknown', 'unknown', \n",
    "'unknown', 'male', 'unknown', 'unknown', 'unknown', 'unknown', 'unknown', \n",
    "'unknown', 'unknown', 'unknown', 'unknown', 'unknown', 'unknown', 'unknown', \n",
    "'unknown', 'female', 'female', 'female', 'male', 'unknown', 'unknown', \n",
    "'unknown', 'unknown', 'unknown', 'male', 'unknown', 'male', 'female', \n",
    "'unknown', 'unknown', 'unknown', 'male', 'unknown', 'unknown', 'unknown', \n",
    "'unknown', 'male', 'unknown', 'unknown', 'unknown', 'male', 'unknown', \n",
    "'unknown', 'unknown', 'female', 'male', 'male', 'unknown', 'unknown', \n",
    "'unknown', 'unknown', 'unknown', 'unknown', 'unknown', 'male', 'unknown',\n",
    "'unknown', 'male', 'unknown', 'male', 'male', 'unknown', 'unknown', 'unknown', \n",
    "'unknown', 'unknown', 'unknown', 'unknown', 'unknown', 'unknown', 'male', \n",
    "'unknown', 'unknown', 'male', 'male', 'male', 'male', 'male', 'male', 'male',\n",
    "'unknown', 'unknown', 'unknown', 'unknown', 'unknown', 'unknown', 'unknown', \n",
    "'unknown', 'unknown', 'unknown', 'male', 'female', 'unknown', 'unknown', \n",
    "'female', 'unknown', 'unknown', 'unknown', 'unknown', 'unknown', 'unknown', \n",
    "'mostly_female', 'mostly_female', 'unknown', 'male', 'unknown', 'female', \n",
    "'unknown', 'female', 'unknown', 'unknown', 'unknown', 'unknown', 'unknown', \n",
    "'unknown', 'unknown', 'unknown', 'male', 'unknown', 'male', 'female',\n",
    "'unknown', 'unknown', 'unknown', 'female', 'unknown', 'unknown', 'unknown', \n",
    "'male', 'male', 'unknown', 'unknown', 'unknown', 'unknown', 'unknown', \n",
    "'unknown', 'unknown', 'unknown', 'unknown', 'unknown', 'unknown', 'unknown', \n",
    "'male', 'unknown', 'unknown', 'male', 'male', 'unknown', 'female', 'male',\n",
    "'unknown', 'unknown', 'unknown', 'unknown', 'unknown', 'unknown', 'female', \n",
    "'unknown', 'unknown', 'male', 'male', 'male', 'male', 'unknown', 'unknown', \n",
    "'male', 'unknown', 'unknown', 'unknown', 'unknown', 'unknown', 'unknown', \n",
    "'unknown', 'male', 'unknown', 'male', 'unknown', 'unknown', 'unknown', \n",
    "'unknown', 'unknown', 'male', 'male', 'female', 'male', 'male', 'male', \n",
    "'unknown', 'unknown', 'unknown', 'unknown', 'unknown', 'unknown', 'unknown', \n",
    "'unknown', 'male', 'unknown', 'unknown', 'unknown', 'unknown', 'unknown', \n",
    "'unknown', 'male', 'male', 'unknown', 'unknown', 'unknown', 'unknown', \n",
    "'unknown', 'unknown', 'unknown', 'unknown', 'unknown', 'unknown', 'female', \n",
    "'unknown', 'male', 'unknown', 'unknown', 'male', 'unknown', 'female', \n",
    "'unknown', 'unknown', 'unknown', 'unknown', 'unknown', 'male', 'unknown', \n",
    "'unknown', 'unknown', 'unknown', 'unknown', 'male', 'unknown', 'male', \n",
    "'unknown', 'unknown', 'unknown', 'unknown', 'unknown', 'unknown', 'male', \n",
    "'unknown', 'unknown', 'unknown', 'male', 'unknown', 'male', 'male', 'male', \n",
    "'mostly_male', 'male', 'male', 'male', 'male', 'mostly_male', 'unknown', \n",
    "'unknown', 'unknown', 'unknown', 'unknown', 'female', 'male', 'unknown', \n",
    "'unknown', 'unknown', 'male', 'unknown', 'unknown', 'unknown', 'male', 'male',\n",
    "'unknown', 'unknown', 'unknown', 'male', 'unknown', 'unknown', 'unknown',\n",
    "'unknown', 'unknown', 'unknown', 'male', 'unknown', 'unknown', 'unknown', \n",
    "'male', 'male', 'unknown', 'male', 'unknown', 'unknown', 'andy', 'unknown', \n",
    "'male', 'unknown', 'unknown', 'unknown', 'male', 'unknown', 'male', 'unknown',\n",
    "'unknown', 'unknown', 'male', 'unknown', 'unknown', 'unknown', 'mostly_male',\n",
    "'unknown', 'unknown', 'unknown', 'unknown', 'unknown', 'unknown', 'unknown',\n",
    "'unknown', 'male', 'female', 'unknown', 'male', 'unknown', 'male', 'unknown', \n",
    "'unknown', 'unknown', 'male', 'male', 'mostly_male', 'unknown', 'unknown',\n",
    "'unknown', 'unknown', 'unknown', 'unknown', 'unknown', 'unknown', 'unknown',\n",
    "'unknown', 'unknown', 'unknown', 'unknown', 'male', 'male', 'unknown',\n",
    "'unknown', 'unknown', 'unknown', 'unknown', 'unknown', 'unknown', 'male', \n",
    "'male', 'unknown', 'unknown', 'unknown', 'unknown', 'unknown', 'unknown', \n",
    "'unknown', 'unknown', 'unknown', 'unknown', 'unknown', 'male', 'unknown', \n",
    "'unknown', 'unknown', 'unknown', 'unknown', 'female', 'male', 'unknown',\n",
    "'unknown', 'unknown', 'unknown', 'female', 'unknown', 'male', 'unknown',\n",
    "'unknown', 'unknown', 'unknown', 'unknown', 'male', 'unknown', 'unknown',\n",
    "'unknown', 'unknown', 'unknown', 'unknown', 'unknown', 'unknown', 'female',\n",
    "'female', 'unknown', 'unknown', 'unknown', 'unknown', 'unknown', 'unknown',\n",
    "'female', 'unknown', 'male', 'male', 'male', 'unknown', 'unknown', 'unknown',\n",
    "'unknown', 'unknown', 'unknown', 'unknown', 'female', 'unknown', 'unknown',\n",
    "'unknown', 'unknown', 'male', 'unknown', 'male', 'unknown', 'male', 'unknown',\n",
    "'male', 'female', 'unknown', 'unknown', 'unknown', 'unknown', 'unknown', \n",
    "'male', 'unknown', 'female', 'female', 'male', 'male', 'female', 'female', \n",
    "'unknown', 'unknown', 'unknown', 'unknown', 'unknown', 'unknown', 'unknown', \n",
    "'unknown', 'unknown', 'unknown', 'unknown', 'unknown', 'unknown', 'unknown', \n",
    "'unknown', 'unknown', 'unknown', 'mostly_male', 'unknown', 'unknown', \n",
    "'unknown', 'unknown', 'unknown', 'female', 'unknown', 'unknown', 'unknown',\n",
    "'unknown', 'unknown', 'mostly_male', 'unknown', 'unknown', 'unknown', \n",
    "'female', 'unknown', 'unknown', 'unknown', 'unknown', 'male', 'unknown',\n",
    "'unknown', 'unknown', 'unknown', 'unknown', 'female', 'unknown', 'male', \n",
    "'andy', 'unknown', 'unknown', 'unknown', 'unknown', 'unknown', 'unknown', \n",
    "'male', 'unknown', 'unknown', 'unknown', 'unknown', 'unknown', 'unknown', \n",
    "'unknown', 'male', 'unknown', 'female', 'unknown', 'male', 'unknown', \n",
    "'unknown', 'unknown', 'unknown', 'unknown', 'unknown', 'unknown', 'unknown', \n",
    "'unknown', 'unknown', 'unknown', 'unknown', 'male', 'unknown', 'female', \n",
    "'unknown', 'unknown', 'unknown', 'unknown', 'unknown', 'unknown', 'unknown',\n",
    "'unknown', 'unknown', 'female', 'unknown', 'unknown', 'male', 'unknown',\n",
    "'male', 'unknown', 'unknown', 'unknown', 'unknown', 'unknown', 'male', \n",
    "'male', 'male', 'male', 'unknown', 'female', 'unknown', 'unknown', 'male', \n",
    "'male', 'unknown', 'unknown', 'unknown', 'andy', 'unknown', 'female', 'male',\n",
    "'unknown', 'unknown', 'unknown', 'male', 'unknown', 'unknown', 'unknown', \n",
    "'male', 'male', 'male', 'unknown', 'unknown', 'unknown', 'unknown', 'male', \n",
    "'unknown', 'unknown', 'unknown', 'male', 'unknown', 'unknown', 'unknown',\n",
    "'unknown', 'unknown', 'unknown', 'unknown', 'unknown', 'female', 'female', \n",
    "'unknown', 'unknown', 'male', 'unknown', 'male', 'unknown', 'unknown',\n",
    "'unknown', 'mostly_male', 'male', 'male', 'male', 'unknown', 'male', \n",
    "'unknown', 'unknown', 'unknown', 'unknown', 'unknown', 'unknown', 'unknown', \n",
    "'unknown', 'male', 'unknown', 'unknown', 'unknown', 'unknown', 'unknown', \n",
    "'unknown', 'unknown', 'unknown', 'unknown', 'unknown', 'unknown', 'male',\n",
    "'unknown', 'unknown', 'unknown', 'unknown', 'unknown', 'male', 'unknown', \n",
    "'unknown', 'unknown', 'male', 'male', 'male', 'male', 'unknown', 'unknown',\n",
    "'unknown', 'female', 'unknown', 'unknown', 'male', 'unknown', 'male', \n",
    "'unknown', 'unknown', 'unknown', 'mostly_male', 'male', 'unknown', 'male', \n",
    "'unknown', 'unknown', 'female', 'unknown', 'male', 'unknown', 'unknown', \n",
    "'unknown', 'unknown', 'unknown', 'unknown', 'unknown', 'female', 'male', \n",
    "'male', 'unknown', 'male', 'male', 'male', 'male', 'unknown', 'unknown', \n",
    "'unknown', 'female', 'male', 'male', 'unknown', 'male', 'unknown', \n",
    "'mostly_female', 'male', 'unknown', 'unknown', 'female', 'male', 'unknown', \n",
    "'male', 'unknown', 'male', 'unknown', 'unknown', 'unknown', 'unknown', \n",
    "'unknown', 'unknown', 'male', 'male', 'unknown', 'unknown', 'unknown', \n",
    "'unknown', 'female', 'male', 'unknown', 'unknown', 'unknown', 'female', \n",
    "'male', 'male', 'unknown', 'unknown', 'unknown', 'unknown', 'unknown', \n",
    "'unknown', 'unknown', 'unknown', 'unknown', 'mostly_female', 'unknown', \n",
    "'unknown', 'unknown', 'unknown', 'male', 'male', 'male', 'male', 'female', \n",
    "'unknown', 'unknown', 'male', 'male', 'unknown', 'unknown', 'unknown',\n",
    "'unknown', 'unknown', 'unknown', 'unknown', 'unknown', 'unknown', 'unknown',\n",
    "'unknown', 'unknown', 'male', 'unknown', 'male', 'male', 'unknown', 'unknown',\n",
    "'unknown', 'unknown', 'male', 'unknown', 'unknown', 'female', 'unknown',\n",
    "'unknown', 'male', 'male', 'unknown', 'unknown', 'unknown', 'male', 'unknown', \n",
    "'male', 'unknown', 'unknown', 'unknown', 'female', 'unknown', 'mostly_male', \n",
    "'mostly_male', 'male', 'unknown', 'unknown', 'unknown', 'unknown', 'male',\n",
    "'unknown', 'male', 'unknown', 'female', 'male', 'male', 'unknown', 'unknown',\n",
    "'unknown', 'unknown', 'unknown', 'male', 'unknown', 'unknown', 'unknown', \n",
    "'unknown', 'unknown', 'male', 'unknown', 'unknown', 'unknown', 'unknown', \n",
    "'unknown', 'female', 'male', 'unknown', 'unknown', 'unknown', 'unknown', \n",
    "'unknown', 'unknown', 'male', 'male', 'unknown', 'unknown', 'male', 'male', \n",
    "'male', 'mostly_male', 'unknown', 'unknown', 'male', 'andy', 'unknown', \n",
    "'unknown', 'unknown', 'male', 'unknown', 'unknown', 'unknown', 'male',\n",
    "'unknown', 'unknown', 'unknown', 'unknown', 'unknown', 'male', 'unknown',\n",
    "'unknown', 'male', 'unknown', 'unknown', 'unknown', 'male', 'unknown', \n",
    "'unknown', 'unknown', 'male', 'unknown', 'unknown', 'unknown', \n",
    "'mostly_female', 'unknown', 'male', 'unknown', 'unknown', 'unknown', \n",
    "'unknown', 'unknown', 'male', 'unknown', 'unknown', 'unknown', 'male', \n",
    "'male', 'unknown', 'unknown', 'male', 'female', 'unknown', 'unknown', \n",
    "'female', 'unknown', 'unknown', 'unknown', 'female', 'unknown', 'unknown', \n",
    "'mostly_female', 'unknown', 'unknown', 'unknown', 'unknown', 'unknown', \n",
    "'unknown', 'female', 'unknown', 'female', 'male', 'female', 'mostly_female',\n",
    "'unknown', 'unknown', 'male', 'unknown', 'unknown', 'male', 'unknown', 'male',\n",
    "'male', 'unknown', 'unknown', 'male', 'male', 'unknown', 'unknown', 'unknown',\n",
    "'unknown', 'male', 'mostly_female', 'unknown', 'unknown', 'unknown', 'male',\n",
    "'unknown', 'unknown', 'unknown', 'unknown', 'unknown', 'male', 'unknown', \n",
    "'unknown', 'unknown', 'unknown', 'unknown', 'female', 'unknown', 'unknown', \n",
    "'unknown', 'unknown', 'unknown', 'unknown', 'unknown', 'unknown', 'unknown', \n",
    "'female', 'unknown', 'unknown', 'female', 'unknown', 'unknown', 'unknown', \n",
    "'female', 'female', 'unknown', 'unknown', 'unknown', 'unknown', 'unknown', \n",
    "'female', 'unknown', 'unknown', 'unknown', 'male', 'unknown', 'unknown', \n",
    "'unknown', 'unknown', 'male', 'unknown', 'unknown', 'unknown', 'unknown', \n",
    "'unknown', 'unknown', 'unknown', 'male', 'unknown', 'female', 'female', \n",
    "'female', 'unknown', 'unknown', 'unknown', 'male', 'unknown', 'unknown', \n",
    "'unknown', 'unknown', 'mostly_female', 'male', 'unknown', 'unknown', 'female',\n",
    "'unknown', 'unknown', 'unknown', 'unknown', 'male', 'mostly_female', \n",
    "'unknown', 'unknown', 'female', 'unknown', 'unknown', 'unknown', 'unknown', \n",
    "'unknown', 'unknown', 'unknown', 'unknown', 'unknown', 'unknown', 'unknown', \n",
    "'unknown', 'unknown', 'female', 'unknown', 'unknown', 'unknown', 'unknown', \n",
    "'unknown', 'unknown', 'unknown', 'unknown', 'unknown', 'female', \n",
    "'mostly_female', 'female', 'female', 'male', 'male', 'male', 'unknown', \n",
    "'unknown', 'mostly_female', 'unknown', 'unknown', 'male', 'male', 'unknown', \n",
    "'male', 'unknown', 'unknown', 'unknown', 'unknown', 'unknown', 'unknown', \n",
    "'unknown', 'unknown', 'unknown', 'unknown', 'unknown', 'unknown', 'male', \n",
    "'male', 'unknown', 'female', 'unknown', 'male', 'unknown', 'unknown', 'male',\n",
    "'unknown', 'male', 'unknown', 'unknown', 'unknown', 'unknown', 'unknown', \n",
    "'unknown', 'unknown', 'unknown', 'unknown', 'male', 'male', 'unknown', \n",
    "'unknown', 'unknown', 'unknown', 'unknown', 'male', 'female', 'unknown',\n",
    "'unknown', 'unknown', 'unknown', 'male', 'male', 'female', 'unknown', 'male',\n",
    "'unknown', 'unknown', 'male', 'male', 'unknown', 'unknown', 'male', 'unknown', \n",
    "'andy', 'unknown', 'unknown', 'male', 'male', 'male', 'unknown', 'male', \n",
    "'unknown', 'unknown', 'unknown', 'male', 'unknown', 'unknown', 'unknown', \n",
    "'unknown', 'unknown', 'unknown', 'unknown', 'male', 'unknown', 'female', \n",
    "'unknown', 'unknown', 'unknown', 'mostly_male', 'male', 'male', 'unknown',\n",
    "'male', 'unknown', 'mostly_male', 'female', 'unknown', 'male', 'unknown', \n",
    "'unknown', 'unknown', 'unknown', 'male', 'unknown', 'unknown', 'unknown', \n",
    "'unknown', 'unknown', 'unknown', 'male', 'male', 'unknown', 'unknown', \n",
    "'unknown', 'unknown', 'unknown', 'unknown', 'unknown', 'unknown', 'male', \n",
    "'unknown', 'unknown', 'unknown', 'female', 'unknown', 'unknown', 'unknown', \n",
    "'unknown', 'unknown', 'female', 'unknown', 'unknown', 'unknown', 'male', \n",
    "'male', 'unknown', 'unknown', 'unknown', 'male', 'unknown', 'unknown', \n",
    "'male', 'unknown', 'unknown', 'unknown', 'unknown', 'mostly_male', 'unknown',\n",
    "'unknown', 'unknown', 'unknown', 'unknown', 'unknown', 'unknown', 'female', \n",
    "'unknown', 'unknown', 'unknown', 'unknown', 'unknown', 'female', 'unknown', \n",
    "'unknown', 'unknown', 'unknown', 'unknown', 'male', 'unknown', 'unknown', \n",
    "'unknown', 'unknown', 'unknown', 'unknown', 'unknown', 'unknown', 'male', \n",
    "'unknown', 'unknown', 'unknown', 'unknown', 'unknown', 'mostly_female', \n",
    "'unknown', 'unknown', 'unknown', 'female', 'female', 'unknown', 'unknown',\n",
    "'unknown', 'mostly_male', 'unknown', 'unknown', 'unknown', 'unknown', \n",
    "'unknown', 'unknown', 'unknown', 'male', 'male', 'unknown', 'unknown', \n",
    "'unknown', 'unknown', 'unknown', 'female', 'unknown', 'unknown', 'male', \n",
    "'unknown', 'unknown', 'unknown', 'unknown', 'mostly_female', 'unknown', \n",
    "'unknown', 'female', 'unknown', 'unknown', 'unknown', 'unknown', 'male',\n",
    "'unknown', 'unknown', 'unknown', 'male', 'unknown', 'unknown', 'male', \n",
    "'male', 'unknown', 'female', 'unknown', 'unknown', 'male', 'male', 'male',\n",
    "'male', 'unknown', 'unknown', 'unknown', 'unknown', 'unknown', 'unknown', \n",
    "'unknown', 'unknown', 'unknown', 'unknown', 'unknown', 'unknown', 'unknown', \n",
    "'mostly_female', 'male', 'unknown', 'unknown', 'unknown', 'unknown', \n",
    "'unknown', 'andy', 'unknown', 'unknown', 'unknown', 'unknown', 'unknown', \n",
    "'male', 'unknown', 'unknown', 'unknown', 'unknown', 'unknown', 'unknown', \n",
    "'unknown', 'female', 'unknown', 'unknown', 'unknown', 'unknown', 'unknown', \n",
    "'unknown', 'female', 'unknown', 'unknown', 'unknown', 'male', 'unknown', \n",
    "'unknown', 'unknown', 'unknown', 'unknown', 'unknown', 'male', 'unknown',\n",
    "'unknown', 'unknown', 'unknown', 'unknown', 'unknown', 'unknown', 'unknown', \n",
    "'unknown', 'unknown', 'male', 'unknown', 'unknown', 'unknown', 'male',\n",
    "'mostly_male', 'unknown', 'male', 'male', 'unknown', 'unknown', 'male', \n",
    "'male', 'male', 'male', 'andy', 'unknown', 'unknown', 'female', 'unknown', \n",
    "'unknown', 'male', 'unknown', 'unknown', 'unknown', 'unknown', 'unknown', \n",
    "'male', 'female', 'female', 'unknown', 'unknown', 'male', 'unknown', \n",
    "'unknown', 'unknown', 'unknown', 'male', 'male', 'unknown', 'unknown', \n",
    "'unknown', 'unknown', 'unknown', 'unknown', 'unknown', 'unknown', 'unknown', \n",
    "'unknown', 'unknown', 'unknown', 'unknown', 'male', 'unknown', 'unknown', \n",
    "'unknown', 'unknown', 'unknown', 'unknown', 'male', 'unknown', 'unknown', \n",
    "'female', 'unknown', 'unknown']\n",
    "\n",
    "# Save guess in meals dataframe\n",
    "meals['Gender_guess'] = pd.Series(placeholder_lst)\n",
    "\n",
    "# Create dummy variables based on Gender\n",
    "for i, n in meals.iterrows():\n",
    "    if meals.loc[i, 'Gender_guess'] in [\"male\", \"mostly_male\"]:\n",
    "        meals.loc[i, 'Male'] = 1\n",
    "        meals.loc[i, 'Female'] = 0\n",
    "    elif meals.loc[i, 'Gender_guess'] in [\"female\", \"mostly_female\"]:\n",
    "        meals.loc[i, 'Male'] = 0\n",
    "        meals.loc[i, 'Female'] = 1\n",
    "    else:\n",
    "        meals.loc[i, 'Male'] = 0\n",
    "        meals.loc[i, 'Female'] = 0\n",
    "        \n",
    "meals = meals.drop('Gender_guess', axis = 1)"
   ]
  },
  {
   "cell_type": "markdown",
   "metadata": {},
   "source": [
    "### Text Split"
   ]
  },
  {
   "cell_type": "code",
   "execution_count": 16,
   "metadata": {
    "ExecuteTime": {
     "end_time": "2021-02-15T16:05:44.767254Z",
     "start_time": "2021-02-15T16:05:44.754785Z"
    }
   },
   "outputs": [],
   "source": [
    "#########################\n",
    "# text_split_feature\n",
    "#########################\n",
    "def text_split_feature(col, df, sep=' ', new_col_name='number_of_names'):\n",
    "    \"\"\"\n",
    "Splits values in a string Series (as part of a DataFrame) and sums the number\n",
    "of resulting items. Automatically appends summed column to original DataFrame.\n",
    "\n",
    "PARAMETERS\n",
    "----------\n",
    "col          : column to split\n",
    "df           : DataFrame where column is located\n",
    "sep          : string sequence to split by, default ' '\n",
    "new_col_name : name of new column after summing split, default\n",
    "               'number_of_names'\n",
    "\"\"\"\n",
    "    \n",
    "    df[new_col_name] = 0\n",
    "    \n",
    "    \n",
    "    for index, val in df.iterrows():\n",
    "        df.loc[index, new_col_name] = len(df.loc[index, col].split(sep = ' '))"
   ]
  },
  {
   "cell_type": "code",
   "execution_count": 17,
   "metadata": {
    "ExecuteTime": {
     "end_time": "2021-02-15T16:05:45.599205Z",
     "start_time": "2021-02-15T16:05:44.768466Z"
    }
   },
   "outputs": [
    {
     "data": {
      "text/plain": [
       "1     591\n",
       "2    1201\n",
       "3      98\n",
       "4       9\n",
       "5      35\n",
       "6      12\n",
       "Name: number_of_names, dtype: int64"
      ]
     },
     "execution_count": 17,
     "metadata": {},
     "output_type": "execute_result"
    }
   ],
   "source": [
    "# calling text_split_feature\n",
    "text_split_feature(col = 'Name',\n",
    "                   df  = meals)\n",
    "\n",
    "\n",
    "# checking results\n",
    "meals['number_of_names'].value_counts().sort_index()"
   ]
  },
  {
   "cell_type": "code",
   "execution_count": 18,
   "metadata": {
    "ExecuteTime": {
     "end_time": "2021-02-15T16:05:46.465822Z",
     "start_time": "2021-02-15T16:05:45.602557Z"
    }
   },
   "outputs": [
    {
     "name": "stdout",
     "output_type": "stream",
     "text": [
      "\n",
      "---------------------\n",
      "Number of Names Correlations\n",
      "---------------------\n",
      "number_of_names                0.16\n",
      "has_number_of_names_above_1    0.24\n",
      "Cross_sell_success             1.00\n",
      "Name: Cross_sell_success, dtype: float64\n",
      "\n",
      "\n"
     ]
    }
   ],
   "source": [
    "# dummy variable for Number of Names.\n",
    "meals['has_number_of_names_above_1'] = 0\n",
    "\n",
    "for index, value in meals.iterrows():\n",
    "    \n",
    "    if meals.loc[index, 'number_of_names'] > 1:\n",
    "        meals.loc[index, 'has_number_of_names_above_1'] = 1\n",
    "\n",
    "# developing a correlation matrix\n",
    "number_names_corr = meals.loc[ : , ['number_of_names',\n",
    "                              'has_number_of_names_above_1',\n",
    "                              'Cross_sell_success']  ].corr(method = 'pearson')\\\n",
    "                                              .round(decimals = 2)\n",
    "\n",
    "# printing Number of Names correlations\n",
    "print(f\"\"\"\n",
    "---------------------\n",
    "Number of Names Correlations\n",
    "---------------------\n",
    "{number_names_corr['Cross_sell_success']}\n",
    "\n",
    "\"\"\")"
   ]
  },
  {
   "cell_type": "code",
   "execution_count": 19,
   "metadata": {
    "ExecuteTime": {
     "end_time": "2021-02-15T16:05:46.490990Z",
     "start_time": "2021-02-15T16:05:46.472129Z"
    }
   },
   "outputs": [
    {
     "data": {
      "text/plain": [
       "Index(['Revenue', 'Cross_sell_success', 'Name', 'Email', 'First_name', 'Family_name', 'Total_meals_ordered', 'Unique_meals_purch', 'Contacts_w_customer_service', 'Product_categories_viewed', 'Avg_time_per_site_visit', 'Mobile_number', 'Cancellations_before_noon', 'Cancellations_after_noon', 'Tastes_and_preferences', 'Pc_logins', 'Mobile_logins', 'Weekly_plan', 'Early_deliveries', 'Late_deliveries', 'Package_locker', 'Refrigerated_locker', 'Avg_prep_vid_time', 'Avg_meal_ordered', 'Master_classes_attended', 'Avg_clicks_per_visit', 'Total_photos_viewed', 'has_Total_photos_viewed', 'has_Master_classes_attended', 'has_cancellations_before_noon', 'has_cancellations_after_noon', 'has_Late_delivery', 'has_Early_delivery', 'Median_meal_rating_1', 'Median_meal_rating_2', 'Median_meal_rating_3', 'Median_meal_rating_4', 'Median_meal_rating_5', 'more_contacts_with_cust_service', 'more_weekly_plan', 'Outliers', 'log_Revenue', 'log_Total_meals_ordered', 'log_Avg_clicks_per_visit', 'Total_Logins',\n",
       "       'Avg_vidtime_vs_meal', 'Avg_meal_ordered_vs_purch', 'email_domain', 'junk', 'personal', 'professional', 'Male', 'Female', 'number_of_names', 'has_number_of_names_above_1'],\n",
       "      dtype='object')"
      ]
     },
     "execution_count": 19,
     "metadata": {},
     "output_type": "execute_result"
    }
   ],
   "source": [
    "# relabelling columns\n",
    "meals.columns = ['Revenue','Cross_sell_success', 'Name','Email', 'First_name',\n",
    "                'Family_name','Total_meals_ordered','Unique_meals_purch', \n",
    "                'Contacts_w_customer_service',\n",
    "                'Product_categories_viewed','Avg_time_per_site_visit', \n",
    "                'Mobile_number','Cancellations_before_noon', \n",
    "                'Cancellations_after_noon', 'Tastes_and_preferences', \n",
    "                'Pc_logins','Mobile_logins', 'Weekly_plan',\n",
    "                'Early_deliveries', 'Late_deliveries', 'Package_locker',\n",
    "                'Refrigerated_locker',              \n",
    "                'Avg_prep_vid_time', 'Avg_meal_ordered',  \n",
    "                'Master_classes_attended',  \n",
    "                'Avg_clicks_per_visit', 'Total_photos_viewed', \n",
    "                'has_Total_photos_viewed',  \n",
    "                'has_Master_classes_attended', 'has_cancellations_before_noon',    \n",
    "                'has_cancellations_after_noon', 'has_Late_delivery', \n",
    "                'has_Early_delivery',                                 \n",
    "                'Median_meal_rating_1', 'Median_meal_rating_2',\n",
    "                'Median_meal_rating_3',\n",
    "                'Median_meal_rating_4', 'Median_meal_rating_5',\n",
    "                'more_contacts_with_cust_service','more_weekly_plan',\n",
    "                'Outliers','log_Revenue',         \n",
    "                'log_Total_meals_ordered', 'log_Avg_clicks_per_visit',\n",
    "                'Total_Logins',            \n",
    "                'Avg_vidtime_vs_meal', 'Avg_meal_ordered_vs_purch',\n",
    "                'email_domain', 'junk',                        \n",
    "                'personal',  'professional','Male', 'Female', 'number_of_names',     \n",
    "                'has_number_of_names_above_1']\n",
    "\n",
    "meals.columns"
   ]
  },
  {
   "cell_type": "markdown",
   "metadata": {},
   "source": [
    "## Initial Features Selection"
   ]
  },
  {
   "cell_type": "markdown",
   "metadata": {},
   "source": [
    "### User Defined Function"
   ]
  },
  {
   "cell_type": "code",
   "execution_count": 20,
   "metadata": {
    "ExecuteTime": {
     "end_time": "2021-02-15T16:05:46.500911Z",
     "start_time": "2021-02-15T16:05:46.492018Z"
    }
   },
   "outputs": [],
   "source": [
    "########################################\n",
    "# optimal_neighbors\n",
    "########################################\n",
    "def optimal_neighbors(X_data,\n",
    "                      y_data,\n",
    "                      standardize = True,\n",
    "                      pct_test=0.25,\n",
    "                      seed=219,\n",
    "                      response_type='reg',\n",
    "                      max_neighbors=20,\n",
    "                      show_viz=True):\n",
    "    \"\"\"\n",
    "Exhaustively compute training and testing results for KNN across\n",
    "[1, max_neighbors]. Outputs the maximum test score and (by default) a\n",
    "visualization of the results.\n",
    "PARAMETERS\n",
    "----------\n",
    "X_data        : explanatory variable data\n",
    "y_data        : response variable\n",
    "standardize   : whether or not to standardize the X data, default True\n",
    "pct_test      : test size for training and validation from (0,1), default 0.25\n",
    "seed          : random seed to be used in algorithm, default 219\n",
    "response_type : type of neighbors algorithm to use, default 'reg'\n",
    "    Use 'reg' for regression (KNeighborsRegressor)\n",
    "    Use 'class' for classification (KNeighborsClassifier)\n",
    "max_neighbors : maximum number of neighbors in exhaustive search, default 20\n",
    "show_viz      : display or surpress k-neigbors visualization, default True\n",
    "\"\"\"    \n",
    "    \n",
    "    \n",
    "    if standardize == True:\n",
    "        # optionally standardizing X_data\n",
    "        scaler             = StandardScaler()\n",
    "        scaler.fit(X_data)\n",
    "        X_scaled           = scaler.transform(X_data)\n",
    "        X_scaled_df        = pd.DataFrame(X_scaled)\n",
    "        X_data             = X_scaled_df\n",
    "\n",
    "\n",
    "\n",
    "    # train-test split\n",
    "    x_train, x_test, y_train, y_test = train_test_split(X_data,\n",
    "                                                        y_data,\n",
    "                                                        test_size = pct_test,\n",
    "                                                        random_state = seed)\n",
    "\n",
    "\n",
    "    # creating lists for training set accuracy and test set accuracy\n",
    "    training_accuracy = []\n",
    "    test_accuracy = []\n",
    "    \n",
    "    \n",
    "    # setting neighbor range\n",
    "    neighbors_settings = range(1, max_neighbors + 1)\n",
    "\n",
    "\n",
    "    for n_neighbors in neighbors_settings:\n",
    "        # building the model based on response variable type\n",
    "        if response_type == 'reg':\n",
    "            clf = KNeighborsRegressor(n_neighbors = n_neighbors)\n",
    "            clf.fit(x_train, y_train)\n",
    "            \n",
    "        elif response_type == 'class':\n",
    "            clf = KNeighborsClassifier(n_neighbors = n_neighbors)\n",
    "            clf.fit(x_train, y_train)            \n",
    "            \n",
    "        else:\n",
    "            print(\"Error: response_type must be 'reg' or 'class'\")\n",
    "        \n",
    "        \n",
    "        # recording the training set accuracy\n",
    "        training_accuracy.append(clf.score(x_train, y_train))\n",
    "    \n",
    "        # recording the generalization accuracy\n",
    "        test_accuracy.append(clf.score(x_test, y_test))\n",
    "\n",
    "\n",
    "    # optionally displaying visualization\n",
    "    if show_viz == True:\n",
    "        # plotting the visualization\n",
    "        fig, ax = plt.subplots(figsize=(12,8))\n",
    "        plt.plot(neighbors_settings, training_accuracy, label = \"training accuracy\")\n",
    "        plt.plot(neighbors_settings, test_accuracy, label = \"test accuracy\")\n",
    "        plt.ylabel(\"Accuracy\")\n",
    "        plt.xlabel(\"n_neighbors\")\n",
    "        plt.legend()\n",
    "        plt.show()\n",
    "    \n",
    "    \n",
    "    # returning optimal number of neighbors\n",
    "    print(f\"The optimal number of neighbors is: {test_accuracy.index(max(test_accuracy))+1}\")\n",
    "    return test_accuracy.index(max(test_accuracy))+1\n",
    "\n",
    "\n",
    "########################################\n",
    "# visual_cm\n",
    "########################################\n",
    "def visual_cm(true_y, pred_y, labels = None):\n",
    "    \"\"\"\n",
    "Creates a visualization of a confusion matrix.\n",
    "\n",
    "PARAMETERS\n",
    "----------\n",
    "true_y : true values for the response variable\n",
    "pred_y : predicted values for the response variable\n",
    "labels : , default None\n",
    "    \"\"\"\n",
    "    # visualizing the confusion matrix\n",
    "\n",
    "    # setting labels\n",
    "    lbls = labels\n",
    "    \n",
    "\n",
    "    # declaring a confusion matrix object\n",
    "    cm = confusion_matrix(y_true = true_y,\n",
    "                          y_pred = pred_y)\n",
    "\n",
    "\n",
    "    # heatmap\n",
    "    sns.heatmap(cm,\n",
    "                annot       = True,\n",
    "                xticklabels = lbls,\n",
    "                yticklabels = lbls,\n",
    "                cmap        = 'Blues',\n",
    "                fmt         = 'g')\n",
    "\n",
    "\n",
    "    plt.xlabel('Predicted')\n",
    "    plt.ylabel('Actual')\n",
    "    plt.title('Confusion Matrix of the Classifier')\n",
    "    plt.show()"
   ]
  },
  {
   "cell_type": "code",
   "execution_count": 21,
   "metadata": {
    "ExecuteTime": {
     "end_time": "2021-02-15T16:05:46.519394Z",
     "start_time": "2021-02-15T16:05:46.501909Z"
    }
   },
   "outputs": [],
   "source": [
    "        \n",
    "########################################\n",
    "# plot_feature_importances\n",
    "########################################\n",
    "def plot_feature_importances(model, train, export = False):\n",
    "    \"\"\"\n",
    "    Plots the importance of features from a CART model.\n",
    "    \n",
    "    PARAMETERS\n",
    "    ----------\n",
    "    model  : CART model\n",
    "    train  : explanatory variable training data\n",
    "    export : whether or not to export as a .png image, default False\n",
    "    \"\"\"\n",
    "    \n",
    "    # declaring the number\n",
    "    n_features = train.shape[1]\n",
    "    \n",
    "    # setting plot window\n",
    "    fig, ax = plt.subplots(figsize=(12,9))\n",
    "    \n",
    "    plt.barh(range(n_features), model.feature_importances_, align='center')\n",
    "    plt.yticks(pd.np.arange(n_features), train.columns)\n",
    "    plt.xlabel(\"Feature importance\")\n",
    "    plt.ylabel(\"Feature\")\n",
    "    \n",
    "    if export == True:\n",
    "        plt.savefig('./analysis_images/Feature_Importance.png')"
   ]
  },
  {
   "cell_type": "code",
   "execution_count": 22,
   "metadata": {
    "ExecuteTime": {
     "end_time": "2021-02-15T16:05:46.535976Z",
     "start_time": "2021-02-15T16:05:46.521019Z"
    }
   },
   "outputs": [
    {
     "name": "stdout",
     "output_type": "stream",
     "text": [
      "\n",
      "Training Data\n",
      "-------------\n",
      "X-side: (1459, 34)\n",
      "y-side: (1459,)\n",
      "\n",
      "\n",
      "Testing Data\n",
      "------------\n",
      "X-side: (487, 34)\n",
      "y-side: (487,)\n",
      "\n"
     ]
    }
   ],
   "source": [
    "# making a copy of meals\n",
    "meals_complete = meals.copy()\n",
    "\n",
    "meals_complete =  meals.drop(['Name' ,'Email' ,\n",
    "                            'First_name' ,\n",
    "                            'Family_name' ,'email_domain',\n",
    "                            'log_Total_meals_ordered' ,\n",
    "                            'log_Avg_clicks_per_visit'  ],\n",
    "                             axis = 1)\n",
    "\n",
    "# preparing explanatory variable data\n",
    "meals_origin = meals.drop([ 'Cross_sell_success','Name' ,'Email' ,\n",
    "                            'First_name' ,\n",
    "                            'Family_name' ,'log_Revenue' ,\n",
    "                            'has_Total_photos_viewed' ,\n",
    "                            'has_Master_classes_attended' ,\n",
    "                            'has_cancellations_before_noon' ,\n",
    "                            'has_cancellations_after_noon',\n",
    "                            'has_Late_delivery' , 'has_Early_delivery' ,\n",
    "                            'more_contacts_with_cust_service' ,\n",
    "                            'more_weekly_plan' , 'Outliers' ,\n",
    "                            'log_Total_meals_ordered' ,\n",
    "                            'log_Avg_clicks_per_visit' ,\n",
    "                            'Total_Logins' ,'Avg_vidtime_vs_meal' ,\n",
    "                            'Avg_meal_ordered_vs_purch' ,'email_domain' ],\n",
    "                             axis = 1)\n",
    "\n",
    "# preparing response variable data\n",
    "meals_response = meals.loc[ : , 'Cross_sell_success']\n",
    "\n",
    "\n",
    "# preparing training and testing sets \n",
    "x_train, x_test, y_train, y_test = train_test_split(\n",
    "            meals_origin,\n",
    "            meals_response,\n",
    "            test_size = 0.25,\n",
    "            random_state = 219)\n",
    "\n",
    "\n",
    "# checking the shapes of the datasets\n",
    "print(f\"\"\"\n",
    "Training Data\n",
    "-------------\n",
    "X-side: {x_train.shape}\n",
    "y-side: {y_train.shape}\n",
    "\n",
    "\n",
    "Testing Data\n",
    "------------\n",
    "X-side: {x_test.shape}\n",
    "y-side: {y_test.shape}\n",
    "\"\"\")"
   ]
  },
  {
   "cell_type": "code",
   "execution_count": 23,
   "metadata": {
    "ExecuteTime": {
     "end_time": "2021-02-15T16:05:46.543599Z",
     "start_time": "2021-02-15T16:05:46.536975Z"
    }
   },
   "outputs": [
    {
     "name": "stdout",
     "output_type": "stream",
     "text": [
      "Revenue +\n",
      "Total_meals_ordered +\n",
      "Unique_meals_purch +\n",
      "Contacts_w_customer_service +\n",
      "Product_categories_viewed +\n",
      "Avg_time_per_site_visit +\n",
      "Mobile_number +\n",
      "Cancellations_before_noon +\n",
      "Cancellations_after_noon +\n",
      "Tastes_and_preferences +\n",
      "Pc_logins +\n",
      "Mobile_logins +\n",
      "Weekly_plan +\n",
      "Early_deliveries +\n",
      "Late_deliveries +\n",
      "Package_locker +\n",
      "Refrigerated_locker +\n",
      "Avg_prep_vid_time +\n",
      "Avg_meal_ordered +\n",
      "Master_classes_attended +\n",
      "Avg_clicks_per_visit +\n",
      "Total_photos_viewed +\n",
      "Median_meal_rating_1 +\n",
      "Median_meal_rating_2 +\n",
      "Median_meal_rating_3 +\n",
      "Median_meal_rating_4 +\n",
      "Median_meal_rating_5 +\n",
      "junk +\n",
      "personal +\n",
      "professional +\n",
      "Male +\n",
      "Female +\n",
      "number_of_names +\n",
      "has_number_of_names_above_1 +\n"
     ]
    }
   ],
   "source": [
    "# declaring set of x-variables\n",
    "x_variables = meals_origin\n",
    "\n",
    "# looping to make x-variables suitable for statsmodels\n",
    "for val in x_variables:\n",
    "    print(f\"{val} +\")"
   ]
  },
  {
   "cell_type": "code",
   "execution_count": 24,
   "metadata": {
    "ExecuteTime": {
     "end_time": "2021-02-15T16:05:46.559640Z",
     "start_time": "2021-02-15T16:05:46.546525Z"
    }
   },
   "outputs": [],
   "source": [
    "# merging X_train and y_train so that they can be used in statsmodels\n",
    "meals_train = pd.concat([x_train, y_train], axis = 1)"
   ]
  },
  {
   "cell_type": "markdown",
   "metadata": {},
   "source": [
    "### Standard Scaler"
   ]
  },
  {
   "cell_type": "code",
   "execution_count": 25,
   "metadata": {
    "ExecuteTime": {
     "end_time": "2021-02-15T16:05:46.669884Z",
     "start_time": "2021-02-15T16:05:46.561094Z"
    }
   },
   "outputs": [
    {
     "data": {
      "text/html": [
       "<div>\n",
       "<style scoped>\n",
       "    .dataframe tbody tr th:only-of-type {\n",
       "        vertical-align: middle;\n",
       "    }\n",
       "\n",
       "    .dataframe tbody tr th {\n",
       "        vertical-align: top;\n",
       "    }\n",
       "\n",
       "    .dataframe thead th {\n",
       "        text-align: right;\n",
       "    }\n",
       "</style>\n",
       "<table border=\"1\" class=\"dataframe\">\n",
       "  <thead>\n",
       "    <tr style=\"text-align: right;\">\n",
       "      <th></th>\n",
       "      <th>0</th>\n",
       "      <th>1</th>\n",
       "      <th>2</th>\n",
       "      <th>3</th>\n",
       "      <th>4</th>\n",
       "      <th>5</th>\n",
       "      <th>6</th>\n",
       "      <th>7</th>\n",
       "      <th>8</th>\n",
       "      <th>9</th>\n",
       "      <th>10</th>\n",
       "      <th>11</th>\n",
       "      <th>12</th>\n",
       "      <th>13</th>\n",
       "      <th>14</th>\n",
       "      <th>15</th>\n",
       "      <th>16</th>\n",
       "      <th>17</th>\n",
       "      <th>18</th>\n",
       "      <th>19</th>\n",
       "      <th>20</th>\n",
       "      <th>21</th>\n",
       "      <th>22</th>\n",
       "      <th>23</th>\n",
       "      <th>24</th>\n",
       "      <th>25</th>\n",
       "      <th>26</th>\n",
       "      <th>27</th>\n",
       "      <th>28</th>\n",
       "      <th>29</th>\n",
       "      <th>30</th>\n",
       "      <th>31</th>\n",
       "      <th>32</th>\n",
       "      <th>33</th>\n",
       "    </tr>\n",
       "  </thead>\n",
       "  <tbody>\n",
       "    <tr>\n",
       "      <th>count</th>\n",
       "      <td>1946.00</td>\n",
       "      <td>1946.00</td>\n",
       "      <td>1946.00</td>\n",
       "      <td>1946.00</td>\n",
       "      <td>1946.00</td>\n",
       "      <td>1946.00</td>\n",
       "      <td>1946.00</td>\n",
       "      <td>1946.00</td>\n",
       "      <td>1946.00</td>\n",
       "      <td>1946.00</td>\n",
       "      <td>1946.00</td>\n",
       "      <td>1946.00</td>\n",
       "      <td>1946.00</td>\n",
       "      <td>1946.00</td>\n",
       "      <td>1946.00</td>\n",
       "      <td>1946.00</td>\n",
       "      <td>1946.00</td>\n",
       "      <td>1946.00</td>\n",
       "      <td>1946.00</td>\n",
       "      <td>1946.00</td>\n",
       "      <td>1946.00</td>\n",
       "      <td>1946.00</td>\n",
       "      <td>1946.00</td>\n",
       "      <td>1946.00</td>\n",
       "      <td>1946.00</td>\n",
       "      <td>1946.00</td>\n",
       "      <td>1946.00</td>\n",
       "      <td>1946.0</td>\n",
       "      <td>1946.00</td>\n",
       "      <td>1946.00</td>\n",
       "      <td>1946.00</td>\n",
       "      <td>1946.00</td>\n",
       "      <td>1946.00</td>\n",
       "      <td>1946.00</td>\n",
       "    </tr>\n",
       "    <tr>\n",
       "      <th>mean</th>\n",
       "      <td>-0.00</td>\n",
       "      <td>0.00</td>\n",
       "      <td>-0.00</td>\n",
       "      <td>0.00</td>\n",
       "      <td>-0.00</td>\n",
       "      <td>-0.00</td>\n",
       "      <td>-0.00</td>\n",
       "      <td>0.00</td>\n",
       "      <td>-0.00</td>\n",
       "      <td>-0.00</td>\n",
       "      <td>-0.00</td>\n",
       "      <td>0.00</td>\n",
       "      <td>-0.00</td>\n",
       "      <td>-0.00</td>\n",
       "      <td>0.00</td>\n",
       "      <td>-0.00</td>\n",
       "      <td>0.00</td>\n",
       "      <td>0.00</td>\n",
       "      <td>0.00</td>\n",
       "      <td>0.00</td>\n",
       "      <td>-0.00</td>\n",
       "      <td>0.00</td>\n",
       "      <td>0.00</td>\n",
       "      <td>0.00</td>\n",
       "      <td>0.00</td>\n",
       "      <td>-0.00</td>\n",
       "      <td>0.00</td>\n",
       "      <td>0.0</td>\n",
       "      <td>-0.00</td>\n",
       "      <td>-0.00</td>\n",
       "      <td>0.00</td>\n",
       "      <td>-0.00</td>\n",
       "      <td>-0.00</td>\n",
       "      <td>-0.00</td>\n",
       "    </tr>\n",
       "    <tr>\n",
       "      <th>std</th>\n",
       "      <td>1.00</td>\n",
       "      <td>1.00</td>\n",
       "      <td>1.00</td>\n",
       "      <td>1.00</td>\n",
       "      <td>1.00</td>\n",
       "      <td>1.00</td>\n",
       "      <td>1.00</td>\n",
       "      <td>1.00</td>\n",
       "      <td>1.00</td>\n",
       "      <td>1.00</td>\n",
       "      <td>1.00</td>\n",
       "      <td>1.00</td>\n",
       "      <td>1.00</td>\n",
       "      <td>1.00</td>\n",
       "      <td>1.00</td>\n",
       "      <td>1.00</td>\n",
       "      <td>1.00</td>\n",
       "      <td>1.00</td>\n",
       "      <td>1.00</td>\n",
       "      <td>1.00</td>\n",
       "      <td>1.00</td>\n",
       "      <td>1.00</td>\n",
       "      <td>1.00</td>\n",
       "      <td>1.00</td>\n",
       "      <td>1.00</td>\n",
       "      <td>1.00</td>\n",
       "      <td>1.00</td>\n",
       "      <td>1.0</td>\n",
       "      <td>1.00</td>\n",
       "      <td>1.00</td>\n",
       "      <td>1.00</td>\n",
       "      <td>1.00</td>\n",
       "      <td>1.00</td>\n",
       "      <td>1.00</td>\n",
       "    </tr>\n",
       "    <tr>\n",
       "      <th>min</th>\n",
       "      <td>-1.74</td>\n",
       "      <td>-1.15</td>\n",
       "      <td>-1.56</td>\n",
       "      <td>-2.62</td>\n",
       "      <td>-1.44</td>\n",
       "      <td>-1.43</td>\n",
       "      <td>-2.68</td>\n",
       "      <td>-0.91</td>\n",
       "      <td>-0.38</td>\n",
       "      <td>-1.58</td>\n",
       "      <td>-2.61</td>\n",
       "      <td>-2.80</td>\n",
       "      <td>-0.83</td>\n",
       "      <td>-0.64</td>\n",
       "      <td>-1.08</td>\n",
       "      <td>-0.74</td>\n",
       "      <td>-0.36</td>\n",
       "      <td>-2.37</td>\n",
       "      <td>-2.22</td>\n",
       "      <td>-0.94</td>\n",
       "      <td>-3.65</td>\n",
       "      <td>-0.59</td>\n",
       "      <td>-0.23</td>\n",
       "      <td>-0.58</td>\n",
       "      <td>-1.12</td>\n",
       "      <td>-0.39</td>\n",
       "      <td>-0.08</td>\n",
       "      <td>-0.5</td>\n",
       "      <td>-0.89</td>\n",
       "      <td>-0.75</td>\n",
       "      <td>-0.51</td>\n",
       "      <td>-0.28</td>\n",
       "      <td>-1.07</td>\n",
       "      <td>-1.51</td>\n",
       "    </tr>\n",
       "    <tr>\n",
       "      <th>25%</th>\n",
       "      <td>-0.67</td>\n",
       "      <td>-0.64</td>\n",
       "      <td>-0.76</td>\n",
       "      <td>-0.87</td>\n",
       "      <td>-0.78</td>\n",
       "      <td>-0.44</td>\n",
       "      <td>0.37</td>\n",
       "      <td>-0.91</td>\n",
       "      <td>-0.38</td>\n",
       "      <td>-1.58</td>\n",
       "      <td>-0.89</td>\n",
       "      <td>-0.90</td>\n",
       "      <td>-0.76</td>\n",
       "      <td>-0.64</td>\n",
       "      <td>-0.72</td>\n",
       "      <td>-0.74</td>\n",
       "      <td>-0.36</td>\n",
       "      <td>-0.73</td>\n",
       "      <td>-0.93</td>\n",
       "      <td>-0.94</td>\n",
       "      <td>-0.65</td>\n",
       "      <td>-0.59</td>\n",
       "      <td>-0.23</td>\n",
       "      <td>-0.58</td>\n",
       "      <td>-1.12</td>\n",
       "      <td>-0.39</td>\n",
       "      <td>-0.08</td>\n",
       "      <td>-0.5</td>\n",
       "      <td>-0.89</td>\n",
       "      <td>-0.75</td>\n",
       "      <td>-0.51</td>\n",
       "      <td>-0.28</td>\n",
       "      <td>-1.07</td>\n",
       "      <td>-1.51</td>\n",
       "    </tr>\n",
       "    <tr>\n",
       "      <th>50%</th>\n",
       "      <td>-0.32</td>\n",
       "      <td>-0.26</td>\n",
       "      <td>0.04</td>\n",
       "      <td>0.01</td>\n",
       "      <td>-0.13</td>\n",
       "      <td>-0.09</td>\n",
       "      <td>0.37</td>\n",
       "      <td>-0.26</td>\n",
       "      <td>-0.38</td>\n",
       "      <td>0.63</td>\n",
       "      <td>0.83</td>\n",
       "      <td>-0.90</td>\n",
       "      <td>-0.32</td>\n",
       "      <td>-0.64</td>\n",
       "      <td>-0.35</td>\n",
       "      <td>-0.74</td>\n",
       "      <td>-0.36</td>\n",
       "      <td>-0.10</td>\n",
       "      <td>-0.28</td>\n",
       "      <td>0.62</td>\n",
       "      <td>-0.22</td>\n",
       "      <td>-0.59</td>\n",
       "      <td>-0.23</td>\n",
       "      <td>-0.58</td>\n",
       "      <td>0.89</td>\n",
       "      <td>-0.39</td>\n",
       "      <td>-0.08</td>\n",
       "      <td>-0.5</td>\n",
       "      <td>-0.89</td>\n",
       "      <td>-0.75</td>\n",
       "      <td>-0.51</td>\n",
       "      <td>-0.28</td>\n",
       "      <td>0.21</td>\n",
       "      <td>0.66</td>\n",
       "    </tr>\n",
       "    <tr>\n",
       "      <th>75%</th>\n",
       "      <td>0.49</td>\n",
       "      <td>0.37</td>\n",
       "      <td>0.84</td>\n",
       "      <td>0.45</td>\n",
       "      <td>0.86</td>\n",
       "      <td>0.28</td>\n",
       "      <td>0.37</td>\n",
       "      <td>0.38</td>\n",
       "      <td>-0.38</td>\n",
       "      <td>0.63</td>\n",
       "      <td>0.83</td>\n",
       "      <td>0.99</td>\n",
       "      <td>0.12</td>\n",
       "      <td>0.65</td>\n",
       "      <td>0.38</td>\n",
       "      <td>1.35</td>\n",
       "      <td>-0.36</td>\n",
       "      <td>0.47</td>\n",
       "      <td>0.36</td>\n",
       "      <td>0.62</td>\n",
       "      <td>0.64</td>\n",
       "      <td>0.37</td>\n",
       "      <td>-0.23</td>\n",
       "      <td>1.15</td>\n",
       "      <td>0.89</td>\n",
       "      <td>-0.39</td>\n",
       "      <td>-0.08</td>\n",
       "      <td>-0.5</td>\n",
       "      <td>1.12</td>\n",
       "      <td>1.34</td>\n",
       "      <td>-0.51</td>\n",
       "      <td>-0.28</td>\n",
       "      <td>0.21</td>\n",
       "      <td>0.66</td>\n",
       "    </tr>\n",
       "    <tr>\n",
       "      <th>max</th>\n",
       "      <td>5.88</td>\n",
       "      <td>7.57</td>\n",
       "      <td>5.63</td>\n",
       "      <td>4.83</td>\n",
       "      <td>1.52</td>\n",
       "      <td>24.81</td>\n",
       "      <td>0.37</td>\n",
       "      <td>7.48</td>\n",
       "      <td>6.56</td>\n",
       "      <td>0.63</td>\n",
       "      <td>2.56</td>\n",
       "      <td>2.89</td>\n",
       "      <td>3.00</td>\n",
       "      <td>3.24</td>\n",
       "      <td>5.84</td>\n",
       "      <td>1.35</td>\n",
       "      <td>2.80</td>\n",
       "      <td>8.37</td>\n",
       "      <td>4.24</td>\n",
       "      <td>3.73</td>\n",
       "      <td>2.35</td>\n",
       "      <td>8.25</td>\n",
       "      <td>4.32</td>\n",
       "      <td>1.73</td>\n",
       "      <td>0.89</td>\n",
       "      <td>2.55</td>\n",
       "      <td>12.19</td>\n",
       "      <td>2.0</td>\n",
       "      <td>1.12</td>\n",
       "      <td>1.34</td>\n",
       "      <td>1.95</td>\n",
       "      <td>3.51</td>\n",
       "      <td>5.35</td>\n",
       "      <td>0.66</td>\n",
       "    </tr>\n",
       "  </tbody>\n",
       "</table>\n",
       "</div>"
      ],
      "text/plain": [
       "            0        1        2        3        4        5        6        7        8        9        10       11       12       13       14       15       16       17       18       19       20       21       22       23       24       25       26      27       28       29       30       31       32       33\n",
       "count  1946.00  1946.00  1946.00  1946.00  1946.00  1946.00  1946.00  1946.00  1946.00  1946.00  1946.00  1946.00  1946.00  1946.00  1946.00  1946.00  1946.00  1946.00  1946.00  1946.00  1946.00  1946.00  1946.00  1946.00  1946.00  1946.00  1946.00  1946.0  1946.00  1946.00  1946.00  1946.00  1946.00  1946.00\n",
       "mean     -0.00     0.00    -0.00     0.00    -0.00    -0.00    -0.00     0.00    -0.00    -0.00    -0.00     0.00    -0.00    -0.00     0.00    -0.00     0.00     0.00     0.00     0.00    -0.00     0.00     0.00     0.00     0.00    -0.00     0.00     0.0    -0.00    -0.00     0.00    -0.00    -0.00    -0.00\n",
       "std       1.00     1.00     1.00     1.00     1.00     1.00     1.00     1.00     1.00     1.00     1.00     1.00     1.00     1.00     1.00     1.00     1.00     1.00     1.00     1.00     1.00     1.00     1.00     1.00     1.00     1.00     1.00     1.0     1.00     1.00     1.00     1.00     1.00     1.00\n",
       "min      -1.74    -1.15    -1.56    -2.62    -1.44    -1.43    -2.68    -0.91    -0.38    -1.58    -2.61    -2.80    -0.83    -0.64    -1.08    -0.74    -0.36    -2.37    -2.22    -0.94    -3.65    -0.59    -0.23    -0.58    -1.12    -0.39    -0.08    -0.5    -0.89    -0.75    -0.51    -0.28    -1.07    -1.51\n",
       "25%      -0.67    -0.64    -0.76    -0.87    -0.78    -0.44     0.37    -0.91    -0.38    -1.58    -0.89    -0.90    -0.76    -0.64    -0.72    -0.74    -0.36    -0.73    -0.93    -0.94    -0.65    -0.59    -0.23    -0.58    -1.12    -0.39    -0.08    -0.5    -0.89    -0.75    -0.51    -0.28    -1.07    -1.51\n",
       "50%      -0.32    -0.26     0.04     0.01    -0.13    -0.09     0.37    -0.26    -0.38     0.63     0.83    -0.90    -0.32    -0.64    -0.35    -0.74    -0.36    -0.10    -0.28     0.62    -0.22    -0.59    -0.23    -0.58     0.89    -0.39    -0.08    -0.5    -0.89    -0.75    -0.51    -0.28     0.21     0.66\n",
       "75%       0.49     0.37     0.84     0.45     0.86     0.28     0.37     0.38    -0.38     0.63     0.83     0.99     0.12     0.65     0.38     1.35    -0.36     0.47     0.36     0.62     0.64     0.37    -0.23     1.15     0.89    -0.39    -0.08    -0.5     1.12     1.34    -0.51    -0.28     0.21     0.66\n",
       "max       5.88     7.57     5.63     4.83     1.52    24.81     0.37     7.48     6.56     0.63     2.56     2.89     3.00     3.24     5.84     1.35     2.80     8.37     4.24     3.73     2.35     8.25     4.32     1.73     0.89     2.55    12.19     2.0     1.12     1.34     1.95     3.51     5.35     0.66"
      ]
     },
     "execution_count": 25,
     "metadata": {},
     "output_type": "execute_result"
    }
   ],
   "source": [
    "# INSTANTIATING a StandardScaler() object\n",
    "scaler = StandardScaler()\n",
    "\n",
    "\n",
    "# FITTING the scaler with meals_data\n",
    "scaler.fit(meals_origin)\n",
    "\n",
    "\n",
    "# TRANSFORMING our data after fit\n",
    "X_scaled = scaler.transform(meals_origin)\n",
    "\n",
    "\n",
    "# converting scaled data into a DataFrame\n",
    "X_scaled_df = pd.DataFrame(X_scaled)\n",
    "\n",
    "\n",
    "# checking the results\n",
    "X_scaled_df.describe().round(2)"
   ]
  },
  {
   "cell_type": "code",
   "execution_count": 26,
   "metadata": {
    "ExecuteTime": {
     "end_time": "2021-02-15T16:05:46.708809Z",
     "start_time": "2021-02-15T16:05:46.671293Z"
    }
   },
   "outputs": [
    {
     "data": {
      "text/plain": [
       "Cross_sell_success                 1.00\n",
       "has_number_of_names_above_1        0.24\n",
       "professional                       0.19\n",
       "Cancellations_before_noon          0.16\n",
       "number_of_names                    0.16\n",
       "has_cancellations_before_noon      0.14\n",
       "Male                               0.12\n",
       "Mobile_number                      0.10\n",
       "Tastes_and_preferences             0.08\n",
       "Refrigerated_locker                0.07\n",
       "has_Master_classes_attended        0.05\n",
       "personal                           0.04\n",
       "Package_locker                     0.04\n",
       "Master_classes_attended            0.04\n",
       "Pc_logins                          0.04\n",
       "Contacts_w_customer_service        0.04\n",
       "Median_meal_rating_5               0.03\n",
       "Avg_prep_vid_time                  0.03\n",
       "Early_deliveries                   0.02\n",
       "Avg_meal_ordered                   0.02\n",
       "Median_meal_rating_4               0.02\n",
       "Total_meals_ordered                0.01\n",
       "Late_deliveries                    0.01\n",
       "Total_photos_viewed                0.01\n",
       "Avg_time_per_site_visit            0.01\n",
       "has_Total_photos_viewed            0.01\n",
       "log_Revenue                        0.01\n",
       "Revenue                            0.00\n",
       "has_Late_delivery                  0.00\n",
       "Median_meal_rating_3               0.00\n",
       "Unique_meals_purch                 0.00\n",
       "Product_categories_viewed          0.00\n",
       "Total_Logins                      -0.00\n",
       "Avg_vidtime_vs_meal               -0.01\n",
       "has_Early_delivery                -0.01\n",
       "Median_meal_rating_2              -0.01\n",
       "more_contacts_with_cust_service   -0.01\n",
       "Weekly_plan                       -0.01\n",
       "more_weekly_plan                  -0.01\n",
       "Avg_meal_ordered_vs_purch         -0.01\n",
       "Median_meal_rating_1              -0.02\n",
       "Outliers                          -0.03\n",
       "Avg_clicks_per_visit              -0.04\n",
       "Cancellations_after_noon          -0.05\n",
       "has_cancellations_after_noon      -0.05\n",
       "Mobile_logins                     -0.05\n",
       "Female                            -0.10\n",
       "junk                              -0.28\n",
       "Name: Cross_sell_success, dtype: float64"
      ]
     },
     "execution_count": 26,
     "metadata": {},
     "output_type": "execute_result"
    }
   ],
   "source": [
    "# Uing Pearson's correlation the relationship between the response and \n",
    "#explanatory variables\n",
    "\n",
    "df_corr = meals_complete.corr(method ='pearson').round(decimals = 2)\n",
    "\n",
    "df_corr['Cross_sell_success'].sort_values(ascending = False)"
   ]
  },
  {
   "cell_type": "code",
   "execution_count": 27,
   "metadata": {
    "ExecuteTime": {
     "end_time": "2021-02-15T16:05:46.724874Z",
     "start_time": "2021-02-15T16:05:46.710546Z"
    }
   },
   "outputs": [
    {
     "name": "stdout",
     "output_type": "stream",
     "text": [
      "\n",
      "\n",
      "Response Variable Proportions (Training Set)\n",
      "--------------------------------------------\n",
      "1    0.68\n",
      "0    0.32\n",
      "Name: Cross_sell_success, dtype: float64\n",
      "\n",
      "\n",
      "\n",
      "Response Variable Proportions (Testing Set)\n",
      "--------------------------------------------\n",
      "1    0.68\n",
      "0    0.32\n",
      "Name: Cross_sell_success, dtype: float64\n",
      "\n"
     ]
    }
   ],
   "source": [
    "# train-test split with stratification\n",
    "x_train, x_test, y_train, y_test = train_test_split(\n",
    "            meals_origin,\n",
    "            meals_response,\n",
    "            test_size    = 0.25,\n",
    "            random_state = 219,\n",
    "            stratify     = meals_response)\n",
    "\n",
    "\n",
    "# merging training data for statsmodels\n",
    "meals_train = pd.concat([x_train, y_train], axis = 1)\n",
    "\n",
    "print(f\"\"\"\n",
    "\n",
    "Response Variable Proportions (Training Set)\n",
    "--------------------------------------------\n",
    "{y_train.value_counts(normalize = True).round(decimals = 2)}\n",
    "\n",
    "\n",
    "\n",
    "Response Variable Proportions (Testing Set)\n",
    "--------------------------------------------\n",
    "{y_test.value_counts(normalize = True).round(decimals = 2)}\n",
    "\"\"\")"
   ]
  },
  {
   "cell_type": "markdown",
   "metadata": {},
   "source": [
    "## Logistic Regression "
   ]
  },
  {
   "cell_type": "code",
   "execution_count": 28,
   "metadata": {
    "ExecuteTime": {
     "end_time": "2021-02-15T16:05:46.770389Z",
     "start_time": "2021-02-15T16:05:46.725870Z"
    }
   },
   "outputs": [
    {
     "name": "stdout",
     "output_type": "stream",
     "text": [
      "Optimization terminated successfully.\n",
      "         Current function value: 0.602884\n",
      "         Iterations 5\n"
     ]
    },
    {
     "data": {
      "text/html": [
       "<table class=\"simpletable\">\n",
       "<caption>Logit Regression Results</caption>\n",
       "<tr>\n",
       "  <th>Dep. Variable:</th>   <td>Cross_sell_success</td> <th>  No. Observations:  </th>  <td>  1459</td>  \n",
       "</tr>\n",
       "<tr>\n",
       "  <th>Model:</th>                  <td>Logit</td>       <th>  Df Residuals:      </th>  <td>  1457</td>  \n",
       "</tr>\n",
       "<tr>\n",
       "  <th>Method:</th>                  <td>MLE</td>        <th>  Df Model:          </th>  <td>     1</td>  \n",
       "</tr>\n",
       "<tr>\n",
       "  <th>Date:</th>             <td>Mon, 15 Feb 2021</td>  <th>  Pseudo R-squ.:     </th>  <td>0.03993</td> \n",
       "</tr>\n",
       "<tr>\n",
       "  <th>Time:</th>                 <td>11:23:33</td>      <th>  Log-Likelihood:    </th> <td> -879.61</td> \n",
       "</tr>\n",
       "<tr>\n",
       "  <th>converged:</th>              <td>True</td>        <th>  LL-Null:           </th> <td> -916.19</td> \n",
       "</tr>\n",
       "<tr>\n",
       "  <th>Covariance Type:</th>      <td>nonrobust</td>     <th>  LLR p-value:       </th> <td>1.189e-17</td>\n",
       "</tr>\n",
       "</table>\n",
       "<table class=\"simpletable\">\n",
       "<tr>\n",
       "               <td></td>                  <th>coef</th>     <th>std err</th>      <th>z</th>      <th>P>|z|</th>  <th>[0.025</th>    <th>0.975]</th>  \n",
       "</tr>\n",
       "<tr>\n",
       "  <th>Intercept</th>                   <td>    0.0721</td> <td>    0.095</td> <td>    0.759</td> <td> 0.448</td> <td>   -0.114</td> <td>    0.258</td>\n",
       "</tr>\n",
       "<tr>\n",
       "  <th>has_number_of_names_above_1</th> <td>    1.0200</td> <td>    0.119</td> <td>    8.542</td> <td> 0.000</td> <td>    0.786</td> <td>    1.254</td>\n",
       "</tr>\n",
       "</table>"
      ],
      "text/plain": [
       "<class 'statsmodels.iolib.summary.Summary'>\n",
       "\"\"\"\n",
       "                           Logit Regression Results                           \n",
       "==============================================================================\n",
       "Dep. Variable:     Cross_sell_success   No. Observations:                 1459\n",
       "Model:                          Logit   Df Residuals:                     1457\n",
       "Method:                           MLE   Df Model:                            1\n",
       "Date:                Mon, 15 Feb 2021   Pseudo R-squ.:                 0.03993\n",
       "Time:                        11:23:33   Log-Likelihood:                -879.61\n",
       "converged:                       True   LL-Null:                       -916.19\n",
       "Covariance Type:            nonrobust   LLR p-value:                 1.189e-17\n",
       "===============================================================================================\n",
       "                                  coef    std err          z      P>|z|      [0.025      0.975]\n",
       "-----------------------------------------------------------------------------------------------\n",
       "Intercept                       0.0721      0.095      0.759      0.448      -0.114       0.258\n",
       "has_number_of_names_above_1     1.0200      0.119      8.542      0.000       0.786       1.254\n",
       "===============================================================================================\n",
       "\"\"\""
      ]
     },
     "execution_count": 28,
     "metadata": {},
     "output_type": "execute_result"
    }
   ],
   "source": [
    "# instantiating a logistic regression model object with the highest correlated\n",
    "#variable\n",
    "logistic_small = smf.logit(formula   = \"Cross_sell_success ~ has_number_of_names_above_1\",\n",
    "                           data = meals_train)\n",
    "\n",
    "\n",
    "# FITTING the model object\n",
    "results_logistic = logistic_small.fit()\n",
    "\n",
    "\n",
    "# checking the results SUMMARY\n",
    "results_logistic.summary()"
   ]
  },
  {
   "cell_type": "markdown",
   "metadata": {},
   "source": [
    "### Base Logistic"
   ]
  },
  {
   "cell_type": "code",
   "execution_count": 29,
   "metadata": {
    "ExecuteTime": {
     "end_time": "2021-02-15T16:05:46.870573Z",
     "start_time": "2021-02-15T16:05:46.771732Z"
    }
   },
   "outputs": [
    {
     "name": "stdout",
     "output_type": "stream",
     "text": [
      "Optimization terminated successfully.\n",
      "         Current function value: 0.512465\n",
      "         Iterations 14\n"
     ]
    },
    {
     "data": {
      "text/html": [
       "<table class=\"simpletable\">\n",
       "<caption>Logit Regression Results</caption>\n",
       "<tr>\n",
       "  <th>Dep. Variable:</th>   <td>Cross_sell_success</td> <th>  No. Observations:  </th>  <td>  1459</td>  \n",
       "</tr>\n",
       "<tr>\n",
       "  <th>Model:</th>                  <td>Logit</td>       <th>  Df Residuals:      </th>  <td>  1426</td>  \n",
       "</tr>\n",
       "<tr>\n",
       "  <th>Method:</th>                  <td>MLE</td>        <th>  Df Model:          </th>  <td>    32</td>  \n",
       "</tr>\n",
       "<tr>\n",
       "  <th>Date:</th>             <td>Mon, 15 Feb 2021</td>  <th>  Pseudo R-squ.:     </th>  <td>0.1839</td>  \n",
       "</tr>\n",
       "<tr>\n",
       "  <th>Time:</th>                 <td>11:23:33</td>      <th>  Log-Likelihood:    </th> <td> -747.69</td> \n",
       "</tr>\n",
       "<tr>\n",
       "  <th>converged:</th>              <td>True</td>        <th>  LL-Null:           </th> <td> -916.19</td> \n",
       "</tr>\n",
       "<tr>\n",
       "  <th>Covariance Type:</th>      <td>nonrobust</td>     <th>  LLR p-value:       </th> <td>1.385e-52</td>\n",
       "</tr>\n",
       "</table>\n",
       "<table class=\"simpletable\">\n",
       "<tr>\n",
       "               <td></td>                  <th>coef</th>     <th>std err</th>      <th>z</th>      <th>P>|z|</th>  <th>[0.025</th>    <th>0.975]</th>  \n",
       "</tr>\n",
       "<tr>\n",
       "  <th>Intercept</th>                   <td>    0.8291</td> <td>      nan</td> <td>      nan</td> <td>   nan</td> <td>      nan</td> <td>      nan</td>\n",
       "</tr>\n",
       "<tr>\n",
       "  <th>Revenue</th>                     <td>   -0.0002</td> <td> 9.68e-05</td> <td>   -2.064</td> <td> 0.039</td> <td>   -0.000</td> <td>-1.01e-05</td>\n",
       "</tr>\n",
       "<tr>\n",
       "  <th>Total_meals_ordered</th>         <td>   -0.0004</td> <td>    0.002</td> <td>   -0.256</td> <td> 0.798</td> <td>   -0.003</td> <td>    0.003</td>\n",
       "</tr>\n",
       "<tr>\n",
       "  <th>Unique_meals_purch</th>          <td>   -0.0197</td> <td>    0.027</td> <td>   -0.729</td> <td> 0.466</td> <td>   -0.073</td> <td>    0.033</td>\n",
       "</tr>\n",
       "<tr>\n",
       "  <th>Contacts_w_customer_service</th> <td>    0.0623</td> <td>    0.030</td> <td>    2.057</td> <td> 0.040</td> <td>    0.003</td> <td>    0.122</td>\n",
       "</tr>\n",
       "<tr>\n",
       "  <th>Product_categories_viewed</th>   <td>   -0.0197</td> <td>    0.021</td> <td>   -0.934</td> <td> 0.350</td> <td>   -0.061</td> <td>    0.022</td>\n",
       "</tr>\n",
       "<tr>\n",
       "  <th>Avg_time_per_site_visit</th>     <td>   -0.0002</td> <td>    0.001</td> <td>   -0.143</td> <td> 0.887</td> <td>   -0.002</td> <td>    0.002</td>\n",
       "</tr>\n",
       "<tr>\n",
       "  <th>Mobile_number</th>               <td>    0.9734</td> <td>    0.184</td> <td>    5.281</td> <td> 0.000</td> <td>    0.612</td> <td>    1.335</td>\n",
       "</tr>\n",
       "<tr>\n",
       "  <th>Cancellations_before_noon</th>   <td>    0.2962</td> <td>    0.048</td> <td>    6.133</td> <td> 0.000</td> <td>    0.202</td> <td>    0.391</td>\n",
       "</tr>\n",
       "<tr>\n",
       "  <th>Cancellations_after_noon</th>    <td>   -0.2857</td> <td>    0.148</td> <td>   -1.935</td> <td> 0.053</td> <td>   -0.575</td> <td>    0.004</td>\n",
       "</tr>\n",
       "<tr>\n",
       "  <th>Tastes_and_preferences</th>      <td>    0.3321</td> <td>    0.141</td> <td>    2.351</td> <td> 0.019</td> <td>    0.055</td> <td>    0.609</td>\n",
       "</tr>\n",
       "<tr>\n",
       "  <th>Pc_logins</th>                   <td>    0.2303</td> <td>    0.112</td> <td>    2.061</td> <td> 0.039</td> <td>    0.011</td> <td>    0.449</td>\n",
       "</tr>\n",
       "<tr>\n",
       "  <th>Mobile_logins</th>               <td>   -0.1993</td> <td>    0.123</td> <td>   -1.624</td> <td> 0.104</td> <td>   -0.440</td> <td>    0.041</td>\n",
       "</tr>\n",
       "<tr>\n",
       "  <th>Weekly_plan</th>                 <td>    0.0060</td> <td>    0.005</td> <td>    1.219</td> <td> 0.223</td> <td>   -0.004</td> <td>    0.016</td>\n",
       "</tr>\n",
       "<tr>\n",
       "  <th>Early_deliveries</th>            <td>    0.0633</td> <td>    0.029</td> <td>    2.201</td> <td> 0.028</td> <td>    0.007</td> <td>    0.120</td>\n",
       "</tr>\n",
       "<tr>\n",
       "  <th>Late_deliveries</th>             <td>    0.0219</td> <td>    0.024</td> <td>    0.932</td> <td> 0.351</td> <td>   -0.024</td> <td>    0.068</td>\n",
       "</tr>\n",
       "<tr>\n",
       "  <th>Package_locker</th>              <td>    0.0671</td> <td>    0.153</td> <td>    0.438</td> <td> 0.661</td> <td>   -0.233</td> <td>    0.367</td>\n",
       "</tr>\n",
       "<tr>\n",
       "  <th>Refrigerated_locker</th>         <td>    0.5472</td> <td>    0.246</td> <td>    2.220</td> <td> 0.026</td> <td>    0.064</td> <td>    1.030</td>\n",
       "</tr>\n",
       "<tr>\n",
       "  <th>Avg_prep_vid_time</th>           <td>    0.0051</td> <td>    0.003</td> <td>    1.853</td> <td> 0.064</td> <td>   -0.000</td> <td>    0.010</td>\n",
       "</tr>\n",
       "<tr>\n",
       "  <th>Avg_meal_ordered</th>            <td>   -0.0778</td> <td>    0.073</td> <td>   -1.059</td> <td> 0.290</td> <td>   -0.222</td> <td>    0.066</td>\n",
       "</tr>\n",
       "<tr>\n",
       "  <th>Master_classes_attended</th>     <td>    0.1355</td> <td>    0.120</td> <td>    1.131</td> <td> 0.258</td> <td>   -0.099</td> <td>    0.370</td>\n",
       "</tr>\n",
       "<tr>\n",
       "  <th>Avg_clicks_per_visit</th>        <td>   -0.0099</td> <td>    0.055</td> <td>   -0.180</td> <td> 0.857</td> <td>   -0.118</td> <td>    0.098</td>\n",
       "</tr>\n",
       "<tr>\n",
       "  <th>Total_photos_viewed</th>         <td>   -0.0001</td> <td>    0.000</td> <td>   -0.283</td> <td> 0.777</td> <td>   -0.001</td> <td>    0.001</td>\n",
       "</tr>\n",
       "<tr>\n",
       "  <th>junk</th>                        <td>   -4.4760</td> <td>      nan</td> <td>      nan</td> <td>   nan</td> <td>      nan</td> <td>      nan</td>\n",
       "</tr>\n",
       "<tr>\n",
       "  <th>personal</th>                    <td>   -3.0637</td> <td>      nan</td> <td>      nan</td> <td>   nan</td> <td>      nan</td> <td>      nan</td>\n",
       "</tr>\n",
       "<tr>\n",
       "  <th>professional</th>                <td>   -2.4221</td> <td>      nan</td> <td>      nan</td> <td>   nan</td> <td>      nan</td> <td>      nan</td>\n",
       "</tr>\n",
       "<tr>\n",
       "  <th>Male</th>                        <td>    0.3516</td> <td>    0.171</td> <td>    2.061</td> <td> 0.039</td> <td>    0.017</td> <td>    0.686</td>\n",
       "</tr>\n",
       "<tr>\n",
       "  <th>Female</th>                      <td>   -0.7612</td> <td>    0.232</td> <td>   -3.287</td> <td> 0.001</td> <td>   -1.215</td> <td>   -0.307</td>\n",
       "</tr>\n",
       "<tr>\n",
       "  <th>number_of_names</th>             <td>   -0.0836</td> <td>    0.113</td> <td>   -0.741</td> <td> 0.459</td> <td>   -0.305</td> <td>    0.137</td>\n",
       "</tr>\n",
       "<tr>\n",
       "  <th>Median_meal_rating_1</th>        <td>   -0.7682</td> <td> 3.63e+06</td> <td>-2.12e-07</td> <td> 1.000</td> <td>-7.11e+06</td> <td> 7.11e+06</td>\n",
       "</tr>\n",
       "<tr>\n",
       "  <th>Median_meal_rating_2</th>        <td>   -0.5709</td> <td> 3.63e+06</td> <td>-1.57e-07</td> <td> 1.000</td> <td>-7.11e+06</td> <td> 7.11e+06</td>\n",
       "</tr>\n",
       "<tr>\n",
       "  <th>Median_meal_rating_3</th>        <td>   -0.3587</td> <td> 3.63e+06</td> <td>-9.88e-08</td> <td> 1.000</td> <td>-7.11e+06</td> <td> 7.11e+06</td>\n",
       "</tr>\n",
       "<tr>\n",
       "  <th>Median_meal_rating_4</th>        <td>   -0.1883</td> <td> 3.63e+06</td> <td>-5.19e-08</td> <td> 1.000</td> <td>-7.11e+06</td> <td> 7.11e+06</td>\n",
       "</tr>\n",
       "<tr>\n",
       "  <th>Median_meal_rating_5</th>        <td>    0.0174</td> <td> 3.63e+06</td> <td>  4.8e-09</td> <td> 1.000</td> <td>-7.11e+06</td> <td> 7.11e+06</td>\n",
       "</tr>\n",
       "<tr>\n",
       "  <th>has_number_of_names_above_1</th> <td>    1.3092</td> <td>    0.197</td> <td>    6.630</td> <td> 0.000</td> <td>    0.922</td> <td>    1.696</td>\n",
       "</tr>\n",
       "</table>"
      ],
      "text/plain": [
       "<class 'statsmodels.iolib.summary.Summary'>\n",
       "\"\"\"\n",
       "                           Logit Regression Results                           \n",
       "==============================================================================\n",
       "Dep. Variable:     Cross_sell_success   No. Observations:                 1459\n",
       "Model:                          Logit   Df Residuals:                     1426\n",
       "Method:                           MLE   Df Model:                           32\n",
       "Date:                Mon, 15 Feb 2021   Pseudo R-squ.:                  0.1839\n",
       "Time:                        11:23:33   Log-Likelihood:                -747.69\n",
       "converged:                       True   LL-Null:                       -916.19\n",
       "Covariance Type:            nonrobust   LLR p-value:                 1.385e-52\n",
       "===============================================================================================\n",
       "                                  coef    std err          z      P>|z|      [0.025      0.975]\n",
       "-----------------------------------------------------------------------------------------------\n",
       "Intercept                       0.8291        nan        nan        nan         nan         nan\n",
       "Revenue                        -0.0002   9.68e-05     -2.064      0.039      -0.000   -1.01e-05\n",
       "Total_meals_ordered            -0.0004      0.002     -0.256      0.798      -0.003       0.003\n",
       "Unique_meals_purch             -0.0197      0.027     -0.729      0.466      -0.073       0.033\n",
       "Contacts_w_customer_service     0.0623      0.030      2.057      0.040       0.003       0.122\n",
       "Product_categories_viewed      -0.0197      0.021     -0.934      0.350      -0.061       0.022\n",
       "Avg_time_per_site_visit        -0.0002      0.001     -0.143      0.887      -0.002       0.002\n",
       "Mobile_number                   0.9734      0.184      5.281      0.000       0.612       1.335\n",
       "Cancellations_before_noon       0.2962      0.048      6.133      0.000       0.202       0.391\n",
       "Cancellations_after_noon       -0.2857      0.148     -1.935      0.053      -0.575       0.004\n",
       "Tastes_and_preferences          0.3321      0.141      2.351      0.019       0.055       0.609\n",
       "Pc_logins                       0.2303      0.112      2.061      0.039       0.011       0.449\n",
       "Mobile_logins                  -0.1993      0.123     -1.624      0.104      -0.440       0.041\n",
       "Weekly_plan                     0.0060      0.005      1.219      0.223      -0.004       0.016\n",
       "Early_deliveries                0.0633      0.029      2.201      0.028       0.007       0.120\n",
       "Late_deliveries                 0.0219      0.024      0.932      0.351      -0.024       0.068\n",
       "Package_locker                  0.0671      0.153      0.438      0.661      -0.233       0.367\n",
       "Refrigerated_locker             0.5472      0.246      2.220      0.026       0.064       1.030\n",
       "Avg_prep_vid_time               0.0051      0.003      1.853      0.064      -0.000       0.010\n",
       "Avg_meal_ordered               -0.0778      0.073     -1.059      0.290      -0.222       0.066\n",
       "Master_classes_attended         0.1355      0.120      1.131      0.258      -0.099       0.370\n",
       "Avg_clicks_per_visit           -0.0099      0.055     -0.180      0.857      -0.118       0.098\n",
       "Total_photos_viewed            -0.0001      0.000     -0.283      0.777      -0.001       0.001\n",
       "junk                           -4.4760        nan        nan        nan         nan         nan\n",
       "personal                       -3.0637        nan        nan        nan         nan         nan\n",
       "professional                   -2.4221        nan        nan        nan         nan         nan\n",
       "Male                            0.3516      0.171      2.061      0.039       0.017       0.686\n",
       "Female                         -0.7612      0.232     -3.287      0.001      -1.215      -0.307\n",
       "number_of_names                -0.0836      0.113     -0.741      0.459      -0.305       0.137\n",
       "Median_meal_rating_1           -0.7682   3.63e+06  -2.12e-07      1.000   -7.11e+06    7.11e+06\n",
       "Median_meal_rating_2           -0.5709   3.63e+06  -1.57e-07      1.000   -7.11e+06    7.11e+06\n",
       "Median_meal_rating_3           -0.3587   3.63e+06  -9.88e-08      1.000   -7.11e+06    7.11e+06\n",
       "Median_meal_rating_4           -0.1883   3.63e+06  -5.19e-08      1.000   -7.11e+06    7.11e+06\n",
       "Median_meal_rating_5            0.0174   3.63e+06    4.8e-09      1.000   -7.11e+06    7.11e+06\n",
       "has_number_of_names_above_1     1.3092      0.197      6.630      0.000       0.922       1.696\n",
       "===============================================================================================\n",
       "\"\"\""
      ]
     },
     "execution_count": 29,
     "metadata": {},
     "output_type": "execute_result"
    }
   ],
   "source": [
    "# instantiating a logistic regression model object\n",
    "logistic_full = smf.logit(formula = \"\"\" Cross_sell_success ~\n",
    "                                         Revenue + \n",
    "                                         Total_meals_ordered + \n",
    "                                         Unique_meals_purch + \n",
    "                                         Contacts_w_customer_service + \n",
    "                                         Product_categories_viewed + \n",
    "                                         Avg_time_per_site_visit + \n",
    "                                         Mobile_number + \n",
    "                                         Cancellations_before_noon + \n",
    "                                         Cancellations_after_noon + \n",
    "                                         Tastes_and_preferences + \n",
    "                                         Pc_logins + \n",
    "                                         Mobile_logins + \n",
    "                                         Weekly_plan + \n",
    "                                         Early_deliveries + \n",
    "                                         Late_deliveries + \n",
    "                                         Package_locker + \n",
    "                                         Refrigerated_locker + \n",
    "                                         Avg_prep_vid_time + \n",
    "                                         Avg_meal_ordered + \n",
    "                                         Master_classes_attended +  \n",
    "                                         Avg_clicks_per_visit + \n",
    "                                         Total_photos_viewed + \n",
    "                                         junk + \n",
    "                                         personal + \n",
    "                                         professional + \n",
    "                                         Male + \n",
    "                                         Female +\n",
    "                                         number_of_names + \n",
    "                                         Median_meal_rating_1 +\n",
    "                                         Median_meal_rating_2 +\n",
    "                                         Median_meal_rating_3 +\n",
    "                                         Median_meal_rating_4 +\n",
    "                                         Median_meal_rating_5 +\n",
    "                                         has_number_of_names_above_1 \"\"\",\n",
    "                                         data    = meals_train)\n",
    "\n",
    "\n",
    "# fitting the model object\n",
    "results_full = logistic_full.fit()\n",
    "\n",
    "\n",
    "# checking the results SUMMARY\n",
    "results_full.summary()"
   ]
  },
  {
   "cell_type": "code",
   "execution_count": 30,
   "metadata": {
    "ExecuteTime": {
     "end_time": "2021-02-15T16:05:46.912494Z",
     "start_time": "2021-02-15T16:05:46.870573Z"
    }
   },
   "outputs": [
    {
     "name": "stdout",
     "output_type": "stream",
     "text": [
      "Optimization terminated successfully.\n",
      "         Current function value: 0.535957\n",
      "         Iterations 6\n"
     ]
    },
    {
     "data": {
      "text/html": [
       "<table class=\"simpletable\">\n",
       "<caption>Logit Regression Results</caption>\n",
       "<tr>\n",
       "  <th>Dep. Variable:</th>   <td>Cross_sell_success</td> <th>  No. Observations:  </th>  <td>  1459</td>  \n",
       "</tr>\n",
       "<tr>\n",
       "  <th>Model:</th>                  <td>Logit</td>       <th>  Df Residuals:      </th>  <td>  1447</td>  \n",
       "</tr>\n",
       "<tr>\n",
       "  <th>Method:</th>                  <td>MLE</td>        <th>  Df Model:          </th>  <td>    11</td>  \n",
       "</tr>\n",
       "<tr>\n",
       "  <th>Date:</th>             <td>Mon, 15 Feb 2021</td>  <th>  Pseudo R-squ.:     </th>  <td>0.1465</td>  \n",
       "</tr>\n",
       "<tr>\n",
       "  <th>Time:</th>                 <td>11:23:33</td>      <th>  Log-Likelihood:    </th> <td> -781.96</td> \n",
       "</tr>\n",
       "<tr>\n",
       "  <th>converged:</th>              <td>True</td>        <th>  LL-Null:           </th> <td> -916.19</td> \n",
       "</tr>\n",
       "<tr>\n",
       "  <th>Covariance Type:</th>      <td>nonrobust</td>     <th>  LLR p-value:       </th> <td>3.758e-51</td>\n",
       "</tr>\n",
       "</table>\n",
       "<table class=\"simpletable\">\n",
       "<tr>\n",
       "              <td></td>                 <th>coef</th>     <th>std err</th>      <th>z</th>      <th>P>|z|</th>  <th>[0.025</th>    <th>0.975]</th>  \n",
       "</tr>\n",
       "<tr>\n",
       "  <th>Intercept</th>                 <td>   -4.3013</td> <td>    0.677</td> <td>   -6.351</td> <td> 0.000</td> <td>   -5.629</td> <td>   -2.974</td>\n",
       "</tr>\n",
       "<tr>\n",
       "  <th>Mobile_number</th>             <td>    0.9433</td> <td>    0.178</td> <td>    5.301</td> <td> 0.000</td> <td>    0.595</td> <td>    1.292</td>\n",
       "</tr>\n",
       "<tr>\n",
       "  <th>Cancellations_before_noon</th> <td>    0.2826</td> <td>    0.047</td> <td>    6.030</td> <td> 0.000</td> <td>    0.191</td> <td>    0.374</td>\n",
       "</tr>\n",
       "<tr>\n",
       "  <th>Tastes_and_preferences</th>    <td>    0.3900</td> <td>    0.136</td> <td>    2.862</td> <td> 0.004</td> <td>    0.123</td> <td>    0.657</td>\n",
       "</tr>\n",
       "<tr>\n",
       "  <th>Pc_logins</th>                 <td>    0.2290</td> <td>    0.107</td> <td>    2.131</td> <td> 0.033</td> <td>    0.018</td> <td>    0.440</td>\n",
       "</tr>\n",
       "<tr>\n",
       "  <th>Early_deliveries</th>          <td>    0.0626</td> <td>    0.028</td> <td>    2.252</td> <td> 0.024</td> <td>    0.008</td> <td>    0.117</td>\n",
       "</tr>\n",
       "<tr>\n",
       "  <th>Refrigerated_locker</th>       <td>    0.5514</td> <td>    0.211</td> <td>    2.615</td> <td> 0.009</td> <td>    0.138</td> <td>    0.965</td>\n",
       "</tr>\n",
       "<tr>\n",
       "  <th>personal</th>                  <td>    1.3342</td> <td>    0.158</td> <td>    8.422</td> <td> 0.000</td> <td>    1.024</td> <td>    1.645</td>\n",
       "</tr>\n",
       "<tr>\n",
       "  <th>professional</th>              <td>    1.9285</td> <td>    0.173</td> <td>   11.157</td> <td> 0.000</td> <td>    1.590</td> <td>    2.267</td>\n",
       "</tr>\n",
       "<tr>\n",
       "  <th>Male</th>                      <td>    0.5166</td> <td>    0.164</td> <td>    3.154</td> <td> 0.002</td> <td>    0.196</td> <td>    0.838</td>\n",
       "</tr>\n",
       "<tr>\n",
       "  <th>Female</th>                    <td>   -0.6346</td> <td>    0.221</td> <td>   -2.872</td> <td> 0.004</td> <td>   -1.068</td> <td>   -0.202</td>\n",
       "</tr>\n",
       "<tr>\n",
       "  <th>number_of_names</th>           <td>    0.5127</td> <td>    0.093</td> <td>    5.523</td> <td> 0.000</td> <td>    0.331</td> <td>    0.695</td>\n",
       "</tr>\n",
       "</table>"
      ],
      "text/plain": [
       "<class 'statsmodels.iolib.summary.Summary'>\n",
       "\"\"\"\n",
       "                           Logit Regression Results                           \n",
       "==============================================================================\n",
       "Dep. Variable:     Cross_sell_success   No. Observations:                 1459\n",
       "Model:                          Logit   Df Residuals:                     1447\n",
       "Method:                           MLE   Df Model:                           11\n",
       "Date:                Mon, 15 Feb 2021   Pseudo R-squ.:                  0.1465\n",
       "Time:                        11:23:33   Log-Likelihood:                -781.96\n",
       "converged:                       True   LL-Null:                       -916.19\n",
       "Covariance Type:            nonrobust   LLR p-value:                 3.758e-51\n",
       "=============================================================================================\n",
       "                                coef    std err          z      P>|z|      [0.025      0.975]\n",
       "---------------------------------------------------------------------------------------------\n",
       "Intercept                    -4.3013      0.677     -6.351      0.000      -5.629      -2.974\n",
       "Mobile_number                 0.9433      0.178      5.301      0.000       0.595       1.292\n",
       "Cancellations_before_noon     0.2826      0.047      6.030      0.000       0.191       0.374\n",
       "Tastes_and_preferences        0.3900      0.136      2.862      0.004       0.123       0.657\n",
       "Pc_logins                     0.2290      0.107      2.131      0.033       0.018       0.440\n",
       "Early_deliveries              0.0626      0.028      2.252      0.024       0.008       0.117\n",
       "Refrigerated_locker           0.5514      0.211      2.615      0.009       0.138       0.965\n",
       "personal                      1.3342      0.158      8.422      0.000       1.024       1.645\n",
       "professional                  1.9285      0.173     11.157      0.000       1.590       2.267\n",
       "Male                          0.5166      0.164      3.154      0.002       0.196       0.838\n",
       "Female                       -0.6346      0.221     -2.872      0.004      -1.068      -0.202\n",
       "number_of_names               0.5127      0.093      5.523      0.000       0.331       0.695\n",
       "=============================================================================================\n",
       "\"\"\""
      ]
     },
     "execution_count": 30,
     "metadata": {},
     "output_type": "execute_result"
    }
   ],
   "source": [
    "# instantiating a logistic regression model object\n",
    "logit_sig = smf.logit(formula = \"\"\" Cross_sell_success ~\n",
    "                                    Mobile_number + \n",
    "                                    Cancellations_before_noon +  \n",
    "                                    Tastes_and_preferences +\n",
    "                                    Pc_logins +  \n",
    "                                    Early_deliveries +\n",
    "                                    Refrigerated_locker + \n",
    "                                    personal +\n",
    "                                    professional +\n",
    "                                    Male +\n",
    "                                    Female +\n",
    "                                    number_of_names              \n",
    "                                    \"\"\",\n",
    "                                    data    = meals_train)\n",
    "\n",
    "\n",
    "# fitting the model object\n",
    "logit_sig = logit_sig.fit()\n",
    "\n",
    "\n",
    "# checking the results SUMMARY\n",
    "logit_sig.summary()"
   ]
  },
  {
   "cell_type": "markdown",
   "metadata": {},
   "source": [
    "#### Candidate Dictionary"
   ]
  },
  {
   "cell_type": "code",
   "execution_count": 31,
   "metadata": {
    "ExecuteTime": {
     "end_time": "2021-02-15T16:05:46.920409Z",
     "start_time": "2021-02-15T16:05:46.913491Z"
    }
   },
   "outputs": [],
   "source": [
    "# creating a dictionary to store candidate models\n",
    "\n",
    "candidate_dict = {\n",
    "\n",
    " # full model\n",
    " 'logit_full' : ['Revenue' ,'Total_meals_ordered' ,'Unique_meals_purch' , \n",
    "                'Contacts_w_customer_service' , 'Product_categories_viewed' , \n",
    "                'Avg_time_per_site_visit' , 'Mobile_number' , \n",
    "                'Cancellations_before_noon' , 'Cancellations_after_noon' , \n",
    "                'Tastes_and_preferences' , 'Pc_logins' , \n",
    "                'Mobile_logins' , 'Weekly_plan' , \n",
    "                'Early_deliveries' , 'Late_deliveries' , 'Package_locker' , \n",
    "                'Refrigerated_locker' , 'Avg_prep_vid_time' , \n",
    "                'Avg_meal_ordered' , 'Master_classes_attended' , \n",
    "                'Avg_clicks_per_visit' , \n",
    "                'Total_photos_viewed' , 'junk' ,'personal' , \n",
    "                'professional' ,'Male' ,'Female' ,'number_of_names',\n",
    "                'Median_meal_rating_1', 'Median_meal_rating_2',\n",
    "                'Median_meal_rating_3',\n",
    "                'Median_meal_rating_4', 'Median_meal_rating_5',\n",
    "                'has_number_of_names_above_1'],\n",
    " \n",
    "\n",
    " # significant variables only (set 1)\n",
    " 'logit_sig'  : ['Mobile_number' , 'Cancellations_before_noon' ,  \n",
    "                'Tastes_and_preferences' ,'Pc_logins' ,  \n",
    "                'Early_deliveries' ,'Refrigerated_locker' , \n",
    "                'personal' ,'professional' ,\n",
    "                'Male' ,'Female' ,'number_of_names'],\n",
    "    \n",
    "    \n",
    " # significant variables only (set 2)\n",
    "'logit_sig_2'  : ['Mobile_number' , 'Cancellations_before_noon' ,  \n",
    "                'Tastes_and_preferences' ,'Refrigerated_locker' ,  \n",
    "                'Early_deliveries' , 'personal' ,\n",
    "                'professional' , 'Male' ,'Female' ,\n",
    "                  'has_number_of_names_above_1'], \n",
    "                \n",
    "#other variables\n",
    "'x_variables'   : [ 'Revenue' ,'Total_meals_ordered',\n",
    "                    'Unique_meals_purch', \n",
    "                    'Contacts_w_customer_service',\n",
    "                    'Product_categories_viewed',\n",
    "                    'Avg_time_per_site_visit', \n",
    "                    'Cancellations_before_noon',\n",
    "                    'Cancellations_after_noon' , 'Early_deliveries' , \n",
    "                    'Late_deliveries' , 'Package_locker' ,\n",
    "                    'Tastes_and_preferences', 'Mobile_logins' ,\n",
    "                    'Pc_logins', 'Weekly_plan', \n",
    "                    'Refrigerated_locker',            \n",
    "                    'Avg_prep_vid_time', 'Avg_meal_ordered',  \n",
    "                    'Master_classes_attended',\n",
    "                    'Avg_clicks_per_visit', 'Total_photos_viewed', \n",
    "                    'Median_meal_rating_5', 'personal' ,                       \n",
    "                    'professional', 'Female', 'Male',    \n",
    "                    'has_number_of_names_above_1']\n",
    "\n",
    "}"
   ]
  },
  {
   "cell_type": "code",
   "execution_count": 32,
   "metadata": {
    "ExecuteTime": {
     "end_time": "2021-02-15T16:05:46.957337Z",
     "start_time": "2021-02-15T16:05:46.921407Z"
    }
   },
   "outputs": [
    {
     "name": "stdout",
     "output_type": "stream",
     "text": [
      "Training ACCURACY: 0.7601\n",
      "Testing  ACCURACY: 0.7721\n",
      "logreg Train-Test Gap : 0.012\n"
     ]
    }
   ],
   "source": [
    "# train/test split with the significant model\n",
    "meals_origin   =  meals.loc[ : , candidate_dict['logit_sig_2']]\n",
    "meals_response =  meals.loc[ : , 'Cross_sell_success']\n",
    "\n",
    "\n",
    "# This is the exact code we were using before\n",
    "x_train, x_test, y_train, y_test = train_test_split(\n",
    "            meals_origin,\n",
    "            meals_response,\n",
    "            test_size    = 0.25,\n",
    "            random_state = 219,\n",
    "            stratify     = meals_response)\n",
    "\n",
    "\n",
    "# INSTANTIATING a logistic regression model\n",
    "logreg = LogisticRegression(solver = 'lbfgs',\n",
    "                            C = 1,\n",
    "                            random_state = 219)\n",
    "\n",
    "\n",
    "# FITTING the training data\n",
    "logreg_fit = logreg.fit(x_train, y_train)\n",
    "\n",
    "\n",
    "# PREDICTING based on the testing set\n",
    "logreg_pred = logreg_fit.predict(x_test)\n",
    "\n",
    "\n",
    "# SCORING the results\n",
    "print('Training ACCURACY:', logreg_fit.score(x_train, y_train).round(4))\n",
    "print('Testing  ACCURACY:', logreg_fit.score(x_test, y_test).round(4))\n",
    "\n",
    "\n",
    "# saving scoring data for future use\n",
    "logreg_train_score = logreg_fit.score(x_train, y_train).round(4) # accuracy\n",
    "logreg_test_score  = logreg_fit.score(x_test, y_test).round(4) # accuracy\n",
    "\n",
    "# displaying and saving the gap between training and testing\n",
    "print('logreg Train-Test Gap :', abs(logreg_train_score - logreg_test_score).round(4))\n",
    "logreg_test_gap = abs(logreg_train_score - logreg_test_score).round(4)\n",
    "\n"
   ]
  },
  {
   "cell_type": "markdown",
   "metadata": {},
   "source": [
    "#### Confusion Matrix"
   ]
  },
  {
   "cell_type": "code",
   "execution_count": 33,
   "metadata": {
    "ExecuteTime": {
     "end_time": "2021-02-15T16:05:46.965221Z",
     "start_time": "2021-02-15T16:05:46.959293Z"
    }
   },
   "outputs": [
    {
     "name": "stdout",
     "output_type": "stream",
     "text": [
      "[[ 76  80]\n",
      " [ 31 300]]\n"
     ]
    }
   ],
   "source": [
    "# creating a confusion matrix\n",
    "print(confusion_matrix(y_true = y_test,\n",
    "                       y_pred = logreg_pred))"
   ]
  },
  {
   "cell_type": "code",
   "execution_count": 34,
   "metadata": {
    "ExecuteTime": {
     "end_time": "2021-02-15T16:05:46.972881Z",
     "start_time": "2021-02-15T16:05:46.966219Z"
    }
   },
   "outputs": [
    {
     "name": "stdout",
     "output_type": "stream",
     "text": [
      "\n",
      "True Negatives : 76\n",
      "False Positives: 80\n",
      "False Negatives: 31\n",
      "True Positives : 300\n",
      "\n"
     ]
    }
   ],
   "source": [
    "# unpacking the confusion matrix\n",
    "logreg_tn, \\\n",
    "logreg_fp, \\\n",
    "logreg_fn, \\\n",
    "logreg_tp = confusion_matrix(y_true = y_test, y_pred = logreg_pred).ravel()\n",
    "\n",
    "\n",
    "# printing each result one-by-one\n",
    "print(f\"\"\"\n",
    "True Negatives : {logreg_tn}\n",
    "False Positives: {logreg_fp}\n",
    "False Negatives: {logreg_fn}\n",
    "True Positives : {logreg_tp}\n",
    "\"\"\")"
   ]
  },
  {
   "cell_type": "code",
   "execution_count": 35,
   "metadata": {
    "ExecuteTime": {
     "end_time": "2021-02-15T16:05:47.201065Z",
     "start_time": "2021-02-15T16:05:46.974043Z"
    }
   },
   "outputs": [
    {
     "data": {
      "image/png": "[encoded data removed]",
      "text/plain": [
       "<Figure size 432x288 with 2 Axes>"
      ]
     },
     "metadata": {
      "needs_background": "light"
     },
     "output_type": "display_data"
    }
   ],
   "source": [
    "# calling the visual_cm function\n",
    "visual_cm(true_y = y_test,\n",
    "          pred_y = logreg_pred,\n",
    "          labels = ['Subscribed', 'Not Subscribed'])"
   ]
  },
  {
   "cell_type": "markdown",
   "metadata": {},
   "source": [
    "#### AUC Score"
   ]
  },
  {
   "cell_type": "code",
   "execution_count": 36,
   "metadata": {
    "ExecuteTime": {
     "end_time": "2021-02-15T16:05:47.221844Z",
     "start_time": "2021-02-15T16:05:47.202062Z"
    }
   },
   "outputs": [
    {
     "name": "stdout",
     "output_type": "stream",
     "text": [
      "0.6968\n"
     ]
    }
   ],
   "source": [
    "# area under the roc curve (auc)\n",
    "print(roc_auc_score(y_true  = y_test,\n",
    "                    y_score = logreg_pred).round(decimals = 4))\n",
    "\n",
    "\n",
    "# saving AUC score for future use\n",
    "logreg_auc_score = roc_auc_score(y_true  = y_test,\n",
    "                                 y_score = logreg_pred).round(decimals = 4)"
   ]
  },
  {
   "cell_type": "code",
   "execution_count": 37,
   "metadata": {
    "ExecuteTime": {
     "end_time": "2021-02-15T16:05:47.240807Z",
     "start_time": "2021-02-15T16:05:47.221844Z"
    }
   },
   "outputs": [
    {
     "name": "stdout",
     "output_type": "stream",
     "text": [
      "('intercept', -2.76)\n",
      "('Mobile_number', 0.9)\n",
      "('Cancellations_before_noon', 0.29)\n",
      "('Tastes_and_preferences', 0.34)\n",
      "('Refrigerated_locker', 0.55)\n",
      "('Early_deliveries', 0.06)\n",
      "('personal', 1.32)\n",
      "('professional', 1.89)\n",
      "('Male', 0.33)\n",
      "('Female', -0.69)\n",
      "('has_number_of_names_above_1', 1.15)\n"
     ]
    }
   ],
   "source": [
    "# zipping each feature name to its coefficient\n",
    "logreg_model_values = zip(meals[candidate_dict['logit_sig_2']].columns,\n",
    "                          logreg_fit.coef_.ravel().round(decimals = 2))\n",
    "\n",
    "\n",
    "# setting up a placeholder list to store model features\n",
    "logreg_model_lst = [('intercept', logreg_fit.intercept_[0].round(decimals = 2))]\n",
    "\n",
    "\n",
    "# printing out each feature-coefficient pair one by one\n",
    "for val in logreg_model_values:\n",
    "    logreg_model_lst.append(val)\n",
    "    \n",
    "\n",
    "# checking the results\n",
    "for pair in logreg_model_lst:\n",
    "    print(pair)"
   ]
  },
  {
   "cell_type": "markdown",
   "metadata": {},
   "source": [
    "### Tuned Logistic "
   ]
  },
  {
   "cell_type": "code",
   "execution_count": 38,
   "metadata": {
    "ExecuteTime": {
     "end_time": "2021-02-15T16:05:47.286032Z",
     "start_time": "2021-02-15T16:05:47.242171Z"
    }
   },
   "outputs": [
    {
     "name": "stdout",
     "output_type": "stream",
     "text": [
      "Training ACCURACY: 0.7601\n",
      "Testing  ACCURACY: 0.7721\n",
      "AUC Score        : 0.6968\n"
     ]
    }
   ],
   "source": [
    "# INSTANTIATING a logistic regression model with default values\n",
    "lr_default = LogisticRegression(solver = 'lbfgs',\n",
    "                                C = 1.0,\n",
    "                                warm_start = False,\n",
    "                                random_state = 219)\n",
    "\n",
    "# FITTING the training data\n",
    "lr_default_fit = lr_default.fit(x_train, y_train)\n",
    "\n",
    "\n",
    "# PREDICTING based on the testing set\n",
    "lr_default_pred = lr_default_fit.predict(x_test)\n",
    "\n",
    "\n",
    "# SCORING the results\n",
    "print('Training ACCURACY:', lr_default_fit.score(x_train, y_train).round(4))\n",
    "print('Testing  ACCURACY:', lr_default_fit.score(x_test, y_test).round(4))\n",
    "\n",
    "\n",
    "# SCORING with AUC\n",
    "print('AUC Score        :', roc_auc_score(y_true  = y_test,\n",
    "                                          y_score = lr_default_pred).round(4))\n",
    "\n",
    "\n",
    "# saving scoring data for future use\n",
    "logreg_train_score = lr_default_fit.score(x_train, y_train).round(4) # accuracy\n",
    "logreg_test_score  = lr_default_fit.score(x_test, y_test).round(4)   # accuracy\n",
    "\n",
    "\n",
    "# saving AUC score\n",
    "logreg_auc_score = roc_auc_score(y_true  = y_test,\n",
    "                                 y_score = lr_default_pred).round(4)"
   ]
  },
  {
   "cell_type": "markdown",
   "metadata": {},
   "source": [
    "#### RandomizedSearchCV "
   ]
  },
  {
   "cell_type": "code",
   "execution_count": 39,
   "metadata": {
    "ExecuteTime": {
     "end_time": "2021-02-15T16:05:51.378748Z",
     "start_time": "2021-02-15T16:05:47.287505Z"
    }
   },
   "outputs": [
    {
     "name": "stderr",
     "output_type": "stream",
     "text": [
      "<ipython-input-39-2fff9e96e5a9>:6: FutureWarning: The pandas.np module is deprecated and will be removed from pandas in a future version. Import numpy directly instead\n",
      "  C_space          = pd.np.arange(0.1, 5.0, 0.1)\n"
     ]
    },
    {
     "name": "stdout",
     "output_type": "stream",
     "text": [
      "Tuned Parameters  : {'warm_start': False, 'solver': 'sag', 'C': 1.4000000000000001}\n",
      "Tuned CV AUC      : 0.6865\n"
     ]
    }
   ],
   "source": [
    "########################################\n",
    "# RandomizedSearchCV\n",
    "########################################\n",
    "\n",
    "# declaring a hyperparameter space\n",
    "C_space          = pd.np.arange(0.1, 5.0, 0.1)\n",
    "warm_start_space = [True, False]\n",
    "solver_space     = ['newton-cg', 'sag', 'lbfgs']\n",
    "\n",
    "\n",
    "# creating a hyperparameter grid\n",
    "param_grid = {'C'          : C_space,\n",
    "              'warm_start' : warm_start_space,\n",
    "              'solver'     : solver_space}\n",
    "\n",
    "\n",
    "# INSTANTIATING the model object without hyperparameters\n",
    "lr_tuned = LogisticRegression(random_state = 219,\n",
    "                              max_iter     = 250)\n",
    "\n",
    "\n",
    "# GridSearchCV object\n",
    "lr_tuned_cv = RandomizedSearchCV(estimator           = lr_tuned,   # the model object\n",
    "                                 param_distributions = param_grid, # parameters to tune\n",
    "                                 cv                  = 3,          # how many folds in cross-validation\n",
    "                                 n_iter              = 50,        # number of combinations of hyperparameters to try\n",
    "                                 random_state        = 219,        # starting point for random sequence\n",
    "                                 scoring = make_scorer(\n",
    "                                           roc_auc_score,\n",
    "                                           needs_threshold = False)) # scoring criteria (AUC)\n",
    "\n",
    "\n",
    "# FITTING to the FULL DATASET (due to cross-validation)\n",
    "lr_tuned_cv.fit(meals_origin, meals_response)\n",
    "\n",
    "\n",
    "# PREDICT step is not needed\n",
    "\n",
    "\n",
    "# printing the optimal parameters and best score\n",
    "print(\"Tuned Parameters  :\", lr_tuned_cv.best_params_)\n",
    "print(\"Tuned CV AUC      :\", lr_tuned_cv.best_score_.round(4))"
   ]
  },
  {
   "cell_type": "code",
   "execution_count": 40,
   "metadata": {
    "ExecuteTime": {
     "end_time": "2021-02-15T16:05:51.398493Z",
     "start_time": "2021-02-15T16:05:51.379745Z"
    }
   },
   "outputs": [
    {
     "data": {
      "text/plain": [
       "LogisticRegression(C=1.4000000000000001, max_iter=250, random_state=219,\n",
       "                   solver='sag')"
      ]
     },
     "execution_count": 40,
     "metadata": {},
     "output_type": "execute_result"
    }
   ],
   "source": [
    "# checking the best estimator for the model\n",
    "lr_tuned_cv.best_estimator_"
   ]
  },
  {
   "cell_type": "code",
   "execution_count": 41,
   "metadata": {
    "ExecuteTime": {
     "end_time": "2021-02-15T16:05:51.417222Z",
     "start_time": "2021-02-15T16:05:51.398493Z"
    }
   },
   "outputs": [
    {
     "name": "stdout",
     "output_type": "stream",
     "text": [
      "Training ACCURACY: 0.7635\n",
      "Testing  ACCURACY: 0.7782\n",
      "AUC Score        : 0.7064\n"
     ]
    }
   ],
   "source": [
    "# building a model based on hyperparameter tuning results\n",
    "\n",
    "# INSTANTIATING a logistic regression model with tuned values\n",
    "lr_tuned = lr_tuned_cv.best_estimator_\n",
    "\n",
    "\n",
    "# FIT step is not needed\n",
    "\n",
    "\n",
    "# PREDICTING based on the testing set\n",
    "lr_tuned_pred = lr_tuned.predict(x_test)\n",
    "\n",
    "\n",
    "# SCORING the results\n",
    "print('Training ACCURACY:', lr_tuned.score(x_train, y_train).round(4))\n",
    "print('Testing  ACCURACY:', lr_tuned.score(x_test, y_test).round(4))\n",
    "print('AUC Score        :', roc_auc_score(y_true  = y_test,\n",
    "                                  y_score = lr_tuned_pred).round(4))\n",
    "\n",
    "\n",
    "# saving scoring data for future use\n",
    "lr_tuned_train_score = lr_tuned.score(x_train, y_train).round(4) # accuracy\n",
    "lr_tuned_test_score  = lr_tuned.score(x_test, y_test).round(4)   # accuracy\n",
    "\n",
    "\n",
    "# saving the AUC score\n",
    "lr_tuned_auc         = roc_auc_score(y_true  = y_test,\n",
    "                                     y_score = lr_tuned_pred).round(4) # auc"
   ]
  },
  {
   "cell_type": "code",
   "execution_count": 42,
   "metadata": {
    "ExecuteTime": {
     "end_time": "2021-02-15T16:05:51.432433Z",
     "start_time": "2021-02-15T16:05:51.418658Z"
    }
   },
   "outputs": [
    {
     "name": "stdout",
     "output_type": "stream",
     "text": [
      "\n",
      "True Negatives : 79\n",
      "False Positives: 77\n",
      "False Negatives: 31\n",
      "True Positives : 300\n",
      "\n"
     ]
    }
   ],
   "source": [
    "# unpacking the confusion matrix\n",
    "lr_tuned_tn, \\\n",
    "lr_tuned_fp, \\\n",
    "lr_tuned_fn, \\\n",
    "lr_tuned_tp = confusion_matrix(y_true = y_test, y_pred = lr_tuned_pred).ravel()\n",
    "\n",
    "\n",
    "# printing each result one-by-one\n",
    "print(f\"\"\"\n",
    "True Negatives : {lr_tuned_tn}\n",
    "False Positives: {lr_tuned_fp}\n",
    "False Negatives: {lr_tuned_fn}\n",
    "True Positives : {lr_tuned_tp}\n",
    "\"\"\")"
   ]
  },
  {
   "cell_type": "code",
   "execution_count": 43,
   "metadata": {
    "ExecuteTime": {
     "end_time": "2021-02-15T16:05:51.440102Z",
     "start_time": "2021-02-15T16:05:51.434133Z"
    }
   },
   "outputs": [
    {
     "name": "stdout",
     "output_type": "stream",
     "text": [
      "\n",
      "Model         AUC Score      TN, FP, FN, TP\n",
      "-----         ---------      --------------\n",
      "Logistic      0.6968    (76, 80, 31, 300)\n",
      "Tuned LR      0.7064        (79, 77, 31, 300)\n",
      "\n",
      "\n"
     ]
    }
   ],
   "source": [
    "# comparing results\n",
    "print(f\"\"\"\n",
    "Model         AUC Score      TN, FP, FN, TP\n",
    "-----         ---------      --------------\n",
    "Logistic      {logreg_auc_score}    {logreg_tn, logreg_fp, logreg_fn, logreg_tp}\n",
    "Tuned LR      {lr_tuned_auc}        {lr_tuned_tn,lr_tuned_fp, lr_tuned_fn, lr_tuned_tp}\n",
    "\n",
    "\"\"\")\n",
    "\n",
    "\n",
    "# creating a dictionary for model results\n",
    "model_performance = {\n",
    "    \n",
    "    'Model Name'    : ['Logistic', 'Tuned LR'],\n",
    "           \n",
    "    'AUC Score'     : [logreg_auc_score, lr_tuned_auc],\n",
    "    \n",
    "    'Training Accuracy' : [logreg_train_score, lr_tuned_train_score],\n",
    "           \n",
    "    'Testing Accuracy'  : [logreg_test_score, lr_tuned_test_score],\n",
    "\n",
    "    'Confusion Matrix'  : [(logreg_tn, logreg_fp, logreg_fn, logreg_tp),\n",
    "                           (lr_tuned_tn,lr_tuned_fp, lr_tuned_fn, lr_tuned_tp),]}\n",
    "\n",
    "\n",
    "# converting model_performance into a DataFrame\n",
    "model_performance = pd.DataFrame(model_performance)\n"
   ]
  },
  {
   "cell_type": "code",
   "execution_count": 44,
   "metadata": {
    "ExecuteTime": {
     "end_time": "2021-02-15T16:05:51.464310Z",
     "start_time": "2021-02-15T16:05:51.441100Z"
    }
   },
   "outputs": [
    {
     "data": {
      "text/html": [
       "<div>\n",
       "<style scoped>\n",
       "    .dataframe tbody tr th:only-of-type {\n",
       "        vertical-align: middle;\n",
       "    }\n",
       "\n",
       "    .dataframe tbody tr th {\n",
       "        vertical-align: top;\n",
       "    }\n",
       "\n",
       "    .dataframe thead th {\n",
       "        text-align: right;\n",
       "    }\n",
       "</style>\n",
       "<table border=\"1\" class=\"dataframe\">\n",
       "  <thead>\n",
       "    <tr style=\"text-align: right;\">\n",
       "      <th></th>\n",
       "      <th>Model Name</th>\n",
       "      <th>AUC Score</th>\n",
       "      <th>Training Accuracy</th>\n",
       "      <th>Testing Accuracy</th>\n",
       "      <th>Confusion Matrix</th>\n",
       "    </tr>\n",
       "  </thead>\n",
       "  <tbody>\n",
       "    <tr>\n",
       "      <th>0</th>\n",
       "      <td>Logistic</td>\n",
       "      <td>0.6968</td>\n",
       "      <td>0.7601</td>\n",
       "      <td>0.7721</td>\n",
       "      <td>(76, 80, 31, 300)</td>\n",
       "    </tr>\n",
       "    <tr>\n",
       "      <th>1</th>\n",
       "      <td>Tuned LR</td>\n",
       "      <td>0.7064</td>\n",
       "      <td>0.7635</td>\n",
       "      <td>0.7782</td>\n",
       "      <td>(79, 77, 31, 300)</td>\n",
       "    </tr>\n",
       "    <tr>\n",
       "      <th>2</th>\n",
       "      <td>Tuned LR</td>\n",
       "      <td>0.7064</td>\n",
       "      <td>0.7635</td>\n",
       "      <td>0.7782</td>\n",
       "      <td>(79, 77, 31, 300)</td>\n",
       "    </tr>\n",
       "  </tbody>\n",
       "</table>\n",
       "</div>"
      ],
      "text/plain": [
       "  Model Name  AUC Score  Training Accuracy  Testing Accuracy   Confusion Matrix\n",
       "0   Logistic     0.6968             0.7601            0.7721  (76, 80, 31, 300)\n",
       "1   Tuned LR     0.7064             0.7635            0.7782  (79, 77, 31, 300)\n",
       "2   Tuned LR     0.7064             0.7635            0.7782  (79, 77, 31, 300)"
      ]
     },
     "execution_count": 44,
     "metadata": {},
     "output_type": "execute_result"
    }
   ],
   "source": [
    "# declaring model performance objects\n",
    "lr_train_acc = lr_tuned.score(x_train, y_train).round(4)\n",
    "lr_test_acc  = lr_tuned.score(x_test, y_test).round(4)\n",
    "lr_auc       = roc_auc_score(y_true  = y_test,\n",
    "                             y_score = lr_tuned_pred).round(4)\n",
    "\n",
    "\n",
    "# appending to model_performance\n",
    "model_performance = model_performance.append(\n",
    "                          {'Model Name'        : 'Tuned LR',\n",
    "                           'Training Accuracy' : lr_train_acc,\n",
    "                           'Testing Accuracy'  : lr_test_acc,\n",
    "                           'AUC Score'         : lr_auc,\n",
    "                           'Confusion Matrix'  : (lr_tuned_tn,\n",
    "                                                  lr_tuned_fp,\n",
    "                                                  lr_tuned_fn,\n",
    "                                                  lr_tuned_tp)},\n",
    "                           ignore_index = True)\n",
    "\n",
    "\n",
    "# checking the results\n",
    "model_performance"
   ]
  },
  {
   "cell_type": "markdown",
   "metadata": {},
   "source": [
    "## Display Tree"
   ]
  },
  {
   "cell_type": "code",
   "execution_count": 45,
   "metadata": {
    "ExecuteTime": {
     "end_time": "2021-02-15T16:05:51.472508Z",
     "start_time": "2021-02-15T16:05:51.465427Z"
    }
   },
   "outputs": [],
   "source": [
    "########################################\n",
    "# display_tree\n",
    "########################################\n",
    "def display_tree(tree, feature_df, height = 500, width = 800):\n",
    "    \"\"\"\n",
    "    PARAMETERS\n",
    "    ----------\n",
    "    tree       : fitted tree model object\n",
    "        fitted CART model to visualized\n",
    "    feature_df : DataFrame\n",
    "        DataFrame of explanatory features (used to generate labels)\n",
    "    height     : int, default 500\n",
    "        height in pixels to which to constrain image in html\n",
    "    width      : int, default 800\n",
    "        width in pixels to which to constrain image in html\n",
    "    \"\"\"\n",
    "\n",
    "    # visualizing the tree\n",
    "    dot_data = StringIO()\n",
    "\n",
    "    \n",
    "    # exporting tree to graphviz\n",
    "    export_graphviz(decision_tree      = tree,\n",
    "                    out_file           = dot_data,\n",
    "                    filled             = True,\n",
    "                    rounded            = True,\n",
    "                    special_characters = True,\n",
    "                    feature_names      = feature_df.columns)\n",
    "\n",
    "\n",
    "    # declaring a graph object\n",
    "    graph = pydotplus.graph_from_dot_data(dot_data.getvalue())\n",
    "\n",
    "\n",
    "    # creating image\n",
    "    img = Image(graph.create_png(),\n",
    "                height = height,\n",
    "                width  = width)\n",
    "    \n",
    "    return img\n",
    "\n",
    "\n"
   ]
  },
  {
   "cell_type": "markdown",
   "metadata": {},
   "source": [
    "### Full Tree"
   ]
  },
  {
   "cell_type": "code",
   "execution_count": 46,
   "metadata": {
    "ExecuteTime": {
     "end_time": "2021-02-15T16:05:51.489184Z",
     "start_time": "2021-02-15T16:05:51.473506Z"
    }
   },
   "outputs": [],
   "source": [
    "# train/test split with the Full model\n",
    "meals_origin   =  meals.loc[ : , candidate_dict['logit_sig_2']]\n",
    "meals_response =  meals.loc[ : , 'Cross_sell_success']\n",
    "\n",
    "\n",
    "# This is the exact code we were using before\n",
    "x_train, x_test, y_train, y_test = train_test_split(\n",
    "            meals_origin,\n",
    "            meals_response,\n",
    "            test_size    = 0.25,\n",
    "            random_state = 219,\n",
    "            stratify     = meals_response)\n"
   ]
  },
  {
   "cell_type": "code",
   "execution_count": 47,
   "metadata": {
    "ExecuteTime": {
     "end_time": "2021-02-15T16:05:51.514617Z",
     "start_time": "2021-02-15T16:05:51.491178Z"
    }
   },
   "outputs": [
    {
     "name": "stdout",
     "output_type": "stream",
     "text": [
      "Full Tree Training ACCURACY: 0.8595\n",
      "Full Tree Testing ACCURACY : 0.7023\n",
      "Full Tree AUC Score: 0.6708\n",
      "Full Tree Train-Test Gap : 0.1572\n"
     ]
    }
   ],
   "source": [
    "# INSTANTIATING a classification tree object\n",
    "full_tree = DecisionTreeClassifier()\n",
    "\n",
    "\n",
    "# FITTING the training data\n",
    "full_tree_fit = full_tree.fit(x_train, y_train)\n",
    "\n",
    "\n",
    "# PREDICTING on new data\n",
    "full_tree_pred = full_tree_fit.predict(x_test)\n",
    "\n",
    "\n",
    "# SCORING the model\n",
    "print('Full Tree Training ACCURACY:', full_tree_fit.score(x_train,\n",
    "                                                    y_train).round(4))\n",
    "\n",
    "print('Full Tree Testing ACCURACY :', full_tree_fit.score(x_test,\n",
    "                                                    y_test).round(4))\n",
    "\n",
    "print('Full Tree AUC Score:', roc_auc_score(y_true  = y_test,\n",
    "                                            y_score = full_tree_pred).round(4))\n",
    "\n",
    "\n",
    "# saving scoring data for future use\n",
    "full_tree_train_score = full_tree_fit.score(x_train, y_train).round(4) # accuracy\n",
    "full_tree_test_score  = full_tree_fit.score(x_test, y_test).round(4)   # accuracy\n",
    "\n",
    "# displaying and saving the gap between training and testing\n",
    "print('Full Tree Train-Test Gap :', abs(full_tree_train_score - full_tree_test_score).round(4))\n",
    "full_tree_test_gap = abs(full_tree_train_score - full_tree_test_score).round(4)\n",
    "\n",
    "# saving AUC\n",
    "full_tree_auc_score   = roc_auc_score(y_true  = y_test,\n",
    "                                      y_score = full_tree_pred).round(4) # auc"
   ]
  },
  {
   "cell_type": "code",
   "execution_count": 48,
   "metadata": {
    "ExecuteTime": {
     "end_time": "2021-02-15T16:05:51.522404Z",
     "start_time": "2021-02-15T16:05:51.515654Z"
    }
   },
   "outputs": [
    {
     "name": "stdout",
     "output_type": "stream",
     "text": [
      "\n",
      "True Negatives : 91\n",
      "False Positives: 65\n",
      "False Negatives: 80\n",
      "True Positives : 251\n",
      "\n"
     ]
    }
   ],
   "source": [
    "# unpacking the confusion matrix\n",
    "full_tree_tn, \\\n",
    "full_tree_fp, \\\n",
    "full_tree_fn, \\\n",
    "full_tree_tp = confusion_matrix(y_true = y_test, y_pred = full_tree_pred).ravel()\n",
    "\n",
    "\n",
    "# printing each result one-by-one\n",
    "print(f\"\"\"\n",
    "True Negatives : {full_tree_tn}\n",
    "False Positives: {full_tree_fp}\n",
    "False Negatives: {full_tree_fn}\n",
    "True Positives : {full_tree_tp}\n",
    "\"\"\")"
   ]
  },
  {
   "cell_type": "markdown",
   "metadata": {},
   "source": [
    "### Pruned Tree"
   ]
  },
  {
   "cell_type": "code",
   "execution_count": 49,
   "metadata": {
    "ExecuteTime": {
     "end_time": "2021-02-15T16:05:51.553948Z",
     "start_time": "2021-02-15T16:05:51.524312Z"
    }
   },
   "outputs": [
    {
     "name": "stdout",
     "output_type": "stream",
     "text": [
      "Training ACCURACY: 0.756\n",
      "Testing  ACCURACY: 0.7844\n",
      "AUC Score        : 0.7262\n",
      "Pruned Tree Train-Test Gap : 0.0284\n"
     ]
    }
   ],
   "source": [
    "# INSTANTIATING a classification tree object\n",
    "tree_pruned = DecisionTreeClassifier(max_depth = 5,\n",
    "                    min_samples_leaf = 25,\n",
    "                    random_state = 219)\n",
    "\n",
    "\n",
    "# FITTING the training data\n",
    "tree_pruned_fit = tree_pruned.fit(x_train, y_train)\n",
    "\n",
    "\n",
    "# PREDICTING on new data\n",
    "tree_pred = tree_pruned_fit.predict(x_test)\n",
    "\n",
    "\n",
    "# SCORING the model\n",
    "print('Training ACCURACY:', tree_pruned_fit.score(x_train, y_train).round(4))\n",
    "print('Testing  ACCURACY:', tree_pruned_fit.score(x_test, y_test).round(4))\n",
    "print('AUC Score        :', roc_auc_score(y_true  = y_test,\n",
    "                                          y_score = tree_pred).round(4))\n",
    "\n",
    "\n",
    "# saving scoring data for future use\n",
    "pruned_tree_train_score = tree_pruned_fit.score(x_train, y_train).round(4) # accuracy\n",
    "pruned_tree_test_score  = tree_pruned_fit.score(x_test, y_test).round(4) # accuracy\n",
    "\n",
    "# displaying and saving the gap between training and testing\n",
    "print('Pruned Tree Train-Test Gap :', abs(pruned_tree_train_score - pruned_tree_test_score).round(4))\n",
    "pruned_tree_test_gap = abs(pruned_tree_train_score - pruned_tree_test_score).round(4)\n",
    "\n",
    "\n",
    "# saving auc score\n",
    "pruned_tree_auc_score   = roc_auc_score(y_true  = y_test,\n",
    "                                        y_score = tree_pred).round(4) # auc"
   ]
  },
  {
   "cell_type": "code",
   "execution_count": 50,
   "metadata": {
    "ExecuteTime": {
     "end_time": "2021-02-15T16:05:51.562426Z",
     "start_time": "2021-02-15T16:05:51.553948Z"
    }
   },
   "outputs": [
    {
     "name": "stdout",
     "output_type": "stream",
     "text": [
      "\n",
      "True Negatives : 88\n",
      "False Positives: 68\n",
      "False Negatives: 37\n",
      "True Positives : 294\n",
      "\n"
     ]
    }
   ],
   "source": [
    "# unpacking the confusion matrix\n",
    "pruned_tree_tn, \\\n",
    "pruned_tree_fp, \\\n",
    "pruned_tree_fn, \\\n",
    "pruned_tree_tp = confusion_matrix(y_true = y_test, y_pred = tree_pred).ravel()\n",
    "\n",
    "\n",
    "# printing each result one-by-one\n",
    "print(f\"\"\"\n",
    "True Negatives : {pruned_tree_tn}\n",
    "False Positives: {pruned_tree_fp}\n",
    "False Negatives: {pruned_tree_fn}\n",
    "True Positives : {pruned_tree_tp}\n",
    "\"\"\")"
   ]
  },
  {
   "cell_type": "code",
   "execution_count": 51,
   "metadata": {
    "ExecuteTime": {
     "end_time": "2021-02-15T16:05:52.404902Z",
     "start_time": "2021-02-15T16:05:51.562426Z"
    }
   },
   "outputs": [
    {
     "data": {
      "image/png": "[encoded data removed]",
      "text/plain": [
       "<IPython.core.display.Image object>"
      ]
     },
     "execution_count": 51,
     "metadata": {
      "image/png": {
       "height": 500,
       "width": 800
      }
     },
     "output_type": "execute_result"
    }
   ],
   "source": [
    "# calling display_tree\n",
    "display_tree(tree       = tree_pruned_fit,\n",
    "             feature_df = x_train)"
   ]
  },
  {
   "cell_type": "code",
   "execution_count": 52,
   "metadata": {
    "ExecuteTime": {
     "end_time": "2021-02-15T16:05:52.675087Z",
     "start_time": "2021-02-15T16:05:52.404902Z"
    }
   },
   "outputs": [
    {
     "name": "stderr",
     "output_type": "stream",
     "text": [
      "<ipython-input-21-141a9830ad1b>:22: FutureWarning: The pandas.np module is deprecated and will be removed from pandas in a future version. Import numpy directly instead\n",
      "  plt.yticks(pd.np.arange(n_features), train.columns)\n"
     ]
    },
    {
     "data": {
      "image/png": "[encoded data removed]",
      "text/plain": [
       "<Figure size 864x648 with 1 Axes>"
      ]
     },
     "metadata": {
      "needs_background": "light"
     },
     "output_type": "display_data"
    }
   ],
   "source": [
    "# plotting feature importance\n",
    "plot_feature_importances(tree_pruned_fit,\n",
    "                         train  = x_train,\n",
    "                         export = False)"
   ]
  },
  {
   "cell_type": "code",
   "execution_count": 53,
   "metadata": {
    "ExecuteTime": {
     "end_time": "2021-02-15T16:05:52.691473Z",
     "start_time": "2021-02-15T16:05:52.677076Z"
    }
   },
   "outputs": [
    {
     "name": "stdout",
     "output_type": "stream",
     "text": [
      "\n",
      "Model         AUC Score      TN, FP, FN, TP\n",
      "-----         ---------      --------------\n",
      "Logistic      0.6968         (76, 80, 31, 300)\n",
      "Tuned LR      0.7064                    (79, 77, 31, 300)\n",
      "Full Tree     0.6708       (91, 65, 80, 251)\n",
      "Pruned Tree   0.7262     (88, 68, 37, 294)\n",
      "\n",
      "\n"
     ]
    }
   ],
   "source": [
    "# comparing results\n",
    "print(f\"\"\"\n",
    "Model         AUC Score      TN, FP, FN, TP\n",
    "-----         ---------      --------------\n",
    "Logistic      {logreg_auc_score}         {logreg_tn, logreg_fp, logreg_fn, logreg_tp}\n",
    "Tuned LR      {lr_auc}                    {lr_tuned_tn,lr_tuned_fp, lr_tuned_fn, lr_tuned_tp}\n",
    "Full Tree     {full_tree_auc_score}       {full_tree_tn, full_tree_fp, full_tree_fn, full_tree_tp}\n",
    "Pruned Tree   {pruned_tree_auc_score}     {pruned_tree_tn, pruned_tree_fp, pruned_tree_fn, pruned_tree_tp}\n",
    "\n",
    "\"\"\")\n",
    "\n",
    "\n",
    "# creating a dictionary for model results\n",
    "model_performance = {\n",
    "    \n",
    "    'Model Name'    : ['Logistic', 'Tuned LR','Full Tree', 'Pruned Tree'],\n",
    "           \n",
    "    'AUC Score'     : [logreg_auc_score, lr_auc, full_tree_auc_score, \n",
    "                       pruned_tree_auc_score],\n",
    "    \n",
    "    'Training Accuracy' : [logreg_train_score, lr_train_acc, full_tree_train_score,\n",
    "                           pruned_tree_train_score ],\n",
    "           \n",
    "    'Testing Accuracy'  : [logreg_test_score, lr_test_acc, full_tree_test_score,\n",
    "                           pruned_tree_test_score, ],\n",
    "\n",
    "    'Confusion Matrix'  : [(logreg_tn, logreg_fp, logreg_fn, logreg_tp),\n",
    "                           (lr_tuned_tn,lr_tuned_fp, lr_tuned_fn, lr_tuned_tp),\n",
    "                           (full_tree_tn, full_tree_fp, full_tree_fn, full_tree_tp),\n",
    "                           (pruned_tree_tn, pruned_tree_fp, pruned_tree_fn, pruned_tree_tp),]}\n",
    "\n",
    "\n",
    "# converting model_performance into a DataFrame\n",
    "model_performance = pd.DataFrame(model_performance)\n",
    "\n"
   ]
  },
  {
   "cell_type": "markdown",
   "metadata": {
    "ExecuteTime": {
     "end_time": "2021-02-15T00:32:21.624676Z",
     "start_time": "2021-02-15T00:32:21.616635Z"
    }
   },
   "source": [
    "### Tuned Tree"
   ]
  },
  {
   "cell_type": "code",
   "execution_count": 54,
   "metadata": {
    "ExecuteTime": {
     "end_time": "2021-02-15T16:05:56.738689Z",
     "start_time": "2021-02-15T16:05:52.695907Z"
    }
   },
   "outputs": [
    {
     "name": "stderr",
     "output_type": "stream",
     "text": [
      "<ipython-input-54-9c058a2a42d7>:4: FutureWarning: The pandas.np module is deprecated and will be removed from pandas in a future version. Import numpy directly instead\n",
      "  depth_space     = pd.np.arange(7)\n",
      "<ipython-input-54-9c058a2a42d7>:5: FutureWarning: The pandas.np module is deprecated and will be removed from pandas in a future version. Import numpy directly instead\n",
      "  leaf_space      = pd.np.arange(1, 31, 3)\n",
      "C:\\Users\\uwaks\\anaconda3\\lib\\site-packages\\sklearn\\model_selection\\_search.py:278: UserWarning: The total space of parameters 70 is smaller than n_iter=150. Running 70 iterations. For exhaustive searches, use GridSearchCV.\n",
      "  warnings.warn(\n"
     ]
    },
    {
     "name": "stdout",
     "output_type": "stream",
     "text": [
      "Tuned Parameters  : {'splitter': 'random', 'min_samples_leaf': 7, 'max_depth': 6, 'criterion': 'gini'}\n",
      "Tuned Training AUC: 0.6883\n"
     ]
    }
   ],
   "source": [
    "# declaring a hyperparameter space\n",
    "criterion_space = ['gini']\n",
    "splitter_space  = ['random']\n",
    "depth_space     = pd.np.arange(7)\n",
    "leaf_space      = pd.np.arange(1, 31, 3)\n",
    "\n",
    "\n",
    "# creating a hyperparameter grid\n",
    "param_grid = {'criterion'        : criterion_space,\n",
    "              'splitter'         : splitter_space,\n",
    "              'max_depth'        : depth_space,\n",
    "              'min_samples_leaf' : leaf_space}\n",
    "\n",
    "\n",
    "# INSTANTIATING the model object without hyperparameters\n",
    "tuned_tree = DecisionTreeClassifier(random_state = 219)\n",
    "\n",
    "\n",
    "# RandomizedSearchCV object\n",
    "tuned_tree_cv = RandomizedSearchCV(estimator             = tuned_tree,\n",
    "                                   param_distributions   = param_grid,\n",
    "                                   cv                    = 3,\n",
    "                                   n_iter                = 150,\n",
    "                                   n_jobs                = -1,\n",
    "                                   random_state          = 219,\n",
    "                                   scoring = make_scorer(roc_auc_score,\n",
    "                                             needs_threshold = False))\n",
    "\n",
    "\n",
    "# FITTING to the FULL DATASET (due to cross-validation)\n",
    "tuned_tree_cv.fit(meals_origin, meals_response)\n",
    "\n",
    "\n",
    "# PREDICT step is not needed\n",
    "\n",
    "\n",
    "# printing the optimal parameters and best score\n",
    "print(\"Tuned Parameters  :\", tuned_tree_cv.best_params_)\n",
    "print(\"Tuned Training AUC:\", tuned_tree_cv.best_score_.round(4))"
   ]
  },
  {
   "cell_type": "code",
   "execution_count": 55,
   "metadata": {
    "ExecuteTime": {
     "end_time": "2021-02-15T16:05:56.785369Z",
     "start_time": "2021-02-15T16:05:56.745368Z"
    }
   },
   "outputs": [
    {
     "name": "stdout",
     "output_type": "stream",
     "text": [
      "Training ACCURACY: 0.7539\n",
      "Testing  ACCURACY: 0.7618\n",
      "AUC Score        : 0.696\n"
     ]
    }
   ],
   "source": [
    "# building a model based on hyperparameter tuning results\n",
    "\n",
    "# INSTANTIATING a logistic regression model with tuned values\n",
    "tree_tuned = tuned_tree_cv.best_estimator_\n",
    "\n",
    "\n",
    "# FIT step is not needed\n",
    "\n",
    "\n",
    "# PREDICTING based on the testing set\n",
    "tree_tuned_pred = tree_tuned.predict(x_test)\n",
    "\n",
    "\n",
    "# SCORING the results\n",
    "print('Training ACCURACY:', tree_tuned.score(x_train, y_train).round(4))\n",
    "print('Testing  ACCURACY:', tree_tuned.score(x_test, y_test).round(4))\n",
    "print('AUC Score        :', roc_auc_score(y_true  = y_test,\n",
    "                                          y_score = tree_tuned_pred).round(4))\n",
    "\n",
    "\n",
    "# saving scoring data for future use\n",
    "tree_tuned_train_score = tree_tuned.score(x_train, y_train).round(4) # accuracy\n",
    "tree_tuned_test_score  = tree_tuned.score(x_test, y_test).round(4)   # accuracy\n",
    "\n",
    "\n",
    "# saving the AUC score\n",
    "tree_tuned_auc         = roc_auc_score(y_true  = y_test,\n",
    "                                     y_score = tree_tuned_pred).round(4) # auc"
   ]
  },
  {
   "cell_type": "code",
   "execution_count": 56,
   "metadata": {
    "ExecuteTime": {
     "end_time": "2021-02-15T16:05:56.808158Z",
     "start_time": "2021-02-15T16:05:56.788959Z"
    }
   },
   "outputs": [
    {
     "name": "stdout",
     "output_type": "stream",
     "text": [
      "\n",
      "True Negatives : 80\n",
      "False Positives: 76\n",
      "False Negatives: 40\n",
      "True Positives : 291\n",
      "\n"
     ]
    }
   ],
   "source": [
    "# unpacking the confusion matrix\n",
    "tuned_tree_tn, \\\n",
    "tuned_tree_fp, \\\n",
    "tuned_tree_fn, \\\n",
    "tuned_tree_tp = confusion_matrix(y_true = y_test, y_pred = tree_tuned_pred).ravel()\n",
    "\n",
    "\n",
    "# printing each result one-by-one\n",
    "print(f\"\"\"\n",
    "True Negatives : {tuned_tree_tn}\n",
    "False Positives: {tuned_tree_fp}\n",
    "False Negatives: {tuned_tree_fn}\n",
    "True Positives : {tuned_tree_tp}\n",
    "\"\"\")"
   ]
  },
  {
   "cell_type": "code",
   "execution_count": 57,
   "metadata": {
    "ExecuteTime": {
     "end_time": "2021-02-15T16:05:56.852933Z",
     "start_time": "2021-02-15T16:05:56.809154Z"
    }
   },
   "outputs": [
    {
     "data": {
      "text/html": [
       "<div>\n",
       "<style scoped>\n",
       "    .dataframe tbody tr th:only-of-type {\n",
       "        vertical-align: middle;\n",
       "    }\n",
       "\n",
       "    .dataframe tbody tr th {\n",
       "        vertical-align: top;\n",
       "    }\n",
       "\n",
       "    .dataframe thead th {\n",
       "        text-align: right;\n",
       "    }\n",
       "</style>\n",
       "<table border=\"1\" class=\"dataframe\">\n",
       "  <thead>\n",
       "    <tr style=\"text-align: right;\">\n",
       "      <th></th>\n",
       "      <th>Model Name</th>\n",
       "      <th>AUC Score</th>\n",
       "      <th>Training Accuracy</th>\n",
       "      <th>Testing Accuracy</th>\n",
       "      <th>Confusion Matrix</th>\n",
       "    </tr>\n",
       "  </thead>\n",
       "  <tbody>\n",
       "    <tr>\n",
       "      <th>0</th>\n",
       "      <td>Logistic</td>\n",
       "      <td>0.6968</td>\n",
       "      <td>0.7601</td>\n",
       "      <td>0.7721</td>\n",
       "      <td>(76, 80, 31, 300)</td>\n",
       "    </tr>\n",
       "    <tr>\n",
       "      <th>1</th>\n",
       "      <td>Tuned LR</td>\n",
       "      <td>0.7064</td>\n",
       "      <td>0.7635</td>\n",
       "      <td>0.7782</td>\n",
       "      <td>(79, 77, 31, 300)</td>\n",
       "    </tr>\n",
       "    <tr>\n",
       "      <th>2</th>\n",
       "      <td>Full Tree</td>\n",
       "      <td>0.6708</td>\n",
       "      <td>0.8595</td>\n",
       "      <td>0.7023</td>\n",
       "      <td>(91, 65, 80, 251)</td>\n",
       "    </tr>\n",
       "    <tr>\n",
       "      <th>3</th>\n",
       "      <td>Pruned Tree</td>\n",
       "      <td>0.7262</td>\n",
       "      <td>0.7560</td>\n",
       "      <td>0.7844</td>\n",
       "      <td>(88, 68, 37, 294)</td>\n",
       "    </tr>\n",
       "    <tr>\n",
       "      <th>4</th>\n",
       "      <td>Tuned Tree</td>\n",
       "      <td>0.6960</td>\n",
       "      <td>0.7539</td>\n",
       "      <td>0.7618</td>\n",
       "      <td>(80, 76, 40, 291)</td>\n",
       "    </tr>\n",
       "  </tbody>\n",
       "</table>\n",
       "</div>"
      ],
      "text/plain": [
       "    Model Name  AUC Score  Training Accuracy  Testing Accuracy   Confusion Matrix\n",
       "0     Logistic     0.6968             0.7601            0.7721  (76, 80, 31, 300)\n",
       "1     Tuned LR     0.7064             0.7635            0.7782  (79, 77, 31, 300)\n",
       "2    Full Tree     0.6708             0.8595            0.7023  (91, 65, 80, 251)\n",
       "3  Pruned Tree     0.7262             0.7560            0.7844  (88, 68, 37, 294)\n",
       "4   Tuned Tree     0.6960             0.7539            0.7618  (80, 76, 40, 291)"
      ]
     },
     "execution_count": 57,
     "metadata": {},
     "output_type": "execute_result"
    }
   ],
   "source": [
    "# declaring model performance objects\n",
    "tree_train_acc = tree_tuned.score(x_train, y_train).round(4)\n",
    "tree_test_acc  = tree_tuned.score(x_test, y_test).round(4)\n",
    "tree_auc       = roc_auc_score(y_true  = y_test,\n",
    "                              y_score = tree_tuned_pred).round(4)\n",
    "\n",
    "\n",
    "# appending to model_performance\n",
    "model_performance = model_performance.append(\n",
    "                          {'Model Name'        : 'Tuned Tree',\n",
    "                           'Training Accuracy' : tree_train_acc,\n",
    "                           'Testing Accuracy'  : tree_test_acc,\n",
    "                           'AUC Score'         : tree_auc,\n",
    "                           'Confusion Matrix'  : (tuned_tree_tn,\n",
    "                                                  tuned_tree_fp,\n",
    "                                                  tuned_tree_fn,\n",
    "                                                  tuned_tree_tp)},\n",
    "                           ignore_index = True)\n",
    "\n",
    "\n",
    "# checking the results\n",
    "model_performance"
   ]
  },
  {
   "cell_type": "markdown",
   "metadata": {},
   "source": [
    "## Random Forest"
   ]
  },
  {
   "cell_type": "markdown",
   "metadata": {},
   "source": [
    "### Base Random Forest"
   ]
  },
  {
   "cell_type": "code",
   "execution_count": 58,
   "metadata": {
    "ExecuteTime": {
     "end_time": "2021-02-15T16:05:56.877754Z",
     "start_time": "2021-02-15T16:05:56.856505Z"
    }
   },
   "outputs": [],
   "source": [
    "# train/test split with the logit_full variables\n",
    "meals_data   =  meals.loc[ : , candidate_dict ['x_variables']]\n",
    "meals_target =  meals.loc[ :, 'Cross_sell_success']\n",
    "\n",
    "\n",
    "# train/test split\n",
    "x_train, x_test, y_train, y_test = train_test_split(\n",
    "            meals_data,\n",
    "            meals_target,\n",
    "            random_state = 219,\n",
    "            test_size    = 0.25,\n",
    "            stratify     = meals_target)"
   ]
  },
  {
   "cell_type": "code",
   "execution_count": 59,
   "metadata": {
    "ExecuteTime": {
     "end_time": "2021-02-15T16:05:56.896030Z",
     "start_time": "2021-02-15T16:05:56.881364Z"
    }
   },
   "outputs": [],
   "source": [
    "# INSTANTIATING a random forest model with default values\n",
    "rf_default = RandomForestClassifier(n_estimators     = 100,\n",
    "                                    criterion        = 'gini',\n",
    "                                    max_depth        = None,\n",
    "                                    min_samples_leaf = 1,\n",
    "                                    bootstrap        = True,\n",
    "                                    warm_start       = False,\n",
    "                                    random_state     = 219)"
   ]
  },
  {
   "cell_type": "code",
   "execution_count": 60,
   "metadata": {
    "ExecuteTime": {
     "end_time": "2021-02-15T16:05:57.529169Z",
     "start_time": "2021-02-15T16:05:56.898027Z"
    }
   },
   "outputs": [
    {
     "name": "stdout",
     "output_type": "stream",
     "text": [
      "Training ACCURACY: 1.0\n",
      "Testing  ACCURACY: 0.7495\n",
      "Train-Test Gap   : 0.2505\n",
      "AUC Score        : 0.6463\n"
     ]
    }
   ],
   "source": [
    "# FITTING the training data\n",
    "rf_default_fit = rf_default.fit(x_train, y_train)\n",
    "\n",
    "\n",
    "# PREDICTING based on the testing set\n",
    "rf_default_fit_pred = rf_default_fit.predict(x_test)\n",
    "\n",
    "\n",
    "# SCORING the results\n",
    "print('Training ACCURACY:', rf_default_fit.score(x_train, y_train).round(4))\n",
    "print('Testing  ACCURACY:', rf_default_fit.score(x_test, y_test).round(4))\n",
    "\n",
    "rf_default_train = rf_default_fit.score(x_train, y_train).round(4)\n",
    "rf_default_test = rf_default_fit.score(x_test, y_test).round(4)\n",
    "\n",
    "\n",
    "# displaying and saving the gap between training and testing\n",
    "print('Train-Test Gap   :', abs(rf_default_train - rf_default_test).round(4))\n",
    "rf_default_test_gap = abs(rf_default_train - rf_default_test).round(4)\n",
    "\n",
    "\n",
    "# saving AUC score\n",
    "print('AUC Score        :', roc_auc_score(y_true  = y_test,\n",
    "                                          y_score = rf_default_fit_pred).round(4))"
   ]
  },
  {
   "cell_type": "code",
   "execution_count": 61,
   "metadata": {
    "ExecuteTime": {
     "end_time": "2021-02-15T16:05:58.036545Z",
     "start_time": "2021-02-15T16:05:57.531344Z"
    }
   },
   "outputs": [
    {
     "name": "stderr",
     "output_type": "stream",
     "text": [
      "<ipython-input-21-141a9830ad1b>:22: FutureWarning: The pandas.np module is deprecated and will be removed from pandas in a future version. Import numpy directly instead\n",
      "  plt.yticks(pd.np.arange(n_features), train.columns)\n"
     ]
    },
    {
     "data": {
      "image/png": "[encoded data removed]",
      "text/plain": [
       "<Figure size 864x648 with 1 Axes>"
      ]
     },
     "metadata": {
      "needs_background": "light"
     },
     "output_type": "display_data"
    }
   ],
   "source": [
    "# plotting feature importances\n",
    "plot_feature_importances(model = rf_default_fit,\n",
    "                        train = x_train,\n",
    "                        export = False)"
   ]
  },
  {
   "cell_type": "code",
   "execution_count": 62,
   "metadata": {
    "ExecuteTime": {
     "end_time": "2021-02-15T16:05:58.057828Z",
     "start_time": "2021-02-15T16:05:58.038779Z"
    }
   },
   "outputs": [
    {
     "name": "stdout",
     "output_type": "stream",
     "text": [
      "\n",
      "True Negatives : 56\n",
      "False Positives: 100\n",
      "False Negatives: 22\n",
      "True Positives : 309\n",
      "\n"
     ]
    }
   ],
   "source": [
    "# unpacking the confusion matrix\n",
    "rf_tn, \\\n",
    "rf_fp, \\\n",
    "rf_fn, \\\n",
    "rf_tp = confusion_matrix(y_true = y_test, y_pred = rf_default_fit_pred).ravel()\n",
    "\n",
    "\n",
    "# printing each result one-by-one\n",
    "print(f\"\"\"\n",
    "True Negatives : {rf_tn}\n",
    "False Positives: {rf_fp}\n",
    "False Negatives: {rf_fn}\n",
    "True Positives : {rf_tp}\n",
    "\"\"\")"
   ]
  },
  {
   "cell_type": "code",
   "execution_count": 63,
   "metadata": {
    "ExecuteTime": {
     "end_time": "2021-02-15T16:05:58.136578Z",
     "start_time": "2021-02-15T16:05:58.058858Z"
    }
   },
   "outputs": [
    {
     "data": {
      "text/html": [
       "<div>\n",
       "<style scoped>\n",
       "    .dataframe tbody tr th:only-of-type {\n",
       "        vertical-align: middle;\n",
       "    }\n",
       "\n",
       "    .dataframe tbody tr th {\n",
       "        vertical-align: top;\n",
       "    }\n",
       "\n",
       "    .dataframe thead th {\n",
       "        text-align: right;\n",
       "    }\n",
       "</style>\n",
       "<table border=\"1\" class=\"dataframe\">\n",
       "  <thead>\n",
       "    <tr style=\"text-align: right;\">\n",
       "      <th></th>\n",
       "      <th>Model Name</th>\n",
       "      <th>AUC Score</th>\n",
       "      <th>Training Accuracy</th>\n",
       "      <th>Testing Accuracy</th>\n",
       "      <th>Confusion Matrix</th>\n",
       "    </tr>\n",
       "  </thead>\n",
       "  <tbody>\n",
       "    <tr>\n",
       "      <th>0</th>\n",
       "      <td>Logistic</td>\n",
       "      <td>0.6968</td>\n",
       "      <td>0.7601</td>\n",
       "      <td>0.7721</td>\n",
       "      <td>(76, 80, 31, 300)</td>\n",
       "    </tr>\n",
       "    <tr>\n",
       "      <th>1</th>\n",
       "      <td>Tuned LR</td>\n",
       "      <td>0.7064</td>\n",
       "      <td>0.7635</td>\n",
       "      <td>0.7782</td>\n",
       "      <td>(79, 77, 31, 300)</td>\n",
       "    </tr>\n",
       "    <tr>\n",
       "      <th>2</th>\n",
       "      <td>Full Tree</td>\n",
       "      <td>0.6708</td>\n",
       "      <td>0.8595</td>\n",
       "      <td>0.7023</td>\n",
       "      <td>(91, 65, 80, 251)</td>\n",
       "    </tr>\n",
       "    <tr>\n",
       "      <th>3</th>\n",
       "      <td>Pruned Tree</td>\n",
       "      <td>0.7262</td>\n",
       "      <td>0.7560</td>\n",
       "      <td>0.7844</td>\n",
       "      <td>(88, 68, 37, 294)</td>\n",
       "    </tr>\n",
       "    <tr>\n",
       "      <th>4</th>\n",
       "      <td>Tuned Tree</td>\n",
       "      <td>0.6960</td>\n",
       "      <td>0.7539</td>\n",
       "      <td>0.7618</td>\n",
       "      <td>(80, 76, 40, 291)</td>\n",
       "    </tr>\n",
       "    <tr>\n",
       "      <th>5</th>\n",
       "      <td>Random Forest (full)</td>\n",
       "      <td>0.6463</td>\n",
       "      <td>1.0000</td>\n",
       "      <td>0.7495</td>\n",
       "      <td>(56, 100, 22, 309)</td>\n",
       "    </tr>\n",
       "  </tbody>\n",
       "</table>\n",
       "</div>"
      ],
      "text/plain": [
       "             Model Name  AUC Score  Training Accuracy  Testing Accuracy    Confusion Matrix\n",
       "0              Logistic     0.6968             0.7601            0.7721   (76, 80, 31, 300)\n",
       "1              Tuned LR     0.7064             0.7635            0.7782   (79, 77, 31, 300)\n",
       "2             Full Tree     0.6708             0.8595            0.7023   (91, 65, 80, 251)\n",
       "3           Pruned Tree     0.7262             0.7560            0.7844   (88, 68, 37, 294)\n",
       "4            Tuned Tree     0.6960             0.7539            0.7618   (80, 76, 40, 291)\n",
       "5  Random Forest (full)     0.6463             1.0000            0.7495  (56, 100, 22, 309)"
      ]
     },
     "execution_count": 63,
     "metadata": {},
     "output_type": "execute_result"
    }
   ],
   "source": [
    "# declaring model performance objects\n",
    "rf_train_acc = rf_default_fit.score(x_train, y_train).round(4)\n",
    "rf_test_acc  = rf_default_fit.score(x_test, y_test).round(4)\n",
    "rf_auc       = roc_auc_score(y_true  = y_test,\n",
    "                             y_score = rf_default_fit_pred).round(4)\n",
    "\n",
    "\n",
    "# appending to model_performance\n",
    "model_performance = model_performance.append(\n",
    "                          {'Model Name'         : 'Random Forest (full)',\n",
    "                           'Training Accuracy'  : rf_train_acc,\n",
    "                           'Testing Accuracy'   : rf_test_acc,\n",
    "                           'AUC Score'          : rf_auc,\n",
    "                           'Confusion Matrix'   : (rf_tn,\n",
    "                                                   rf_fp,\n",
    "                                                   rf_fn,\n",
    "                                                   rf_tp)},\n",
    "                          ignore_index = True)\n",
    "\n",
    "\n",
    "# checking the results\n",
    "model_performance"
   ]
  },
  {
   "cell_type": "markdown",
   "metadata": {},
   "source": [
    "### Tuned Random Forest"
   ]
  },
  {
   "cell_type": "code",
   "execution_count": 64,
   "metadata": {
    "ExecuteTime": {
     "end_time": "2021-02-15T16:05:58.156106Z",
     "start_time": "2021-02-15T16:05:58.137607Z"
    }
   },
   "outputs": [],
   "source": [
    "#Declaring variables\n",
    "meals_data   =  meals.loc[ : , candidate_dict['logit_full']]\n",
    "meals_target =  meals.loc[ : , 'Cross_sell_success']\n",
    "\n",
    "\n",
    "# train-test split with stratification\n",
    "x_train, x_test, y_train, y_test = train_test_split(\n",
    "            meals_data,\n",
    "            meals_target,\n",
    "            test_size    = 0.25,\n",
    "            random_state = 219,\n",
    "            stratify     = meals_response)\n",
    "\n",
    "\n",
    "# merging training data for statsmodels\n",
    "meals_train = pd.concat([x_train, y_train], axis = 1)\n"
   ]
  },
  {
   "cell_type": "code",
   "execution_count": 65,
   "metadata": {
    "ExecuteTime": {
     "end_time": "2021-02-15T16:06:09.735925Z",
     "start_time": "2021-02-15T16:05:58.156106Z"
    }
   },
   "outputs": [
    {
     "name": "stderr",
     "output_type": "stream",
     "text": [
      "<ipython-input-65-931fc288ec44>:10: FutureWarning: The pandas.np module is deprecated and will be removed from pandas in a future version. Import numpy directly instead\n",
      "  estimator_space  = pd.np.arange(1000)\n",
      "<ipython-input-65-931fc288ec44>:11: FutureWarning: The pandas.np module is deprecated and will be removed from pandas in a future version. Import numpy directly instead\n",
      "  leaf_space       = pd.np.arange(1, 31, 10)\n",
      "<ipython-input-65-931fc288ec44>:15: FutureWarning: The pandas.np module is deprecated and will be removed from pandas in a future version. Import numpy directly instead\n",
      "  depth_space      = pd.np.arange(5)\n"
     ]
    },
    {
     "name": "stdout",
     "output_type": "stream",
     "text": [
      "Tuned Parameters  : {'warm_start': True, 'n_estimators': 707, 'min_samples_leaf': 11, 'max_depth': 3, 'criterion': 'gini', 'bootstrap': False}\n",
      "Tuned Training AUC: 0.5544\n"
     ]
    }
   ],
   "source": [
    "# FITTING the training data\n",
    "rf_default_fit = rf_default.fit(x_train, y_train)\n",
    "\n",
    "\n",
    "# PREDICTING based on the testing set\n",
    "rf_default_fit_pred = rf_default_fit.predict(x_test)\n",
    "\n",
    "\n",
    "# declaring a hyperparameter space\n",
    "estimator_space  = pd.np.arange(1000)\n",
    "leaf_space       = pd.np.arange(1, 31, 10)\n",
    "criterion_space  = ['gini']\n",
    "bootstrap_space  = [False]\n",
    "warm_start_space = [True]\n",
    "depth_space      = pd.np.arange(5)\n",
    "\n",
    "# creating a hyperparameter grid\n",
    "param_grid = {'n_estimators'     : estimator_space,\n",
    "              'min_samples_leaf' : leaf_space,\n",
    "              'criterion'        : criterion_space,\n",
    "              'bootstrap'        : bootstrap_space,\n",
    "              'warm_start'       : warm_start_space,\n",
    "              'max_depth'        : depth_space}\n",
    "\n",
    "\n",
    "# INSTANTIATING the model object without hyperparameters\n",
    "forest_grid = RandomForestClassifier(random_state = 219)\n",
    "\n",
    "\n",
    "# GridSearchCV object\n",
    "forest_cv = RandomizedSearchCV(estimator           = forest_grid,\n",
    "                               param_distributions = param_grid,\n",
    "                               cv         = 3,\n",
    "                               n_iter     = 10,\n",
    "                               n_jobs     = -1,\n",
    "                               scoring    = make_scorer(roc_auc_score,\n",
    "                                            needs_threshold = False))\n",
    "\n",
    "\n",
    "# FITTING to the FULL DATASET (due to cross-validation)\n",
    "forest_cv.fit(meals_data, meals_target)\n",
    "\n",
    "\n",
    "# PREDICT step is not needed\n",
    "\n",
    "\n",
    "# printing the optimal parameters and best score\n",
    "print(\"Tuned Parameters  :\", forest_cv.best_params_)\n",
    "print(\"Tuned Training AUC:\", forest_cv.best_score_.round(4))"
   ]
  },
  {
   "cell_type": "code",
   "execution_count": 66,
   "metadata": {
    "ExecuteTime": {
     "end_time": "2021-02-15T16:06:09.752081Z",
     "start_time": "2021-02-15T16:06:09.738408Z"
    }
   },
   "outputs": [
    {
     "data": {
      "text/plain": [
       "RandomForestClassifier(bootstrap=False, max_depth=3, min_samples_leaf=11,\n",
       "                       n_estimators=707, random_state=219, warm_start=True)"
      ]
     },
     "execution_count": 66,
     "metadata": {},
     "output_type": "execute_result"
    }
   ],
   "source": [
    "# best estimators based on RandomizedSearchCV\n",
    "forest_cv.best_estimator_"
   ]
  },
  {
   "cell_type": "code",
   "execution_count": 67,
   "metadata": {
    "ExecuteTime": {
     "end_time": "2021-02-15T16:06:10.280188Z",
     "start_time": "2021-02-15T16:06:09.753393Z"
    }
   },
   "outputs": [
    {
     "name": "stdout",
     "output_type": "stream",
     "text": [
      "Forest Tuned Training ACCURACY: 0.7162\n",
      "Forest Tuned Testing  ACCURACY: 0.7207\n",
      "Forest Tuned AUC Score        : 0.5709\n"
     ]
    }
   ],
   "source": [
    "# building a model based on hyperparameter tuning results\n",
    "\n",
    "# INSTANTIATING with best_estimator\n",
    "forest_tuned = forest_cv.best_estimator_\n",
    "\n",
    "\n",
    "# FIT step not needed\n",
    "\n",
    "\n",
    "# PREDICTING based on the testing set\n",
    "forest_tuned_pred = forest_tuned.predict(x_test)\n",
    "\n",
    "\n",
    "# SCORING the results\n",
    "print('Forest Tuned Training ACCURACY:', forest_tuned.score(x_train, y_train).round(4))\n",
    "print('Forest Tuned Testing  ACCURACY:', forest_tuned.score(x_test, y_test).round(4))\n",
    "print('Forest Tuned AUC Score        :', roc_auc_score(y_true  = y_test,\n",
    "                                                       y_score = forest_tuned_pred).round(4))\n",
    "\n",
    "\n",
    "# saving scoring data for future use\n",
    "forest_tuned_train_score = forest_tuned.score(x_train, y_train).round(4) # accuracy\n",
    "forest_tuned_test_score  = forest_tuned.score(x_test, y_test).round(4)   # accuracy\n",
    "\n",
    "\n",
    "# saving the AUC score\n",
    "forest_tuned_auc = roc_auc_score(y_true  = y_test,\n",
    "                                 y_score = forest_tuned_pred).round(4) # auc"
   ]
  },
  {
   "cell_type": "code",
   "execution_count": 68,
   "metadata": {
    "ExecuteTime": {
     "end_time": "2021-02-15T16:06:11.001221Z",
     "start_time": "2021-02-15T16:06:10.280188Z"
    }
   },
   "outputs": [
    {
     "name": "stderr",
     "output_type": "stream",
     "text": [
      "<ipython-input-21-141a9830ad1b>:22: FutureWarning: The pandas.np module is deprecated and will be removed from pandas in a future version. Import numpy directly instead\n",
      "  plt.yticks(pd.np.arange(n_features), train.columns)\n"
     ]
    },
    {
     "data": {
      "image/png": "[encoded data removed]",
      "text/plain": [
       "<Figure size 864x648 with 1 Axes>"
      ]
     },
     "metadata": {
      "needs_background": "light"
     },
     "output_type": "display_data"
    }
   ],
   "source": [
    "# plotting feature importances\n",
    "plot_feature_importances(forest_tuned,\n",
    "                         train = x_train,\n",
    "                         export = False)"
   ]
  },
  {
   "cell_type": "code",
   "execution_count": 69,
   "metadata": {
    "ExecuteTime": {
     "end_time": "2021-02-15T16:06:11.024524Z",
     "start_time": "2021-02-15T16:06:11.005319Z"
    }
   },
   "outputs": [
    {
     "name": "stdout",
     "output_type": "stream",
     "text": [
      "\n",
      "True Negatives : 24\n",
      "False Positives: 132\n",
      "False Negatives: 4\n",
      "True Positives : 327\n",
      "\n"
     ]
    }
   ],
   "source": [
    "# unpacking the confusion matrix\n",
    "tuned_rf_tn, \\\n",
    "tuned_rf_fp, \\\n",
    "tuned_rf_fn, \\\n",
    "tuned_rf_tp = confusion_matrix(y_true = y_test, y_pred = forest_tuned_pred).ravel()\n",
    "\n",
    "\n",
    "# printing each result one-by-one\n",
    "print(f\"\"\"\n",
    "True Negatives : {tuned_rf_tn}\n",
    "False Positives: {tuned_rf_fp}\n",
    "False Negatives: {tuned_rf_fn}\n",
    "True Positives : {tuned_rf_tp}\n",
    "\"\"\")"
   ]
  },
  {
   "cell_type": "code",
   "execution_count": 70,
   "metadata": {
    "ExecuteTime": {
     "end_time": "2021-02-15T16:06:11.234612Z",
     "start_time": "2021-02-15T16:06:11.025553Z"
    }
   },
   "outputs": [
    {
     "data": {
      "text/html": [
       "<div>\n",
       "<style scoped>\n",
       "    .dataframe tbody tr th:only-of-type {\n",
       "        vertical-align: middle;\n",
       "    }\n",
       "\n",
       "    .dataframe tbody tr th {\n",
       "        vertical-align: top;\n",
       "    }\n",
       "\n",
       "    .dataframe thead th {\n",
       "        text-align: right;\n",
       "    }\n",
       "</style>\n",
       "<table border=\"1\" class=\"dataframe\">\n",
       "  <thead>\n",
       "    <tr style=\"text-align: right;\">\n",
       "      <th></th>\n",
       "      <th>Model Name</th>\n",
       "      <th>AUC Score</th>\n",
       "      <th>Training Accuracy</th>\n",
       "      <th>Testing Accuracy</th>\n",
       "      <th>Confusion Matrix</th>\n",
       "    </tr>\n",
       "  </thead>\n",
       "  <tbody>\n",
       "    <tr>\n",
       "      <th>0</th>\n",
       "      <td>Logistic</td>\n",
       "      <td>0.6968</td>\n",
       "      <td>0.7601</td>\n",
       "      <td>0.7721</td>\n",
       "      <td>(76, 80, 31, 300)</td>\n",
       "    </tr>\n",
       "    <tr>\n",
       "      <th>1</th>\n",
       "      <td>Tuned LR</td>\n",
       "      <td>0.7064</td>\n",
       "      <td>0.7635</td>\n",
       "      <td>0.7782</td>\n",
       "      <td>(79, 77, 31, 300)</td>\n",
       "    </tr>\n",
       "    <tr>\n",
       "      <th>2</th>\n",
       "      <td>Full Tree</td>\n",
       "      <td>0.6708</td>\n",
       "      <td>0.8595</td>\n",
       "      <td>0.7023</td>\n",
       "      <td>(91, 65, 80, 251)</td>\n",
       "    </tr>\n",
       "    <tr>\n",
       "      <th>3</th>\n",
       "      <td>Pruned Tree</td>\n",
       "      <td>0.7262</td>\n",
       "      <td>0.7560</td>\n",
       "      <td>0.7844</td>\n",
       "      <td>(88, 68, 37, 294)</td>\n",
       "    </tr>\n",
       "    <tr>\n",
       "      <th>4</th>\n",
       "      <td>Tuned Tree</td>\n",
       "      <td>0.6960</td>\n",
       "      <td>0.7539</td>\n",
       "      <td>0.7618</td>\n",
       "      <td>(80, 76, 40, 291)</td>\n",
       "    </tr>\n",
       "    <tr>\n",
       "      <th>5</th>\n",
       "      <td>Random Forest (full)</td>\n",
       "      <td>0.6463</td>\n",
       "      <td>1.0000</td>\n",
       "      <td>0.7495</td>\n",
       "      <td>(56, 100, 22, 309)</td>\n",
       "    </tr>\n",
       "    <tr>\n",
       "      <th>6</th>\n",
       "      <td>Tuned Random Forest (Full)</td>\n",
       "      <td>0.5709</td>\n",
       "      <td>0.7162</td>\n",
       "      <td>0.7207</td>\n",
       "      <td>(24, 132, 4, 327)</td>\n",
       "    </tr>\n",
       "  </tbody>\n",
       "</table>\n",
       "</div>"
      ],
      "text/plain": [
       "                   Model Name  AUC Score  Training Accuracy  Testing Accuracy    Confusion Matrix\n",
       "0                    Logistic     0.6968             0.7601            0.7721   (76, 80, 31, 300)\n",
       "1                    Tuned LR     0.7064             0.7635            0.7782   (79, 77, 31, 300)\n",
       "2                   Full Tree     0.6708             0.8595            0.7023   (91, 65, 80, 251)\n",
       "3                 Pruned Tree     0.7262             0.7560            0.7844   (88, 68, 37, 294)\n",
       "4                  Tuned Tree     0.6960             0.7539            0.7618   (80, 76, 40, 291)\n",
       "5        Random Forest (full)     0.6463             1.0000            0.7495  (56, 100, 22, 309)\n",
       "6  Tuned Random Forest (Full)     0.5709             0.7162            0.7207   (24, 132, 4, 327)"
      ]
     },
     "execution_count": 70,
     "metadata": {},
     "output_type": "execute_result"
    }
   ],
   "source": [
    "# declaring model performance objects\n",
    "tuned_rf_train_acc = forest_tuned.score(x_train, y_train).round(4)\n",
    "tuned_rf_test_acc  = forest_tuned.score(x_test, y_test).round(4)\n",
    "tuned_rf_auc       = roc_auc_score(y_true  = y_test,\n",
    "                                   y_score = forest_tuned_pred).round(4)\n",
    "\n",
    "\n",
    "# appending to model_performance\n",
    "model_performance = model_performance.append(\n",
    "                          {'Model Name'         : 'Tuned Random Forest (Full)',\n",
    "                           'Training Accuracy'  : tuned_rf_train_acc,\n",
    "                           'Testing Accuracy'   : tuned_rf_test_acc,\n",
    "                           'AUC Score'          : tuned_rf_auc,\n",
    "                           'Confusion Matrix'   : (tuned_rf_tn,\n",
    "                                                   tuned_rf_fp,\n",
    "                                                   tuned_rf_fn,\n",
    "                                                   tuned_rf_tp)},\n",
    "                          ignore_index = True)\n",
    "\n",
    "\n",
    "# checking the results\n",
    "model_performance"
   ]
  },
  {
   "cell_type": "markdown",
   "metadata": {},
   "source": [
    "## Gradient Boosting Model(GBM)"
   ]
  },
  {
   "cell_type": "markdown",
   "metadata": {},
   "source": [
    "### GBM Base"
   ]
  },
  {
   "cell_type": "code",
   "execution_count": 71,
   "metadata": {
    "ExecuteTime": {
     "end_time": "2021-02-15T16:06:11.895476Z",
     "start_time": "2021-02-15T16:06:11.236108Z"
    }
   },
   "outputs": [
    {
     "name": "stdout",
     "output_type": "stream",
     "text": [
      "Training ACCURACY: 0.8389\n",
      "Testing ACCURACY : 0.7618\n",
      "AUC Score        : 0.6807\n"
     ]
    }
   ],
   "source": [
    "# INSTANTIATING the model object without hyperparameters\n",
    "full_gbm_default = GradientBoostingClassifier(loss          = 'deviance',\n",
    "                                              learning_rate = 0.1,\n",
    "                                              n_estimators  = 100,\n",
    "                                              criterion     = 'friedman_mse',\n",
    "                                              max_depth     = 3,\n",
    "                                              warm_start    = False,\n",
    "                                              random_state  = 219)\n",
    "\n",
    "\n",
    "# FIT step is needed as we are not using .best_estimator\n",
    "full_gbm_default_fit = full_gbm_default.fit(x_train, y_train)\n",
    "\n",
    "\n",
    "# PREDICTING based on the testing set\n",
    "full_gbm_default_pred = full_gbm_default_fit.predict(x_test)\n",
    "\n",
    "\n",
    "# SCORING the results\n",
    "print('Training ACCURACY:', full_gbm_default_fit.score(x_train, y_train).round(4))\n",
    "print('Testing ACCURACY :', full_gbm_default_fit.score(x_test, y_test).round(4))\n",
    "print('AUC Score        :', roc_auc_score(y_true  = y_test,\n",
    "                                          y_score = full_gbm_default_pred).round(4))"
   ]
  },
  {
   "cell_type": "code",
   "execution_count": 72,
   "metadata": {
    "ExecuteTime": {
     "end_time": "2021-02-15T16:06:11.911560Z",
     "start_time": "2021-02-15T16:06:11.895476Z"
    }
   },
   "outputs": [
    {
     "name": "stdout",
     "output_type": "stream",
     "text": [
      "\n",
      "True Negatives : 71\n",
      "False Positives: 85\n",
      "False Negatives: 31\n",
      "True Positives : 300\n",
      "\n"
     ]
    }
   ],
   "source": [
    "# unpacking the confusion matrix\n",
    "gbm_default_tn, \\\n",
    "gbm_default_fp, \\\n",
    "gbm_default_fn, \\\n",
    "gbm_default_tp = confusion_matrix(y_true = y_test, y_pred = full_gbm_default_pred).ravel()\n",
    "\n",
    "\n",
    "# printing each result one-by-one\n",
    "print(f\"\"\"\n",
    "True Negatives : {gbm_default_tn}\n",
    "False Positives: {gbm_default_fp}\n",
    "False Negatives: {gbm_default_fn}\n",
    "True Positives : {gbm_default_tp}\n",
    "\"\"\")"
   ]
  },
  {
   "cell_type": "code",
   "execution_count": 73,
   "metadata": {
    "ExecuteTime": {
     "end_time": "2021-02-15T16:06:11.953372Z",
     "start_time": "2021-02-15T16:06:11.914933Z"
    }
   },
   "outputs": [
    {
     "data": {
      "text/html": [
       "<div>\n",
       "<style scoped>\n",
       "    .dataframe tbody tr th:only-of-type {\n",
       "        vertical-align: middle;\n",
       "    }\n",
       "\n",
       "    .dataframe tbody tr th {\n",
       "        vertical-align: top;\n",
       "    }\n",
       "\n",
       "    .dataframe thead th {\n",
       "        text-align: right;\n",
       "    }\n",
       "</style>\n",
       "<table border=\"1\" class=\"dataframe\">\n",
       "  <thead>\n",
       "    <tr style=\"text-align: right;\">\n",
       "      <th></th>\n",
       "      <th>Model Name</th>\n",
       "      <th>AUC Score</th>\n",
       "      <th>Training Accuracy</th>\n",
       "      <th>Testing Accuracy</th>\n",
       "      <th>Confusion Matrix</th>\n",
       "    </tr>\n",
       "  </thead>\n",
       "  <tbody>\n",
       "    <tr>\n",
       "      <th>0</th>\n",
       "      <td>Logistic</td>\n",
       "      <td>0.6968</td>\n",
       "      <td>0.7601</td>\n",
       "      <td>0.7721</td>\n",
       "      <td>(76, 80, 31, 300)</td>\n",
       "    </tr>\n",
       "    <tr>\n",
       "      <th>1</th>\n",
       "      <td>Tuned LR</td>\n",
       "      <td>0.7064</td>\n",
       "      <td>0.7635</td>\n",
       "      <td>0.7782</td>\n",
       "      <td>(79, 77, 31, 300)</td>\n",
       "    </tr>\n",
       "    <tr>\n",
       "      <th>2</th>\n",
       "      <td>Full Tree</td>\n",
       "      <td>0.6708</td>\n",
       "      <td>0.8595</td>\n",
       "      <td>0.7023</td>\n",
       "      <td>(91, 65, 80, 251)</td>\n",
       "    </tr>\n",
       "    <tr>\n",
       "      <th>3</th>\n",
       "      <td>Pruned Tree</td>\n",
       "      <td>0.7262</td>\n",
       "      <td>0.7560</td>\n",
       "      <td>0.7844</td>\n",
       "      <td>(88, 68, 37, 294)</td>\n",
       "    </tr>\n",
       "    <tr>\n",
       "      <th>4</th>\n",
       "      <td>Tuned Tree</td>\n",
       "      <td>0.6960</td>\n",
       "      <td>0.7539</td>\n",
       "      <td>0.7618</td>\n",
       "      <td>(80, 76, 40, 291)</td>\n",
       "    </tr>\n",
       "    <tr>\n",
       "      <th>5</th>\n",
       "      <td>Random Forest (full)</td>\n",
       "      <td>0.6463</td>\n",
       "      <td>1.0000</td>\n",
       "      <td>0.7495</td>\n",
       "      <td>(56, 100, 22, 309)</td>\n",
       "    </tr>\n",
       "    <tr>\n",
       "      <th>6</th>\n",
       "      <td>Tuned Random Forest (Full)</td>\n",
       "      <td>0.5709</td>\n",
       "      <td>0.7162</td>\n",
       "      <td>0.7207</td>\n",
       "      <td>(24, 132, 4, 327)</td>\n",
       "    </tr>\n",
       "    <tr>\n",
       "      <th>7</th>\n",
       "      <td>GBM (Full)</td>\n",
       "      <td>0.6807</td>\n",
       "      <td>0.8389</td>\n",
       "      <td>0.7618</td>\n",
       "      <td>(71, 85, 31, 300)</td>\n",
       "    </tr>\n",
       "  </tbody>\n",
       "</table>\n",
       "</div>"
      ],
      "text/plain": [
       "                   Model Name  AUC Score  Training Accuracy  Testing Accuracy    Confusion Matrix\n",
       "0                    Logistic     0.6968             0.7601            0.7721   (76, 80, 31, 300)\n",
       "1                    Tuned LR     0.7064             0.7635            0.7782   (79, 77, 31, 300)\n",
       "2                   Full Tree     0.6708             0.8595            0.7023   (91, 65, 80, 251)\n",
       "3                 Pruned Tree     0.7262             0.7560            0.7844   (88, 68, 37, 294)\n",
       "4                  Tuned Tree     0.6960             0.7539            0.7618   (80, 76, 40, 291)\n",
       "5        Random Forest (full)     0.6463             1.0000            0.7495  (56, 100, 22, 309)\n",
       "6  Tuned Random Forest (Full)     0.5709             0.7162            0.7207   (24, 132, 4, 327)\n",
       "7                  GBM (Full)     0.6807             0.8389            0.7618   (71, 85, 31, 300)"
      ]
     },
     "execution_count": 73,
     "metadata": {},
     "output_type": "execute_result"
    }
   ],
   "source": [
    "# declaring model performance objects\n",
    "gbm_train_acc = full_gbm_default_fit.score(x_train, y_train).round(4)\n",
    "gbm_test_acc  = full_gbm_default_fit.score(x_test, y_test).round(4)\n",
    "gbm_auc       = roc_auc_score(y_true  = y_test,\n",
    "                              y_score = full_gbm_default_pred).round(4)\n",
    "\n",
    "\n",
    "# appending to model_performance\n",
    "model_performance = model_performance.append(\n",
    "                          {'Model Name'       : 'GBM (Full)',\n",
    "                          'Training Accuracy' : gbm_train_acc,\n",
    "                          'Testing Accuracy'  : gbm_test_acc,\n",
    "                          'AUC Score'         : gbm_auc,\n",
    "                          'Confusion Matrix'  : (gbm_default_tn,\n",
    "                                                 gbm_default_fp,\n",
    "                                                 gbm_default_fn,\n",
    "                                                 gbm_default_tp)},\n",
    "                          ignore_index = True)\n",
    "\n",
    "\n",
    "# checking the results\n",
    "model_performance"
   ]
  },
  {
   "cell_type": "markdown",
   "metadata": {},
   "source": [
    "### GBM Tuned"
   ]
  },
  {
   "cell_type": "code",
   "execution_count": 74,
   "metadata": {
    "ExecuteTime": {
     "end_time": "2021-02-15T16:06:11.970102Z",
     "start_time": "2021-02-15T16:06:11.954368Z"
    }
   },
   "outputs": [],
   "source": [
    "#Declaring variables\n",
    "meals_data   =  meals.loc[ : , candidate_dict['x_variables']]\n",
    "meals_target =  meals.loc[ : , 'Cross_sell_success']\n",
    "\n",
    "\n",
    "# train-test split with stratification\n",
    "x_train, x_test, y_train, y_test = train_test_split(\n",
    "            meals_data,\n",
    "            meals_target,\n",
    "            test_size    = 0.25,\n",
    "            random_state = 219,\n",
    "            stratify     = meals_target)\n",
    "\n",
    "\n",
    "# merging training data for statsmodels\n",
    "meals_train = pd.concat([x_train, y_train], axis = 1)\n"
   ]
  },
  {
   "cell_type": "code",
   "execution_count": 75,
   "metadata": {
    "ExecuteTime": {
     "end_time": "2021-02-15T16:06:30.961387Z",
     "start_time": "2021-02-15T16:06:11.972110Z"
    }
   },
   "outputs": [
    {
     "name": "stderr",
     "output_type": "stream",
     "text": [
      "<ipython-input-75-dcb8507948de>:2: FutureWarning: The pandas.np module is deprecated and will be removed from pandas in a future version. Import numpy directly instead\n",
      "  learn_space        = pd.np.arange(0.1, 2.0, 0.2)\n",
      "<ipython-input-75-dcb8507948de>:3: FutureWarning: The pandas.np module is deprecated and will be removed from pandas in a future version. Import numpy directly instead\n",
      "  estimator_space    = pd.np.arange(350)\n",
      "<ipython-input-75-dcb8507948de>:4: FutureWarning: The pandas.np module is deprecated and will be removed from pandas in a future version. Import numpy directly instead\n",
      "  depth_space        = pd.np.arange(4)\n"
     ]
    },
    {
     "name": "stdout",
     "output_type": "stream",
     "text": [
      "Tuned Parameters  : {'warm_start': True, 'n_estimators': 118, 'max_depth': 2, 'learning_rate': 0.30000000000000004}\n",
      "Tuned Training AUC: 0.6558\n"
     ]
    }
   ],
   "source": [
    "# declaring a hyperparameter space\n",
    "learn_space        = pd.np.arange(0.1, 2.0, 0.2)\n",
    "estimator_space    = pd.np.arange(350)\n",
    "depth_space        = pd.np.arange(4)\n",
    "warm_start_space   = [True, False]\n",
    "\n",
    "# creating a hyperparameter grid\n",
    "param_grid = {'learning_rate' : learn_space,\n",
    "              'max_depth'     : depth_space,\n",
    "              'n_estimators'  : estimator_space,\n",
    "              'warm_start'     : warm_start_space}\n",
    "\n",
    "\n",
    "# INSTANTIATING the model object without hyperparameters\n",
    "full_gbm_grid = GradientBoostingClassifier(random_state = 219)\n",
    "\n",
    "\n",
    "# GridSearchCV object\n",
    "full_gbm_cv = RandomizedSearchCV(estimator     = full_gbm_grid,\n",
    "                           param_distributions = param_grid,\n",
    "                           cv                  = 3,\n",
    "                           n_iter              = 50,\n",
    "                            n_jobs             = -1,\n",
    "                           random_state        = 219,\n",
    "                           scoring             = make_scorer(roc_auc_score,\n",
    "                                                 needs_threshold = False))\n",
    "\n",
    "\n",
    "# FITTING to the FULL DATASET (due to cross-validation)\n",
    "full_gbm_cv.fit(meals_data, meals_target)\n",
    "\n",
    "\n",
    "# PREDICT step is not needed\n",
    "\n",
    "\n",
    "# printing the optimal parameters and best score\n",
    "print(\"Tuned Parameters  :\", full_gbm_cv.best_params_)\n",
    "print(\"Tuned Training AUC:\", full_gbm_cv.best_score_.round(4))"
   ]
  },
  {
   "cell_type": "code",
   "execution_count": 76,
   "metadata": {
    "ExecuteTime": {
     "end_time": "2021-02-15T16:06:30.968886Z",
     "start_time": "2021-02-15T16:06:30.962529Z"
    },
    "scrolled": true
   },
   "outputs": [
    {
     "data": {
      "text/plain": [
       "GradientBoostingClassifier(learning_rate=0.30000000000000004, max_depth=2,\n",
       "                           n_estimators=118, random_state=219, warm_start=True)"
      ]
     },
     "execution_count": 76,
     "metadata": {},
     "output_type": "execute_result"
    }
   ],
   "source": [
    "# checking the best estimator for the model\n",
    "full_gbm_cv.best_estimator_"
   ]
  },
  {
   "cell_type": "code",
   "execution_count": 77,
   "metadata": {
    "ExecuteTime": {
     "end_time": "2021-02-15T16:06:30.995696Z",
     "start_time": "2021-02-15T16:06:30.969884Z"
    }
   },
   "outputs": [
    {
     "name": "stdout",
     "output_type": "stream",
     "text": [
      "Training ACCURACY: 0.8403\n",
      "Testing  ACCURACY: 0.848\n",
      "AUC Score        : 0.7882\n"
     ]
    }
   ],
   "source": [
    "# INSTANTIATING with best_estimator\n",
    "gbm_tuned = full_gbm_cv.best_estimator_\n",
    "\n",
    "\n",
    "# FIT step not needed\n",
    "\n",
    "\n",
    "# PREDICTING based on the testing set\n",
    "gbm_tuned_pred = gbm_tuned.predict(x_test)\n",
    "\n",
    "\n",
    "# SCORING the results\n",
    "print('Training ACCURACY:', gbm_tuned.score(x_train, y_train).round(4))\n",
    "print('Testing  ACCURACY:', gbm_tuned.score(x_test, y_test).round(4))\n",
    "print('AUC Score        :', roc_auc_score(y_true  = y_test,\n",
    "                                          y_score = gbm_tuned_pred).round(4))\n",
    "\n",
    "# saving scoring data for future use\n",
    "gbm_tuned_train_score = gbm_tuned.score(x_train, y_train).round(4) # accuracy\n",
    "gbm_tuned_test_score  = gbm_tuned.score(x_test, y_test).round(4)   # accuracy\n",
    "\n",
    "\n",
    "# saving AUC score\n",
    "gbm_tuned_auc_score = roc_auc_score(y_true  = y_test,\n",
    "                                 y_score = gbm_tuned_pred).round(4)"
   ]
  },
  {
   "cell_type": "code",
   "execution_count": 78,
   "metadata": {
    "ExecuteTime": {
     "end_time": "2021-02-15T16:06:31.003623Z",
     "start_time": "2021-02-15T16:06:30.997722Z"
    }
   },
   "outputs": [
    {
     "name": "stdout",
     "output_type": "stream",
     "text": [
      "\n",
      "True Negatives : 97\n",
      "False Positives: 59\n",
      "False Negatives: 15\n",
      "True Positives : 316\n",
      "\n"
     ]
    }
   ],
   "source": [
    "# unpacking the confusion matrix\n",
    "gbm_tuned_tn, \\\n",
    "gbm_tuned_fp, \\\n",
    "gbm_tuned_fn, \\\n",
    "gbm_tuned_tp = confusion_matrix(y_true = y_test, y_pred = gbm_tuned_pred).ravel()\n",
    "\n",
    "\n",
    "# printing each result one-by-one\n",
    "print(f\"\"\"\n",
    "True Negatives : {gbm_tuned_tn}\n",
    "False Positives: {gbm_tuned_fp}\n",
    "False Negatives: {gbm_tuned_fn}\n",
    "True Positives : {gbm_tuned_tp}\n",
    "\"\"\")"
   ]
  },
  {
   "cell_type": "markdown",
   "metadata": {},
   "source": [
    "### Feature Importance"
   ]
  },
  {
   "cell_type": "code",
   "execution_count": 79,
   "metadata": {
    "ExecuteTime": {
     "end_time": "2021-02-15T16:06:31.419908Z",
     "start_time": "2021-02-15T16:06:31.005561Z"
    }
   },
   "outputs": [
    {
     "name": "stderr",
     "output_type": "stream",
     "text": [
      "<ipython-input-21-141a9830ad1b>:22: FutureWarning: The pandas.np module is deprecated and will be removed from pandas in a future version. Import numpy directly instead\n",
      "  plt.yticks(pd.np.arange(n_features), train.columns)\n"
     ]
    },
    {
     "data": {
      "image/png": "[encoded data removed]",
      "text/plain": [
       "<Figure size 864x648 with 1 Axes>"
      ]
     },
     "metadata": {
      "needs_background": "light"
     },
     "output_type": "display_data"
    }
   ],
   "source": [
    "# plotting feature importances\n",
    "plot_feature_importances(gbm_tuned,\n",
    "                         train = x_train,\n",
    "                         export = False)"
   ]
  },
  {
   "cell_type": "code",
   "execution_count": 80,
   "metadata": {
    "ExecuteTime": {
     "end_time": "2021-02-15T16:06:31.463032Z",
     "start_time": "2021-02-15T16:06:31.421937Z"
    },
    "scrolled": true
   },
   "outputs": [
    {
     "data": {
      "text/html": [
       "<div>\n",
       "<style scoped>\n",
       "    .dataframe tbody tr th:only-of-type {\n",
       "        vertical-align: middle;\n",
       "    }\n",
       "\n",
       "    .dataframe tbody tr th {\n",
       "        vertical-align: top;\n",
       "    }\n",
       "\n",
       "    .dataframe thead th {\n",
       "        text-align: right;\n",
       "    }\n",
       "</style>\n",
       "<table border=\"1\" class=\"dataframe\">\n",
       "  <thead>\n",
       "    <tr style=\"text-align: right;\">\n",
       "      <th></th>\n",
       "      <th>Model Name</th>\n",
       "      <th>AUC Score</th>\n",
       "      <th>Training Accuracy</th>\n",
       "      <th>Testing Accuracy</th>\n",
       "      <th>Confusion Matrix</th>\n",
       "    </tr>\n",
       "  </thead>\n",
       "  <tbody>\n",
       "    <tr>\n",
       "      <th>0</th>\n",
       "      <td>Logistic</td>\n",
       "      <td>0.6968</td>\n",
       "      <td>0.7601</td>\n",
       "      <td>0.7721</td>\n",
       "      <td>(76, 80, 31, 300)</td>\n",
       "    </tr>\n",
       "    <tr>\n",
       "      <th>1</th>\n",
       "      <td>Tuned LR</td>\n",
       "      <td>0.7064</td>\n",
       "      <td>0.7635</td>\n",
       "      <td>0.7782</td>\n",
       "      <td>(79, 77, 31, 300)</td>\n",
       "    </tr>\n",
       "    <tr>\n",
       "      <th>2</th>\n",
       "      <td>Full Tree</td>\n",
       "      <td>0.6708</td>\n",
       "      <td>0.8595</td>\n",
       "      <td>0.7023</td>\n",
       "      <td>(91, 65, 80, 251)</td>\n",
       "    </tr>\n",
       "    <tr>\n",
       "      <th>3</th>\n",
       "      <td>Pruned Tree</td>\n",
       "      <td>0.7262</td>\n",
       "      <td>0.7560</td>\n",
       "      <td>0.7844</td>\n",
       "      <td>(88, 68, 37, 294)</td>\n",
       "    </tr>\n",
       "    <tr>\n",
       "      <th>4</th>\n",
       "      <td>Tuned Tree</td>\n",
       "      <td>0.6960</td>\n",
       "      <td>0.7539</td>\n",
       "      <td>0.7618</td>\n",
       "      <td>(80, 76, 40, 291)</td>\n",
       "    </tr>\n",
       "    <tr>\n",
       "      <th>5</th>\n",
       "      <td>Random Forest (full)</td>\n",
       "      <td>0.6463</td>\n",
       "      <td>1.0000</td>\n",
       "      <td>0.7495</td>\n",
       "      <td>(56, 100, 22, 309)</td>\n",
       "    </tr>\n",
       "    <tr>\n",
       "      <th>6</th>\n",
       "      <td>Tuned Random Forest (Full)</td>\n",
       "      <td>0.5709</td>\n",
       "      <td>0.7162</td>\n",
       "      <td>0.7207</td>\n",
       "      <td>(24, 132, 4, 327)</td>\n",
       "    </tr>\n",
       "    <tr>\n",
       "      <th>7</th>\n",
       "      <td>GBM (Full)</td>\n",
       "      <td>0.6807</td>\n",
       "      <td>0.8389</td>\n",
       "      <td>0.7618</td>\n",
       "      <td>(71, 85, 31, 300)</td>\n",
       "    </tr>\n",
       "    <tr>\n",
       "      <th>8</th>\n",
       "      <td>Tuned GBM (Final Model)</td>\n",
       "      <td>0.7882</td>\n",
       "      <td>0.8403</td>\n",
       "      <td>0.8480</td>\n",
       "      <td>(97, 59, 15, 316)</td>\n",
       "    </tr>\n",
       "  </tbody>\n",
       "</table>\n",
       "</div>"
      ],
      "text/plain": [
       "                   Model Name  AUC Score  Training Accuracy  Testing Accuracy    Confusion Matrix\n",
       "0                    Logistic     0.6968             0.7601            0.7721   (76, 80, 31, 300)\n",
       "1                    Tuned LR     0.7064             0.7635            0.7782   (79, 77, 31, 300)\n",
       "2                   Full Tree     0.6708             0.8595            0.7023   (91, 65, 80, 251)\n",
       "3                 Pruned Tree     0.7262             0.7560            0.7844   (88, 68, 37, 294)\n",
       "4                  Tuned Tree     0.6960             0.7539            0.7618   (80, 76, 40, 291)\n",
       "5        Random Forest (full)     0.6463             1.0000            0.7495  (56, 100, 22, 309)\n",
       "6  Tuned Random Forest (Full)     0.5709             0.7162            0.7207   (24, 132, 4, 327)\n",
       "7                  GBM (Full)     0.6807             0.8389            0.7618   (71, 85, 31, 300)\n",
       "8     Tuned GBM (Final Model)     0.7882             0.8403            0.8480   (97, 59, 15, 316)"
      ]
     },
     "execution_count": 80,
     "metadata": {},
     "output_type": "execute_result"
    }
   ],
   "source": [
    "# declaring model performance objects\n",
    "gbm_train_acc = gbm_tuned.score(x_train, y_train).round(4)\n",
    "gbm_test_acc  = gbm_tuned.score(x_test, y_test).round(4)\n",
    "gbm_auc       = roc_auc_score(y_true  = y_test,\n",
    "                              y_score = gbm_tuned_pred).round(4)\n",
    "\n",
    "\n",
    "# appending to model_performance\n",
    "model_performance = model_performance.append(\n",
    "                          {'Model Name'        : 'Tuned GBM (Final Model)',\n",
    "                          'Training Accuracy'  : gbm_train_acc,\n",
    "                          'Testing Accuracy'   : gbm_test_acc,\n",
    "                          'AUC Score'          : gbm_auc,\n",
    "                          'Confusion Matrix'   : (gbm_tuned_tn,\n",
    "                                                  gbm_tuned_fp,\n",
    "                                                  gbm_tuned_fn,\n",
    "                                                  gbm_tuned_tp)},\n",
    "                          ignore_index = True)\n",
    "\n",
    "\n",
    "# checking the results\n",
    "model_performance"
   ]
  },
  {
   "cell_type": "code",
   "execution_count": 81,
   "metadata": {
    "ExecuteTime": {
     "end_time": "2021-02-15T16:06:31.478449Z",
     "start_time": "2021-02-15T16:06:31.463032Z"
    },
    "scrolled": true
   },
   "outputs": [
    {
     "data": {
      "text/html": [
       "<div>\n",
       "<style scoped>\n",
       "    .dataframe tbody tr th:only-of-type {\n",
       "        vertical-align: middle;\n",
       "    }\n",
       "\n",
       "    .dataframe tbody tr th {\n",
       "        vertical-align: top;\n",
       "    }\n",
       "\n",
       "    .dataframe thead th {\n",
       "        text-align: right;\n",
       "    }\n",
       "</style>\n",
       "<table border=\"1\" class=\"dataframe\">\n",
       "  <thead>\n",
       "    <tr style=\"text-align: right;\">\n",
       "      <th></th>\n",
       "      <th>Model Name</th>\n",
       "      <th>AUC Score</th>\n",
       "      <th>Training Accuracy</th>\n",
       "      <th>Testing Accuracy</th>\n",
       "      <th>Confusion Matrix</th>\n",
       "    </tr>\n",
       "  </thead>\n",
       "  <tbody>\n",
       "    <tr>\n",
       "      <th>8</th>\n",
       "      <td>Tuned GBM (Final Model)</td>\n",
       "      <td>0.7882</td>\n",
       "      <td>0.8403</td>\n",
       "      <td>0.8480</td>\n",
       "      <td>(97, 59, 15, 316)</td>\n",
       "    </tr>\n",
       "    <tr>\n",
       "      <th>3</th>\n",
       "      <td>Pruned Tree</td>\n",
       "      <td>0.7262</td>\n",
       "      <td>0.7560</td>\n",
       "      <td>0.7844</td>\n",
       "      <td>(88, 68, 37, 294)</td>\n",
       "    </tr>\n",
       "    <tr>\n",
       "      <th>1</th>\n",
       "      <td>Tuned LR</td>\n",
       "      <td>0.7064</td>\n",
       "      <td>0.7635</td>\n",
       "      <td>0.7782</td>\n",
       "      <td>(79, 77, 31, 300)</td>\n",
       "    </tr>\n",
       "    <tr>\n",
       "      <th>0</th>\n",
       "      <td>Logistic</td>\n",
       "      <td>0.6968</td>\n",
       "      <td>0.7601</td>\n",
       "      <td>0.7721</td>\n",
       "      <td>(76, 80, 31, 300)</td>\n",
       "    </tr>\n",
       "    <tr>\n",
       "      <th>4</th>\n",
       "      <td>Tuned Tree</td>\n",
       "      <td>0.6960</td>\n",
       "      <td>0.7539</td>\n",
       "      <td>0.7618</td>\n",
       "      <td>(80, 76, 40, 291)</td>\n",
       "    </tr>\n",
       "    <tr>\n",
       "      <th>7</th>\n",
       "      <td>GBM (Full)</td>\n",
       "      <td>0.6807</td>\n",
       "      <td>0.8389</td>\n",
       "      <td>0.7618</td>\n",
       "      <td>(71, 85, 31, 300)</td>\n",
       "    </tr>\n",
       "    <tr>\n",
       "      <th>2</th>\n",
       "      <td>Full Tree</td>\n",
       "      <td>0.6708</td>\n",
       "      <td>0.8595</td>\n",
       "      <td>0.7023</td>\n",
       "      <td>(91, 65, 80, 251)</td>\n",
       "    </tr>\n",
       "    <tr>\n",
       "      <th>5</th>\n",
       "      <td>Random Forest (full)</td>\n",
       "      <td>0.6463</td>\n",
       "      <td>1.0000</td>\n",
       "      <td>0.7495</td>\n",
       "      <td>(56, 100, 22, 309)</td>\n",
       "    </tr>\n",
       "    <tr>\n",
       "      <th>6</th>\n",
       "      <td>Tuned Random Forest (Full)</td>\n",
       "      <td>0.5709</td>\n",
       "      <td>0.7162</td>\n",
       "      <td>0.7207</td>\n",
       "      <td>(24, 132, 4, 327)</td>\n",
       "    </tr>\n",
       "  </tbody>\n",
       "</table>\n",
       "</div>"
      ],
      "text/plain": [
       "                   Model Name  AUC Score  Training Accuracy  Testing Accuracy    Confusion Matrix\n",
       "8     Tuned GBM (Final Model)     0.7882             0.8403            0.8480   (97, 59, 15, 316)\n",
       "3                 Pruned Tree     0.7262             0.7560            0.7844   (88, 68, 37, 294)\n",
       "1                    Tuned LR     0.7064             0.7635            0.7782   (79, 77, 31, 300)\n",
       "0                    Logistic     0.6968             0.7601            0.7721   (76, 80, 31, 300)\n",
       "4                  Tuned Tree     0.6960             0.7539            0.7618   (80, 76, 40, 291)\n",
       "7                  GBM (Full)     0.6807             0.8389            0.7618   (71, 85, 31, 300)\n",
       "2                   Full Tree     0.6708             0.8595            0.7023   (91, 65, 80, 251)\n",
       "5        Random Forest (full)     0.6463             1.0000            0.7495  (56, 100, 22, 309)\n",
       "6  Tuned Random Forest (Full)     0.5709             0.7162            0.7207   (24, 132, 4, 327)"
      ]
     },
     "execution_count": 81,
     "metadata": {},
     "output_type": "execute_result"
    }
   ],
   "source": [
    "model_performance.sort_values(by = 'AUC Score',\n",
    "                              ascending = False)"
   ]
  },
  {
   "cell_type": "markdown",
   "metadata": {},
   "source": [
    "## Model Output"
   ]
  },
  {
   "cell_type": "code",
   "execution_count": 82,
   "metadata": {
    "ExecuteTime": {
     "end_time": "2021-02-15T16:06:31.499579Z",
     "start_time": "2021-02-15T16:06:31.479964Z"
    }
   },
   "outputs": [
    {
     "name": "stdout",
     "output_type": "stream",
     "text": [
      "\n",
      "Model       Training Accuracy     Testing Accuracy      AUC Score       TN, FP, FN, TP\n",
      "-----       --------------        ----------------      ----------      --------------\n",
      "Logistic         0.7601           0.7721                0.6968          (76, 80, 31, 300)\n",
      "Tuned LR         0.7635           0.7782                0.7064          (79, 77, 31, 300)\n",
      "Full Tree        0.8595           0.7023                0.6708          (91, 65, 80, 251)\n",
      "Pruned Tree      0.756            0.7844                0.7262          (88, 68, 37, 294)\n",
      "GBM Tuned(Final) 0.8403           0.848                 0.7882          (97, 59, 15, 316)\n",
      "\n"
     ]
    }
   ],
   "source": [
    "# Model Output\n",
    "print(f\"\"\"\n",
    "Model       Training Accuracy     Testing Accuracy      AUC Score       TN, FP, FN, TP\n",
    "-----       --------------        ----------------      ----------      --------------\n",
    "Logistic         {logreg_train_score}           {logreg_test_score}                {logreg_auc_score}          {logreg_tn, logreg_fp, logreg_fn, logreg_tp}\n",
    "Tuned LR         {lr_tuned_train_score}           {lr_tuned_test_score}                {lr_tuned_auc}          {lr_tuned_tn,lr_tuned_fp, lr_tuned_fn, lr_tuned_tp}\n",
    "Full Tree        {full_tree_train_score}           {full_tree_test_score}                {full_tree_auc_score}          {full_tree_tn, full_tree_fp, full_tree_fn, full_tree_tp}\n",
    "Pruned Tree      {pruned_tree_train_score}            {pruned_tree_test_score}                {pruned_tree_auc_score}          {pruned_tree_tn, pruned_tree_fp, pruned_tree_fn, pruned_tree_tp}\n",
    "GBM Tuned(Final) {gbm_tuned_train_score}           {gbm_tuned_test_score}                 {gbm_tuned_auc_score}          {gbm_tuned_tn, gbm_tuned_fp, gbm_tuned_fn, gbm_tuned_tp}\n",
    "\"\"\")\n",
    "\n",
    "\n",
    "# creating a dictionary for model results\n",
    "model_performance = {\n",
    "    \n",
    "    'Model Name'    : ['Logistic', 'Tuned LR','Full Tree', 'Pruned Tree','GBM Tuned'],\n",
    "           \n",
    "    'AUC Score'     : [logreg_auc_score, lr_tuned_auc, full_tree_auc_score, \n",
    "                       pruned_tree_auc_score, gbm_tuned_auc_score ],\n",
    "    \n",
    "    'Training Accuracy' : [logreg_train_score, lr_tuned_train_score, full_tree_train_score,\n",
    "                           pruned_tree_train_score, gbm_tuned_train_score ],\n",
    "           \n",
    "    'Testing Accuracy'  : [logreg_test_score, lr_tuned_test_score, full_tree_test_score,\n",
    "                           pruned_tree_test_score, gbm_tuned_test_score ],\n",
    "\n",
    "    'Confusion Matrix'  : [(logreg_tn, logreg_fp, logreg_fn, logreg_tp),\n",
    "                           (lr_tuned_tn,lr_tuned_fp, lr_tuned_fn, lr_tuned_tp),\n",
    "                           (full_tree_tn, full_tree_fp, full_tree_fn, full_tree_tp),\n",
    "                           (pruned_tree_tn, pruned_tree_fp, pruned_tree_fn, pruned_tree_tp),\n",
    "                           (gbm_tuned_tn, gbm_tuned_fp, gbm_tuned_fn, gbm_tuned_tp)]}\n",
    "\n"
   ]
  },
  {
   "cell_type": "code",
   "execution_count": null,
   "metadata": {},
   "outputs": [],
   "source": []
  }
 ],
 "metadata": {
  "kernelspec": {
   "display_name": "Python 3 (ipykernel)",
   "language": "python",
   "name": "python3"
  },
  "language_info": {
   "codemirror_mode": {
    "name": "ipython",
    "version": 3
   },
   "file_extension": ".py",
   "mimetype": "text/x-python",
   "name": "python",
   "nbconvert_exporter": "python",
   "pygments_lexer": "ipython3",
   "version": "3.8.8"
  },
  "toc": {
   "base_numbering": 1,
   "nav_menu": {},
   "number_sections": true,
   "sideBar": true,
   "skip_h1_title": false,
   "title_cell": "Table of Contents",
   "title_sidebar": "Contents",
   "toc_cell": false,
   "toc_position": {
    "height": "calc(100% - 180px)",
    "left": "10px",
    "top": "150px",
    "width": "281px"
   },
   "toc_section_display": true,
   "toc_window_display": true
  },
  "varInspector": {
   "cols": {
    "lenName": 16,
    "lenType": 16,
    "lenVar": 40
   },
   "kernels_config": {
    "python": {
     "delete_cmd_postfix": "",
     "delete_cmd_prefix": "del ",
     "library": "var_list.py",
     "varRefreshCmd": "print(var_dic_list())"
    },
    "r": {
     "delete_cmd_postfix": ") ",
     "delete_cmd_prefix": "rm(",
     "library": "var_list.r",
     "varRefreshCmd": "cat(var_dic_list()) "
    }
   },
   "types_to_exclude": [
    "module",
    "function",
    "builtin_function_or_method",
    "instance",
    "_Feature"
   ],
   "window_display": false
  }
 },
 "nbformat": 4,
 "nbformat_minor": 4
}
