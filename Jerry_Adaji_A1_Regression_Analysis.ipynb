{
 "cells": [
  {
   "cell_type": "code",
   "execution_count": 1,
   "id": "d48b13a5",
   "metadata": {},
   "outputs": [
    {
     "name": "stdout",
     "output_type": "stream",
     "text": [
      "(196, 18)\n"
     ]
    },
    {
     "data": {
      "text/html": [
       "<div>\n",
       "<style scoped>\n",
       "    .dataframe tbody tr th:only-of-type {\n",
       "        vertical-align: middle;\n",
       "    }\n",
       "\n",
       "    .dataframe tbody tr th {\n",
       "        vertical-align: top;\n",
       "    }\n",
       "\n",
       "    .dataframe thead th {\n",
       "        text-align: right;\n",
       "    }\n",
       "</style>\n",
       "<table border=\"1\" class=\"dataframe\">\n",
       "  <thead>\n",
       "    <tr style=\"text-align: right;\">\n",
       "      <th></th>\n",
       "      <th>mage</th>\n",
       "      <th>meduc</th>\n",
       "      <th>monpre</th>\n",
       "      <th>npvis</th>\n",
       "      <th>fage</th>\n",
       "      <th>feduc</th>\n",
       "      <th>omaps</th>\n",
       "      <th>fmaps</th>\n",
       "      <th>cigs</th>\n",
       "      <th>drink</th>\n",
       "      <th>male</th>\n",
       "      <th>mwhte</th>\n",
       "      <th>mblck</th>\n",
       "      <th>moth</th>\n",
       "      <th>fwhte</th>\n",
       "      <th>fblck</th>\n",
       "      <th>foth</th>\n",
       "      <th>bwght</th>\n",
       "    </tr>\n",
       "  </thead>\n",
       "  <tbody>\n",
       "    <tr>\n",
       "      <th>0</th>\n",
       "      <td>69</td>\n",
       "      <td>NaN</td>\n",
       "      <td>5</td>\n",
       "      <td>2.0</td>\n",
       "      <td>62</td>\n",
       "      <td>NaN</td>\n",
       "      <td>4</td>\n",
       "      <td>7</td>\n",
       "      <td>23</td>\n",
       "      <td>9</td>\n",
       "      <td>1</td>\n",
       "      <td>0</td>\n",
       "      <td>1</td>\n",
       "      <td>0</td>\n",
       "      <td>0</td>\n",
       "      <td>1</td>\n",
       "      <td>0</td>\n",
       "      <td>697</td>\n",
       "    </tr>\n",
       "    <tr>\n",
       "      <th>1</th>\n",
       "      <td>68</td>\n",
       "      <td>12.0</td>\n",
       "      <td>3</td>\n",
       "      <td>10.0</td>\n",
       "      <td>61</td>\n",
       "      <td>11.0</td>\n",
       "      <td>4</td>\n",
       "      <td>6</td>\n",
       "      <td>25</td>\n",
       "      <td>11</td>\n",
       "      <td>1</td>\n",
       "      <td>1</td>\n",
       "      <td>0</td>\n",
       "      <td>0</td>\n",
       "      <td>1</td>\n",
       "      <td>0</td>\n",
       "      <td>0</td>\n",
       "      <td>1290</td>\n",
       "    </tr>\n",
       "    <tr>\n",
       "      <th>2</th>\n",
       "      <td>71</td>\n",
       "      <td>12.0</td>\n",
       "      <td>3</td>\n",
       "      <td>6.0</td>\n",
       "      <td>46</td>\n",
       "      <td>12.0</td>\n",
       "      <td>2</td>\n",
       "      <td>7</td>\n",
       "      <td>21</td>\n",
       "      <td>12</td>\n",
       "      <td>1</td>\n",
       "      <td>0</td>\n",
       "      <td>1</td>\n",
       "      <td>0</td>\n",
       "      <td>0</td>\n",
       "      <td>1</td>\n",
       "      <td>0</td>\n",
       "      <td>1490</td>\n",
       "    </tr>\n",
       "    <tr>\n",
       "      <th>3</th>\n",
       "      <td>59</td>\n",
       "      <td>16.0</td>\n",
       "      <td>1</td>\n",
       "      <td>8.0</td>\n",
       "      <td>48</td>\n",
       "      <td>16.0</td>\n",
       "      <td>7</td>\n",
       "      <td>8</td>\n",
       "      <td>21</td>\n",
       "      <td>10</td>\n",
       "      <td>0</td>\n",
       "      <td>0</td>\n",
       "      <td>0</td>\n",
       "      <td>1</td>\n",
       "      <td>0</td>\n",
       "      <td>0</td>\n",
       "      <td>1</td>\n",
       "      <td>1720</td>\n",
       "    </tr>\n",
       "    <tr>\n",
       "      <th>4</th>\n",
       "      <td>48</td>\n",
       "      <td>12.0</td>\n",
       "      <td>4</td>\n",
       "      <td>6.0</td>\n",
       "      <td>39</td>\n",
       "      <td>12.0</td>\n",
       "      <td>2</td>\n",
       "      <td>9</td>\n",
       "      <td>17</td>\n",
       "      <td>13</td>\n",
       "      <td>0</td>\n",
       "      <td>1</td>\n",
       "      <td>0</td>\n",
       "      <td>0</td>\n",
       "      <td>1</td>\n",
       "      <td>0</td>\n",
       "      <td>0</td>\n",
       "      <td>1956</td>\n",
       "    </tr>\n",
       "    <tr>\n",
       "      <th>5</th>\n",
       "      <td>67</td>\n",
       "      <td>11.0</td>\n",
       "      <td>4</td>\n",
       "      <td>8.0</td>\n",
       "      <td>40</td>\n",
       "      <td>8.0</td>\n",
       "      <td>4</td>\n",
       "      <td>9</td>\n",
       "      <td>16</td>\n",
       "      <td>14</td>\n",
       "      <td>0</td>\n",
       "      <td>1</td>\n",
       "      <td>0</td>\n",
       "      <td>0</td>\n",
       "      <td>1</td>\n",
       "      <td>0</td>\n",
       "      <td>0</td>\n",
       "      <td>1984</td>\n",
       "    </tr>\n",
       "    <tr>\n",
       "      <th>6</th>\n",
       "      <td>54</td>\n",
       "      <td>12.0</td>\n",
       "      <td>2</td>\n",
       "      <td>12.0</td>\n",
       "      <td>46</td>\n",
       "      <td>12.0</td>\n",
       "      <td>9</td>\n",
       "      <td>9</td>\n",
       "      <td>17</td>\n",
       "      <td>12</td>\n",
       "      <td>1</td>\n",
       "      <td>0</td>\n",
       "      <td>1</td>\n",
       "      <td>0</td>\n",
       "      <td>0</td>\n",
       "      <td>1</td>\n",
       "      <td>0</td>\n",
       "      <td>2050</td>\n",
       "    </tr>\n",
       "    <tr>\n",
       "      <th>7</th>\n",
       "      <td>71</td>\n",
       "      <td>14.0</td>\n",
       "      <td>4</td>\n",
       "      <td>7.0</td>\n",
       "      <td>51</td>\n",
       "      <td>11.0</td>\n",
       "      <td>9</td>\n",
       "      <td>8</td>\n",
       "      <td>15</td>\n",
       "      <td>13</td>\n",
       "      <td>0</td>\n",
       "      <td>1</td>\n",
       "      <td>0</td>\n",
       "      <td>0</td>\n",
       "      <td>1</td>\n",
       "      <td>0</td>\n",
       "      <td>0</td>\n",
       "      <td>2068</td>\n",
       "    </tr>\n",
       "    <tr>\n",
       "      <th>8</th>\n",
       "      <td>56</td>\n",
       "      <td>12.0</td>\n",
       "      <td>1</td>\n",
       "      <td>9.0</td>\n",
       "      <td>53</td>\n",
       "      <td>14.0</td>\n",
       "      <td>8</td>\n",
       "      <td>9</td>\n",
       "      <td>14</td>\n",
       "      <td>9</td>\n",
       "      <td>1</td>\n",
       "      <td>1</td>\n",
       "      <td>0</td>\n",
       "      <td>0</td>\n",
       "      <td>1</td>\n",
       "      <td>0</td>\n",
       "      <td>0</td>\n",
       "      <td>2148</td>\n",
       "    </tr>\n",
       "    <tr>\n",
       "      <th>9</th>\n",
       "      <td>58</td>\n",
       "      <td>12.0</td>\n",
       "      <td>2</td>\n",
       "      <td>12.0</td>\n",
       "      <td>61</td>\n",
       "      <td>16.0</td>\n",
       "      <td>9</td>\n",
       "      <td>9</td>\n",
       "      <td>13</td>\n",
       "      <td>6</td>\n",
       "      <td>0</td>\n",
       "      <td>0</td>\n",
       "      <td>1</td>\n",
       "      <td>0</td>\n",
       "      <td>0</td>\n",
       "      <td>1</td>\n",
       "      <td>0</td>\n",
       "      <td>2180</td>\n",
       "    </tr>\n",
       "  </tbody>\n",
       "</table>\n",
       "</div>"
      ],
      "text/plain": [
       "   mage  meduc  monpre  npvis  fage  feduc  omaps  fmaps  cigs  drink  male  mwhte  mblck  moth  fwhte  fblck  foth  bwght\n",
       "0    69    NaN       5    2.0    62    NaN      4      7    23      9     1      0      1     0      0      1     0    697\n",
       "1    68   12.0       3   10.0    61   11.0      4      6    25     11     1      1      0     0      1      0     0   1290\n",
       "2    71   12.0       3    6.0    46   12.0      2      7    21     12     1      0      1     0      0      1     0   1490\n",
       "3    59   16.0       1    8.0    48   16.0      7      8    21     10     0      0      0     1      0      0     1   1720\n",
       "4    48   12.0       4    6.0    39   12.0      2      9    17     13     0      1      0     0      1      0     0   1956\n",
       "5    67   11.0       4    8.0    40    8.0      4      9    16     14     0      1      0     0      1      0     0   1984\n",
       "6    54   12.0       2   12.0    46   12.0      9      9    17     12     1      0      1     0      0      1     0   2050\n",
       "7    71   14.0       4    7.0    51   11.0      9      8    15     13     0      1      0     0      1      0     0   2068\n",
       "8    56   12.0       1    9.0    53   14.0      8      9    14      9     1      1      0     0      1      0     0   2148\n",
       "9    58   12.0       2   12.0    61   16.0      9      9    13      6     0      0      1     0      0      1     0   2180"
      ]
     },
     "execution_count": 1,
     "metadata": {},
     "output_type": "execute_result"
    }
   ],
   "source": [
    "# importing libraries\n",
    "import pandas as pd # data science essentials\n",
    "import numpy as np # mathematical essentials\n",
    "import matplotlib.pyplot as plt # data visualization\n",
    "import seaborn as sns # enhanced data visualization\n",
    "import statsmodels.formula.api as smf # regression modeling\n",
    "from sklearn.model_selection import train_test_split # train/test split\n",
    "from sklearn.linear_model import LinearRegression\n",
    "\n",
    "# setting pandas print options\n",
    "pd.set_option('display.max_rows', 500)\n",
    "pd.set_option('display.max_columns', 500)\n",
    "pd.set_option('display.width', 1000)\n",
    "\n",
    "# File path\n",
    "file = \"./birthweight_low.xlsx\"\n",
    "\n",
    "# Read df\n",
    "birthWeight = pd.read_excel(io = file, sheet_name = 0, header = 0)\n",
    "\n",
    "print(birthWeight.shape)\n",
    "\n",
    "# Prefer\n",
    "birthWeight.head(n = 10)"
   ]
  },
  {
   "cell_type": "raw",
   "id": "93ad86b0",
   "metadata": {},
   "source": [
    "CONTINUOUS\n",
    "----------\n",
    "mage\n",
    "npvis\n",
    "fage\n",
    "feduc\n",
    "cigs\n",
    "drink\n",
    "bwght\n",
    "omaps\n",
    "fmaps"
   ]
  },
  {
   "cell_type": "code",
   "execution_count": 2,
   "id": "6945b75a",
   "metadata": {},
   "outputs": [
    {
     "data": {
      "text/plain": [
       "bwght    1.00\n",
       "omaps    0.25\n",
       "fmaps    0.25\n",
       "feduc    0.14\n",
       "npvis    0.06\n",
       "fage    -0.40\n",
       "mage    -0.46\n",
       "cigs    -0.57\n",
       "drink   -0.74\n",
       "Name: bwght, dtype: float64"
      ]
     },
     "execution_count": 2,
     "metadata": {},
     "output_type": "execute_result"
    }
   ],
   "source": [
    "# creating a list of continuous features (including Sale_Price)\n",
    "continuous_data = [\"mage\", \"npvis\", \"fage\", \"feduc\", \"cigs\", \"drink\", \"bwght\", \"omaps\", \"fmaps\"]\n",
    "\n",
    "# developing a correlation matrix based on continuous features\n",
    "birthWeight_corr = birthWeight[continuous_data].corr(method = 'pearson')\n",
    "\n",
    "\n",
    "# filtering the results to only show correlations with Sale_Price\n",
    "birthWeight_corr.loc[ : , 'bwght'].round(decimals = 2).sort_values(ascending = False)"
   ]
  },
  {
   "cell_type": "code",
   "execution_count": 3,
   "id": "05f923d7",
   "metadata": {},
   "outputs": [
    {
     "name": "stdout",
     "output_type": "stream",
     "text": [
      "                            OLS Regression Results                            \n",
      "==============================================================================\n",
      "Dep. Variable:                  bwght   R-squared:                       0.215\n",
      "Model:                            OLS   Adj. R-squared:                  0.211\n",
      "Method:                 Least Squares   F-statistic:                     53.17\n",
      "Date:                Sun, 19 Dec 2021   Prob (F-statistic):           7.57e-12\n",
      "Time:                        12:05:26   Log-Likelihood:                -1522.4\n",
      "No. Observations:                 196   AIC:                             3049.\n",
      "Df Residuals:                     194   BIC:                             3055.\n",
      "Df Model:                           1                                         \n",
      "Covariance Type:            nonrobust                                         \n",
      "==============================================================================\n",
      "                 coef    std err          t      P>|t|      [0.025      0.975]\n",
      "------------------------------------------------------------------------------\n",
      "Intercept   4509.0849    166.279     27.118      0.000    4181.138    4837.031\n",
      "mage         -29.2630      4.013     -7.292      0.000     -37.178     -21.348\n",
      "==============================================================================\n",
      "Omnibus:                        2.118   Durbin-Watson:                   0.259\n",
      "Prob(Omnibus):                  0.347   Jarque-Bera (JB):                1.828\n",
      "Skew:                          -0.230   Prob(JB):                        0.401\n",
      "Kurtosis:                       3.108   Cond. No.                         168.\n",
      "==============================================================================\n",
      "\n",
      "Notes:\n",
      "[1] Standard Errors assume that the covariance matrix of the errors is correctly specified.\n"
     ]
    }
   ],
   "source": [
    "# building a base model\n",
    "\n",
    "# INSTANTIATING a model type\n",
    "lm_practice = smf.ols(formula = \"\"\"bwght ~ mage\"\"\",\n",
    "                        data = birthWeight)\n",
    "\n",
    "\n",
    "# telling Python to FIT the data to the blueprint\n",
    "results = lm_practice.fit()\n",
    "\n",
    "\n",
    "# printing a summary of the results\n",
    "print(results.summary())"
   ]
  },
  {
   "cell_type": "code",
   "execution_count": 4,
   "id": "16f59c3a",
   "metadata": {},
   "outputs": [
    {
     "data": {
      "image/png": "[encoded data removed]",
      "text/plain": [
       "<Figure size 432x288 with 1 Axes>"
      ]
     },
     "metadata": {
      "needs_background": "light"
     },
     "output_type": "display_data"
    }
   ],
   "source": [
    "# developing a histogram using HISTPLOT\n",
    "sns.histplot(data   = birthWeight,\n",
    "             x      = 'bwght',\n",
    "             kde    = True)\n",
    "\n",
    "\n",
    "# title and axis labels\n",
    "plt.title(label   = \"Original Distribution of Birth weights\")\n",
    "plt.xlabel(xlabel = \"Weight\") # avoiding using dataset labels\n",
    "plt.ylabel(ylabel = \"Count\")\n",
    "\n",
    "# displaying the histogram\n",
    "plt.show()"
   ]
  },
  {
   "cell_type": "code",
   "execution_count": 5,
   "id": "25cfe470",
   "metadata": {},
   "outputs": [],
   "source": [
    "# log transforming Sale_Price and saving it to the dataset\n",
    "birthWeight['log_bwght'] = np.log(birthWeight['bwght'])"
   ]
  },
  {
   "cell_type": "code",
   "execution_count": 6,
   "id": "ca87ef7c",
   "metadata": {},
   "outputs": [
    {
     "data": {
      "image/png": "[encoded data removed]",
      "text/plain": [
       "<Figure size 432x288 with 1 Axes>"
      ]
     },
     "metadata": {
      "needs_background": "light"
     },
     "output_type": "display_data"
    }
   ],
   "source": [
    "# developing a histogram using HISTPLOT\n",
    "sns.histplot(data   = birthWeight,\n",
    "             x      = 'log_bwght',\n",
    "             kde    = True)\n",
    "\n",
    "\n",
    "# title and axis labels\n",
    "plt.title(label   = \"Logarithmic Distribution of Birth Weights\")\n",
    "plt.xlabel(xlabel = \"Birth Weight\") # avoiding using dataset labels\n",
    "plt.ylabel(ylabel = \"Count\")\n",
    "\n",
    "# displaying the histogram\n",
    "plt.show()"
   ]
  },
  {
   "cell_type": "code",
   "execution_count": 7,
   "id": "e7cb5e0a",
   "metadata": {},
   "outputs": [
    {
     "data": {
      "image/png": "[encoded data removed]",
      "text/plain": [
       "<Figure size 432x288 with 1 Axes>"
      ]
     },
     "metadata": {
      "needs_background": "light"
     },
     "output_type": "display_data"
    },
    {
     "data": {
      "image/png": "[encoded data removed]",
      "text/plain": [
       "<Figure size 432x288 with 1 Axes>"
      ]
     },
     "metadata": {
      "needs_background": "light"
     },
     "output_type": "display_data"
    },
    {
     "data": {
      "image/png": "[encoded data removed]",
      "text/plain": [
       "<Figure size 432x288 with 1 Axes>"
      ]
     },
     "metadata": {
      "needs_background": "light"
     },
     "output_type": "display_data"
    }
   ],
   "source": [
    "# histogram for omaps (skewed Negative)\n",
    "sns.histplot(data   = birthWeight,\n",
    "             x      = 'omaps',\n",
    "             kde    = True)\n",
    "\n",
    "\n",
    "# rendering the plot\n",
    "plt.show()\n",
    "\n",
    "\n",
    "# histogram for fmaps (skewed Negative)\n",
    "sns.histplot(data   = birthWeight,\n",
    "             x      = 'fmaps',\n",
    "             kde    = True)\n",
    "\n",
    "\n",
    "# rendering the plot\n",
    "plt.show()\n",
    "\n",
    "\n",
    "# histogram for feduc (skewed Negative)\n",
    "sns.histplot(data   = birthWeight,\n",
    "             x      = 'feduc',\n",
    "             kde    = True)\n",
    "\n",
    "\n",
    "# rendering the plot\n",
    "plt.show()"
   ]
  },
  {
   "cell_type": "code",
   "execution_count": null,
   "id": "424b0ec7",
   "metadata": {},
   "outputs": [],
   "source": []
  },
  {
   "cell_type": "code",
   "execution_count": null,
   "id": "f09730ab",
   "metadata": {},
   "outputs": [],
   "source": []
  },
  {
   "cell_type": "code",
   "execution_count": 8,
   "id": "be3c32b0",
   "metadata": {},
   "outputs": [
    {
     "data": {
      "text/plain": [
       "mage         0\n",
       "meduc        3\n",
       "monpre       0\n",
       "npvis        3\n",
       "fage         0\n",
       "feduc        7\n",
       "omaps        0\n",
       "fmaps        0\n",
       "cigs         0\n",
       "drink        0\n",
       "male         0\n",
       "mwhte        0\n",
       "mblck        0\n",
       "moth         0\n",
       "fwhte        0\n",
       "fblck        0\n",
       "foth         0\n",
       "bwght        0\n",
       "log_bwght    0\n",
       "dtype: int64"
      ]
     },
     "execution_count": 8,
     "metadata": {},
     "output_type": "execute_result"
    }
   ],
   "source": [
    "# taking the housing dataset\n",
    "# and then\n",
    "# transforming it into boolean based on if a value is null\n",
    "# and then\n",
    "# summing together the results per column\n",
    "birthWeight.isnull().sum(axis = 0)"
   ]
  },
  {
   "cell_type": "code",
   "execution_count": 9,
   "id": "056274a0",
   "metadata": {},
   "outputs": [
    {
     "data": {
      "text/plain": [
       "m_meduc    3\n",
       "m_npvis    3\n",
       "m_feduc    7\n",
       "dtype: int64"
      ]
     },
     "execution_count": 9,
     "metadata": {},
     "output_type": "execute_result"
    }
   ],
   "source": [
    "# looping to detect features with missing values\n",
    "for col in birthWeight:\n",
    "\n",
    "    # creating columns with 1s if missing and 0 if not\n",
    "    if birthWeight[col].isnull().astype(int).sum() > 0:\n",
    "        birthWeight['m_'+col] = birthWeight[col].isnull().astype(int)\n",
    "\n",
    "\n",
    "# summing the missing value flags to check the results of the loop above\n",
    "birthWeight[['m_meduc', 'm_npvis', 'm_feduc']].sum(axis = 0)"
   ]
  },
  {
   "cell_type": "code",
   "execution_count": 10,
   "id": "cebde279",
   "metadata": {},
   "outputs": [],
   "source": [
    "# Filling in missing values\n",
    "birthWeight['meduc'].fillna(value = birthWeight['meduc'].median(), inplace = True)\n",
    "birthWeight['npvis'].fillna(value = birthWeight['npvis'].median(), inplace = True)\n",
    "birthWeight['feduc'].fillna(value = birthWeight['feduc'].median(), inplace = True)"
   ]
  },
  {
   "cell_type": "code",
   "execution_count": 11,
   "id": "bb743ef8",
   "metadata": {},
   "outputs": [
    {
     "data": {
      "text/plain": [
       "False"
      ]
     },
     "execution_count": 11,
     "metadata": {},
     "output_type": "execute_result"
    }
   ],
   "source": [
    "# making sure all missing values have been taken care of\n",
    "birthWeight.isnull().any().any()"
   ]
  },
  {
   "cell_type": "code",
   "execution_count": 12,
   "id": "7d13244f",
   "metadata": {},
   "outputs": [],
   "source": [
    "# log transforming omaps and saving it to the dataset\n",
    "birthWeight['log_omaps'] = np.log(birthWeight['omaps'])\n",
    "\n",
    "# log transforming fmaps and saving it to the dataset\n",
    "birthWeight['log_fmaps'] = np.log(birthWeight['fmaps'])\n",
    "\n",
    "# log transforming fmaps and saving it to the dataset\n",
    "birthWeight['log_feduc'] = np.log(birthWeight['feduc'])"
   ]
  },
  {
   "cell_type": "code",
   "execution_count": 13,
   "id": "a4915634",
   "metadata": {},
   "outputs": [
    {
     "name": "stdout",
     "output_type": "stream",
     "text": [
      "                            OLS Regression Results                            \n",
      "==============================================================================\n",
      "Dep. Variable:              log_bwght   R-squared:                       0.099\n",
      "Model:                            OLS   Adj. R-squared:                  0.094\n",
      "Method:                 Least Squares   F-statistic:                     21.23\n",
      "Date:                Sun, 19 Dec 2021   Prob (F-statistic):           7.36e-06\n",
      "Time:                        12:05:27   Log-Likelihood:                 18.714\n",
      "No. Observations:                 196   AIC:                            -33.43\n",
      "Df Residuals:                     194   BIC:                            -26.87\n",
      "Df Model:                           1                                         \n",
      "Covariance Type:            nonrobust                                         \n",
      "==============================================================================\n",
      "                 coef    std err          t      P>|t|      [0.025      0.975]\n",
      "------------------------------------------------------------------------------\n",
      "Intercept      7.7097      0.084     92.019      0.000       7.544       7.875\n",
      "omaps          0.0463      0.010      4.608      0.000       0.026       0.066\n",
      "==============================================================================\n",
      "Omnibus:                       82.508   Durbin-Watson:                   0.213\n",
      "Prob(Omnibus):                  0.000   Jarque-Bera (JB):              435.434\n",
      "Skew:                          -1.525   Prob(JB):                     2.80e-95\n",
      "Kurtosis:                       9.634   Cond. No.                         44.9\n",
      "==============================================================================\n",
      "\n",
      "Notes:\n",
      "[1] Standard Errors assume that the covariance matrix of the errors is correctly specified.\n"
     ]
    }
   ],
   "source": [
    "# building a base model with a log transformed response variable\n",
    "\n",
    "# INSTANTIATING a model type\n",
    "lm_price_qual = smf.ols(formula = \"\"\"log_bwght ~ omaps\"\"\",\n",
    "                        data = birthWeight)\n",
    "\n",
    "\n",
    "# telling Python to FIT the data to the blueprint\n",
    "results = lm_price_qual.fit()\n",
    "\n",
    "\n",
    "# printing a summary of the results\n",
    "print(results.summary())"
   ]
  },
  {
   "cell_type": "code",
   "execution_count": 14,
   "id": "11c70d55",
   "metadata": {
    "cell_style": "split"
   },
   "outputs": [
    {
     "data": {
      "image/png": "[encoded data removed]",
      "text/plain": [
       "<Figure size 432x288 with 1 Axes>"
      ]
     },
     "metadata": {
      "needs_background": "light"
     },
     "output_type": "display_data"
    }
   ],
   "source": [
    "# developing a scatterplot\n",
    "sns.scatterplot(x    = 'monpre',\n",
    "                y    = 'bwght',\n",
    "                data = birthWeight)\n",
    "\n",
    "\n",
    "# titles and axis labels\n",
    "plt.title(label   = 'Scatterplot with Interval Data')\n",
    "plt.xlabel(xlabel = 'Month Pre natal began')\n",
    "plt.ylabel(ylabel = 'Birth Weight')\n",
    "\n",
    "\n",
    "# displaying the plot\n",
    "plt.show()"
   ]
  },
  {
   "cell_type": "code",
   "execution_count": 15,
   "id": "76c1b492",
   "metadata": {
    "cell_style": "split"
   },
   "outputs": [
    {
     "data": {
      "image/png": "[encoded data removed]",
      "text/plain": [
       "<Figure size 432x288 with 1 Axes>"
      ]
     },
     "metadata": {
      "needs_background": "light"
     },
     "output_type": "display_data"
    }
   ],
   "source": [
    "# developing a scatterplot\n",
    "sns.boxplot(x    = 'monpre',\n",
    "                y    = 'bwght',\n",
    "                data = birthWeight)\n",
    "\n",
    "\n",
    "# titles and axis labels\n",
    "plt.title(label   = 'Scatterplot with Interval Data')\n",
    "plt.xlabel(xlabel = 'Month Pre natal began')\n",
    "plt.ylabel(ylabel = 'Birth Weight')\n",
    "\n",
    "\n",
    "# displaying the plot\n",
    "plt.show()"
   ]
  },
  {
   "cell_type": "code",
   "execution_count": 16,
   "id": "4083b5df",
   "metadata": {},
   "outputs": [
    {
     "data": {
      "text/html": [
       "<div>\n",
       "<style scoped>\n",
       "    .dataframe tbody tr th:only-of-type {\n",
       "        vertical-align: middle;\n",
       "    }\n",
       "\n",
       "    .dataframe tbody tr th {\n",
       "        vertical-align: top;\n",
       "    }\n",
       "\n",
       "    .dataframe thead th {\n",
       "        text-align: right;\n",
       "    }\n",
       "</style>\n",
       "<table border=\"1\" class=\"dataframe\">\n",
       "  <thead>\n",
       "    <tr style=\"text-align: right;\">\n",
       "      <th></th>\n",
       "      <th>bwght</th>\n",
       "      <th>log_bwght</th>\n",
       "    </tr>\n",
       "  </thead>\n",
       "  <tbody>\n",
       "    <tr>\n",
       "      <th>monpre</th>\n",
       "      <td>-0.05</td>\n",
       "      <td>-0.09</td>\n",
       "    </tr>\n",
       "    <tr>\n",
       "      <th>log_monpre</th>\n",
       "      <td>-0.06</td>\n",
       "      <td>-0.09</td>\n",
       "    </tr>\n",
       "  </tbody>\n",
       "</table>\n",
       "</div>"
      ],
      "text/plain": [
       "            bwght  log_bwght\n",
       "monpre      -0.05      -0.09\n",
       "log_monpre  -0.06      -0.09"
      ]
     },
     "execution_count": 16,
     "metadata": {},
     "output_type": "execute_result"
    }
   ],
   "source": [
    "birthWeight['log_monpre'] = np.log(birthWeight['monpre'])\n",
    "\n",
    "\n",
    "log_corr = birthWeight.loc[ : , ['monpre',\n",
    "                             'log_monpre',\n",
    "                             'bwght',\n",
    "                             'log_bwght']  ].corr(method = 'pearson')\\\n",
    "                                                 .round(decimals = 2)\n",
    "\n",
    "\n",
    "\n",
    "log_corr.loc[ ['monpre', 'log_monpre'],\n",
    "              ['bwght', 'log_bwght']   ]"
   ]
  },
  {
   "cell_type": "code",
   "execution_count": 17,
   "id": "4b7a8a96",
   "metadata": {},
   "outputs": [],
   "source": [
    "# dropping categorical variables\n",
    "birthWeight = birthWeight.drop('moth', axis = 1)\n",
    "birthWeight = birthWeight.drop('foth', axis = 1)"
   ]
  },
  {
   "cell_type": "code",
   "execution_count": 18,
   "id": "a20a8706",
   "metadata": {},
   "outputs": [
    {
     "name": "stdout",
     "output_type": "stream",
     "text": [
      "bwght         1.00\n",
      "log_bwght     0.97\n",
      "log_omaps     0.26\n",
      "log_fmaps     0.26\n",
      "omaps         0.25\n",
      "fmaps         0.25\n",
      "log_feduc     0.16\n",
      "feduc         0.13\n",
      "mblck         0.13\n",
      "fblck         0.12\n",
      "male          0.11\n",
      "meduc         0.09\n",
      "m_npvis       0.06\n",
      "npvis         0.06\n",
      "m_feduc      -0.00\n",
      "fwhte        -0.04\n",
      "monpre       -0.05\n",
      "log_monpre   -0.06\n",
      "mwhte        -0.11\n",
      "m_meduc      -0.13\n",
      "fage         -0.40\n",
      "mage         -0.46\n",
      "cigs         -0.57\n",
      "drink        -0.74\n",
      "Name: bwght, dtype: float64\n"
     ]
    }
   ],
   "source": [
    "# creating a (Pearson) correlation matrix\n",
    "df_corr = birthWeight.corr().round(2)\n",
    "\n",
    "\n",
    "# printing (Pearson) correlations with SalePrice\n",
    "print(df_corr.loc['bwght'].sort_values(ascending = False))"
   ]
  },
  {
   "cell_type": "code",
   "execution_count": 19,
   "id": "88af4e55",
   "metadata": {},
   "outputs": [
    {
     "name": "stdout",
     "output_type": "stream",
     "text": [
      "\n",
      "Training Data\n",
      "-------------\n",
      "X-side: (147, 22)\n",
      "y-side: 147\n",
      "\n",
      "\n",
      "Testing Data\n",
      "------------\n",
      "X-side: (49, 22)\n",
      "y-side: 49\n",
      "\n"
     ]
    }
   ],
   "source": [
    "# preparing explanatory variable data\n",
    "birthWeight_data   = birthWeight.drop(['bwght',\n",
    "                               'log_bwght'],\n",
    "                                axis = 1)\n",
    "\n",
    "\n",
    "# preparing response variable data\n",
    "birthWeight_target = birthWeight.loc[ : , 'bwght']\n",
    "log_birthWeight_target = birthWeight.loc[ : , 'log_bwght'] # ready for use later\n",
    "\n",
    "\n",
    "# preparing training and testing sets (all letters are lowercase)\n",
    "x_train, x_test, y_train, y_test = train_test_split(\n",
    "            birthWeight_data,\n",
    "            birthWeight_target,\n",
    "            test_size = 0.25,\n",
    "            random_state = 219)\n",
    "\n",
    "\n",
    "# checking the shapes of the datasets\n",
    "print(f\"\"\"\n",
    "Training Data\n",
    "-------------\n",
    "X-side: {x_train.shape}\n",
    "y-side: {y_train.shape[0]}\n",
    "\n",
    "\n",
    "Testing Data\n",
    "------------\n",
    "X-side: {x_test.shape}\n",
    "y-side: {y_test.shape[0]}\n",
    "\"\"\")"
   ]
  },
  {
   "cell_type": "code",
   "execution_count": 20,
   "id": "4e99f844",
   "metadata": {},
   "outputs": [
    {
     "name": "stdout",
     "output_type": "stream",
     "text": [
      "log_omaps +\n",
      "log_fmaps +\n",
      "log_feduc +\n",
      "mblck +\n",
      "fblck +\n",
      "male +\n",
      "meduc +\n",
      "npvis +\n",
      "m_npvis +\n",
      "m_feduc +\n",
      "fwhte +\n",
      "log_monpre +\n",
      "mwhte +\n",
      "m_meduc +\n",
      "fage +\n",
      "mage +\n",
      "cigs +\n",
      "drink +\n"
     ]
    }
   ],
   "source": [
    "# OLS: declaring set of x-variables\n",
    "x_variables = [\"log_omaps\", \"log_fmaps\", \"log_feduc\", \"mblck\", \"fblck\", \"male\", \n",
    "                \"meduc\", \"npvis\", \"m_npvis\", \"m_feduc\", \n",
    "                \"fwhte\", \"log_monpre\", \"mwhte\", \"m_meduc\", \n",
    "                \"fage\", \"mage\", \"cigs\", \"drink\"]\n",
    "\n",
    "\n",
    "# looping to make x-variables suitable for statsmodels\n",
    "for val in x_variables:\n",
    "    print(f\"{val} +\")"
   ]
  },
  {
   "cell_type": "code",
   "execution_count": 21,
   "id": "62e912ac",
   "metadata": {},
   "outputs": [
    {
     "name": "stdout",
     "output_type": "stream",
     "text": [
      "                            OLS Regression Results                            \n",
      "==============================================================================\n",
      "Dep. Variable:                  bwght   R-squared:                       0.129\n",
      "Model:                            OLS   Adj. R-squared:                  0.111\n",
      "Method:                 Least Squares   F-statistic:                     7.047\n",
      "Date:                Sun, 19 Dec 2021   Prob (F-statistic):           0.000188\n",
      "Time:                        12:05:27   Log-Likelihood:                -1154.5\n",
      "No. Observations:                 147   AIC:                             2317.\n",
      "Df Residuals:                     143   BIC:                             2329.\n",
      "Df Model:                           3                                         \n",
      "Covariance Type:            nonrobust                                         \n",
      "==============================================================================\n",
      "                 coef    std err          t      P>|t|      [0.025      0.975]\n",
      "------------------------------------------------------------------------------\n",
      "Intercept  -1567.3892   1567.334     -1.000      0.319   -4665.526    1530.747\n",
      "log_omaps    263.1252    213.833      1.231      0.221    -159.558     685.808\n",
      "log_fmaps   1646.2628    789.968      2.084      0.039      84.739    3207.787\n",
      "log_feduc    299.2017    154.717      1.934      0.055      -6.625     605.029\n",
      "==============================================================================\n",
      "Omnibus:                        2.536   Durbin-Watson:                   2.053\n",
      "Prob(Omnibus):                  0.281   Jarque-Bera (JB):                2.047\n",
      "Skew:                          -0.227   Prob(JB):                        0.359\n",
      "Kurtosis:                       3.357   Cond. No.                         137.\n",
      "==============================================================================\n",
      "\n",
      "Notes:\n",
      "[1] Standard Errors assume that the covariance matrix of the errors is correctly specified.\n"
     ]
    }
   ],
   "source": [
    "# merging X_train and y_train so that they can be used in statsmodels\n",
    "birthWeight_train = pd.concat([x_train, y_train], axis = 1)\n",
    "\n",
    "\n",
    "# Step 1: build a model\n",
    "lm_best = smf.ols(formula =  \"\"\"bwght ~ log_omaps +\n",
    "                                        log_fmaps +\n",
    "                                        log_feduc\"\"\",\n",
    "                                data = birthWeight_train)\n",
    "\n",
    "\n",
    "# Step 2: fit the model based on the data\n",
    "results = lm_best.fit()\n",
    "\n",
    "\n",
    "# Step 3: analyze the summary output\n",
    "print(results.summary())"
   ]
  },
  {
   "cell_type": "code",
   "execution_count": 22,
   "id": "03dc3577",
   "metadata": {},
   "outputs": [],
   "source": [
    "# applying model in scikit-learn\n",
    "\n",
    "# Preparing a DataFrame based the the analysis above\n",
    "ols_data   = birthWeight.loc[ : , x_variables]\n",
    "\n",
    "\n",
    "# Preparing the target variable\n",
    "birthWeight_target = birthWeight.loc[ : , 'bwght']\n",
    "\n",
    "\n",
    "###############################################\n",
    "## setting up more than one train-test split ##\n",
    "###############################################\n",
    "# FULL X-dataset (normal Y)\n",
    "x_train_FULL, x_test_FULL, y_train_FULL, y_test_FULL = train_test_split(\n",
    "            birthWeight_data,     # x-variables\n",
    "            birthWeight_target,   # y-variable\n",
    "            test_size = 0.25,\n",
    "            random_state = 219)\n",
    "\n",
    "\n",
    "# OLS p-value x-dataset (normal Y)\n",
    "x_train_OLS, x_test_OLS, y_train_OLS, y_test_OLS = train_test_split(\n",
    "            ols_data,         # x-variables\n",
    "            birthWeight_target,   # y-variable\n",
    "            test_size = 0.25,\n",
    "            random_state = 219)"
   ]
  },
  {
   "cell_type": "code",
   "execution_count": 23,
   "id": "43001671",
   "metadata": {},
   "outputs": [
    {
     "name": "stdout",
     "output_type": "stream",
     "text": [
      "OLS Training Score : 0.7518\n",
      "OLS Testing Score  : 0.5843\n",
      "OLS Train-Test Gap : 0.1675\n"
     ]
    }
   ],
   "source": [
    "# INSTANTIATING a model object\n",
    "lr = LinearRegression()\n",
    "\n",
    "\n",
    "# FITTING to the training data\n",
    "lr_fit = lr.fit(x_train_OLS, y_train_OLS)\n",
    "\n",
    "\n",
    "# PREDICTING on new data\n",
    "lr_pred = lr_fit.predict(x_test_OLS)\n",
    "\n",
    "\n",
    "# SCORING the results\n",
    "print('OLS Training Score :', lr.score(x_train_OLS, y_train_OLS).round(4))\n",
    "print('OLS Testing Score  :', lr.score(x_test_OLS, y_test_OLS).round(4))\n",
    "\n",
    "\n",
    "# saving scoring data for future use\n",
    "lr_train_score = lr.score(x_train_OLS, y_train_OLS).round(4) # using R-square\n",
    "lr_test_score  = lr.score(x_test_OLS, y_test_OLS).round(4)   # using R-square\n",
    "\n",
    "\n",
    "# displaying and saving the gap between training and testing\n",
    "print('OLS Train-Test Gap :', abs(lr_train_score - lr_test_score).round(4))\n",
    "lr_test_gap = abs(lr_train_score - lr_test_score).round(4)"
   ]
  },
  {
   "cell_type": "code",
   "execution_count": 24,
   "id": "633ab483",
   "metadata": {},
   "outputs": [
    {
     "name": "stdout",
     "output_type": "stream",
     "text": [
      "('intercept', 2332.51)\n",
      "('log_omaps', -4.1)\n",
      "('log_fmaps', 712.71)\n",
      "('log_feduc', 168.77)\n",
      "('mblck', -113.69)\n",
      "('fblck', 217.65)\n",
      "('male', 66.39)\n",
      "('meduc', 33.67)\n",
      "('npvis', 5.63)\n",
      "('m_npvis', 668.23)\n",
      "('m_feduc', 324.19)\n",
      "('fwhte', -23.09)\n",
      "('log_monpre', 30.19)\n",
      "('mwhte', 160.39)\n",
      "('m_meduc', -595.36)\n",
      "('fage', -1.88)\n",
      "('mage', -15.18)\n",
      "('cigs', -39.29)\n",
      "('drink', -96.01)\n"
     ]
    }
   ],
   "source": [
    "# zipping each feature name to its coefficient\n",
    "lr_model_values = zip(birthWeight[x_variables].columns,\n",
    "                      lr_fit.coef_.round(decimals = 2))\n",
    "\n",
    "\n",
    "# setting up a placeholder list to store model features\n",
    "lr_model_lst = [('intercept', lr_fit.intercept_.round(decimals = 2))]\n",
    "\n",
    "\n",
    "# printing out each feature-coefficient pair one by one\n",
    "for val in lr_model_values:\n",
    "    lr_model_lst.append(val)\n",
    "    \n",
    "\n",
    "# checking the results\n",
    "for pair in lr_model_lst:\n",
    "    print(pair)"
   ]
  },
  {
   "cell_type": "code",
   "execution_count": 25,
   "id": "53d2c7dc",
   "metadata": {},
   "outputs": [
    {
     "name": "stdout",
     "output_type": "stream",
     "text": [
      "Lasso Training Score : 0.7431\n",
      "Lasso Testing Score  : 0.6326\n",
      "Lasso Train-Test Gap : 0.1105\n"
     ]
    }
   ],
   "source": [
    "import sklearn.linear_model # linear models\n",
    "\n",
    "# INSTANTIATING a Lasso model object\n",
    "lasso_model = sklearn.linear_model.Lasso(alpha     = 1.0,  # default shrinkage\n",
    "                                         normalize = True) # default magitude\n",
    "\n",
    "\n",
    "# FITTING to the training data\n",
    "lasso_fit = lasso_model.fit(x_train_FULL, y_train_FULL)\n",
    "\n",
    "\n",
    "# PREDICTING on new data\n",
    "lasso_pred = lasso_fit.predict(x_test_FULL)\n",
    "\n",
    "\n",
    "# SCORING the results\n",
    "print('Lasso Training Score :', lasso_model.score(x_train_FULL, y_train_FULL).round(4))\n",
    "print('Lasso Testing Score  :', lasso_model.score(x_test_FULL, y_test_FULL).round(4))\n",
    "\n",
    "\n",
    "## the following code has been provided for you ##\n",
    "\n",
    "# saving scoring data for future use\n",
    "lasso_train_score = lasso_model.score(x_train_FULL, y_train_FULL).round(4) # using R-square\n",
    "lasso_test_score  = lasso_model.score(x_test_FULL, y_test_FULL).round(4)   # using R-square\n",
    "\n",
    "\n",
    "# displaying and saving the gap between training and testing\n",
    "print('Lasso Train-Test Gap :', abs(lasso_train_score - lasso_test_score).round(4))\n",
    "lasso_test_gap = abs(lasso_train_score - lasso_test_score).round(4)"
   ]
  },
  {
   "cell_type": "code",
   "execution_count": 26,
   "id": "9249818e",
   "metadata": {},
   "outputs": [
    {
     "name": "stdout",
     "output_type": "stream",
     "text": [
      "('intercept', 3669.47)\n",
      "('mage', -13.7)\n",
      "('meduc', 17.85)\n",
      "('monpre', 0.0)\n",
      "('npvis', 1.65)\n",
      "('fage', -2.45)\n",
      "('feduc', 0.0)\n",
      "('omaps', 0.0)\n",
      "('fmaps', 76.89)\n",
      "('cigs', -37.93)\n",
      "('drink', -98.5)\n",
      "('male', 45.36)\n",
      "('mwhte', 35.7)\n",
      "('mblck', 19.44)\n",
      "('fwhte', -0.0)\n",
      "('fblck', 7.55)\n",
      "('m_meduc', -239.38)\n",
      "('m_npvis', 359.38)\n",
      "('m_feduc', 0.0)\n",
      "('log_omaps', 0.0)\n",
      "('log_fmaps', 0.0)\n",
      "('log_feduc', 108.39)\n",
      "('log_monpre', 0.0)\n"
     ]
    }
   ],
   "source": [
    "# zipping each feature name to its coefficient\n",
    "lasso_model_values = zip(birthWeight_data.columns, lasso_fit.coef_.round(decimals = 2))\n",
    "\n",
    "\n",
    "# setting up a placeholder list to store model features\n",
    "lasso_model_lst = [('intercept', lasso_fit.intercept_.round(decimals = 2))]\n",
    "\n",
    "\n",
    "# printing out each feature-coefficient pair one by one\n",
    "for val in lasso_model_values:\n",
    "    lasso_model_lst.append(val)\n",
    "    \n",
    "\n",
    "# checking the results\n",
    "for pair in lasso_model_lst:\n",
    "    print(pair)"
   ]
  },
  {
   "cell_type": "code",
   "execution_count": 27,
   "id": "18c2ef52",
   "metadata": {},
   "outputs": [
    {
     "name": "stdout",
     "output_type": "stream",
     "text": [
      "('intercept', 3669.47)\n",
      "('mage', -13.7)\n",
      "('meduc', 17.85)\n",
      "('npvis', 1.65)\n",
      "('fage', -2.45)\n",
      "('omaps', 0.0)\n",
      "('fmaps', 76.89)\n",
      "('cigs', -37.93)\n",
      "('drink', -98.5)\n",
      "('male', 45.36)\n",
      "('mwhte', 35.7)\n",
      "('mblck', 19.44)\n",
      "('fblck', 7.55)\n",
      "('m_meduc', -239.38)\n",
      "('m_npvis', 359.38)\n",
      "('log_omaps', 0.0)\n",
      "('log_feduc', 108.39)\n"
     ]
    }
   ],
   "source": [
    "## This code may have to be run more than once ##\n",
    "\n",
    "# dropping coefficients that are equal to zero\n",
    "\n",
    "# printing out each feature-coefficient pair one by one\n",
    "for feature, coefficient in lasso_model_lst:\n",
    "        \n",
    "        if coefficient == 0:\n",
    "            lasso_model_lst.remove((feature, coefficient))\n",
    "\n",
    "            \n",
    "# checking the results\n",
    "for pair in lasso_model_lst:\n",
    "    print(pair)"
   ]
  },
  {
   "cell_type": "code",
   "execution_count": 28,
   "id": "db99f4f3",
   "metadata": {},
   "outputs": [
    {
     "name": "stdout",
     "output_type": "stream",
     "text": [
      "Training Score: 0.7362\n",
      "Testing Score : 0.6462\n",
      "ARD Train-Test Gap : 0.09\n"
     ]
    }
   ],
   "source": [
    "# INSTANTIATING an ARD model object\n",
    "ard_model = sklearn.linear_model.ARDRegression(normalize  = False)\n",
    "\n",
    "\n",
    "# FITTING the training data\n",
    "ard_fit = ard_model.fit(x_train_FULL, y_train_FULL)\n",
    "\n",
    "\n",
    "# PREDICTING on new data\n",
    "ard_pred = ard_fit.predict(x_test_FULL)\n",
    "\n",
    "\n",
    "print('Training Score:', ard_model.score(x_train_FULL, y_train_FULL).round(4))\n",
    "print('Testing Score :',  ard_model.score(x_test_FULL, y_test_FULL).round(4))\n",
    "\n",
    "\n",
    "# saving scoring data for future use\n",
    "ard_train_score = ard_model.score(x_train_FULL, y_train_FULL).round(4)\n",
    "ard_test_score  = ard_model.score(x_test_FULL, y_test_FULL).round(4)\n",
    "\n",
    "\n",
    "# displaying and saving the gap between training and testing\n",
    "print('ARD Train-Test Gap :', abs(ard_train_score - ard_test_score).round(4))\n",
    "ard_test_gap = abs(ard_train_score - ard_test_score).round(4)"
   ]
  },
  {
   "cell_type": "code",
   "execution_count": 29,
   "id": "bf4cc5e6",
   "metadata": {},
   "outputs": [
    {
     "name": "stdout",
     "output_type": "stream",
     "text": [
      "('intercept', 3911.06)\n",
      "('mage', -15.60758)\n",
      "('meduc', 13.52821)\n",
      "('monpre', 0.0001)\n",
      "('npvis', 0.00173)\n",
      "('fage', -0.00828)\n",
      "('feduc', 0.00132)\n",
      "('omaps', 0.00034)\n",
      "('fmaps', 73.53692)\n",
      "('cigs', -39.35309)\n",
      "('drink', -102.61335)\n",
      "('male', 12.80777)\n",
      "('mwhte', 0.00119)\n",
      "('mblck', 0.00081)\n",
      "('fwhte', 0.00015)\n",
      "('fblck', 0.00091)\n",
      "('m_meduc', -147.03679)\n",
      "('m_npvis', 297.41901)\n",
      "('m_feduc', 0.00018)\n",
      "('log_omaps', 0.0004)\n",
      "('log_fmaps', 0.00079)\n",
      "('log_feduc', 77.87912)\n",
      "('log_monpre', 0.00029)\n"
     ]
    }
   ],
   "source": [
    "# zipping each feature name to its coefficient\n",
    "ard_model_values = zip(birthWeight_data.columns, ard_fit.coef_.round(decimals = 5))\n",
    "\n",
    "\n",
    "# setting up a placeholder list to store model features\n",
    "ard_model_lst = [('intercept', ard_fit.intercept_.round(decimals = 2))]\n",
    "\n",
    "\n",
    "# printing out each feature-coefficient pair one by one\n",
    "for val in ard_model_values:\n",
    "    ard_model_lst.append(val)\n",
    "    \n",
    "\n",
    "# checking the results\n",
    "for pair in ard_model_lst:\n",
    "    print(pair)"
   ]
  },
  {
   "cell_type": "code",
   "execution_count": 30,
   "id": "c310c302",
   "metadata": {},
   "outputs": [
    {
     "name": "stdout",
     "output_type": "stream",
     "text": [
      "('intercept', 3911.06)\n",
      "('mage', -15.60758)\n",
      "('meduc', 13.52821)\n",
      "('monpre', 0.0001)\n",
      "('npvis', 0.00173)\n",
      "('fage', -0.00828)\n",
      "('feduc', 0.00132)\n",
      "('omaps', 0.00034)\n",
      "('fmaps', 73.53692)\n",
      "('cigs', -39.35309)\n",
      "('drink', -102.61335)\n",
      "('male', 12.80777)\n",
      "('mwhte', 0.00119)\n",
      "('mblck', 0.00081)\n",
      "('fwhte', 0.00015)\n",
      "('fblck', 0.00091)\n",
      "('m_meduc', -147.03679)\n",
      "('m_npvis', 297.41901)\n",
      "('m_feduc', 0.00018)\n",
      "('log_omaps', 0.0004)\n",
      "('log_fmaps', 0.00079)\n",
      "('log_feduc', 77.87912)\n",
      "('log_monpre', 0.00029)\n"
     ]
    }
   ],
   "source": [
    "## This code may have to be run more than once ##\n",
    "\n",
    "# dropping coefficients that are equal to zero\n",
    "\n",
    "# printing out each feature-coefficient pair one by one\n",
    "for feature, coefficient in ard_model_lst:\n",
    "        \n",
    "        if coefficient == 0:\n",
    "            ard_model_lst.remove((feature, coefficient))\n",
    "\n",
    "            \n",
    "# checking the results\n",
    "for pair in ard_model_lst:\n",
    "    print(pair)"
   ]
  },
  {
   "cell_type": "code",
   "execution_count": 31,
   "id": "dc928b95",
   "metadata": {},
   "outputs": [
    {
     "name": "stdout",
     "output_type": "stream",
     "text": [
      "\n",
      "Model         Train Score      Test Score      Train-Test Gap\n",
      "-----         -----------      ----------      --------------\n",
      "OLS           0.7518           0.5843          0.1675\n",
      "Lasso         0.7431           0.6326          0.1105\n",
      "ARD - FINAL   0.7362           0.6462          0.09\n",
      "\n"
     ]
    }
   ],
   "source": [
    "# comparing results\n",
    "\n",
    "print(f\"\"\"\n",
    "Model         Train Score      Test Score      Train-Test Gap\n",
    "-----         -----------      ----------      --------------\n",
    "OLS           {lr_train_score}           {lr_test_score}          {lr_test_gap}\n",
    "Lasso         {lasso_train_score}           {lasso_test_score}          {lasso_test_gap}\n",
    "ARD - FINAL   {ard_train_score}           {ard_test_score}          {ard_test_gap}\n",
    "\"\"\")\n"
   ]
  },
  {
   "cell_type": "code",
   "execution_count": null,
   "id": "30131eb7",
   "metadata": {},
   "outputs": [],
   "source": []
  }
 ],
 "metadata": {
  "kernelspec": {
   "display_name": "Python 3 (ipykernel)",
   "language": "python",
   "name": "python3"
  },
  "language_info": {
   "codemirror_mode": {
    "name": "ipython",
    "version": 3
   },
   "file_extension": ".py",
   "mimetype": "text/x-python",
   "name": "python",
   "nbconvert_exporter": "python",
   "pygments_lexer": "ipython3",
   "version": "3.8.8"
  },
  "toc": {
   "base_numbering": 1,
   "nav_menu": {},
   "number_sections": true,
   "sideBar": true,
   "skip_h1_title": false,
   "title_cell": "Table of Contents",
   "title_sidebar": "Contents",
   "toc_cell": false,
   "toc_position": {},
   "toc_section_display": true,
   "toc_window_display": false
  },
  "varInspector": {
   "cols": {
    "lenName": 16,
    "lenType": 16,
    "lenVar": 40
   },
   "kernels_config": {
    "python": {
     "delete_cmd_postfix": "",
     "delete_cmd_prefix": "del ",
     "library": "var_list.py",
     "varRefreshCmd": "print(var_dic_list())"
    },
    "r": {
     "delete_cmd_postfix": ") ",
     "delete_cmd_prefix": "rm(",
     "library": "var_list.r",
     "varRefreshCmd": "cat(var_dic_list()) "
    }
   },
   "types_to_exclude": [
    "module",
    "function",
    "builtin_function_or_method",
    "instance",
    "_Feature"
   ],
   "window_display": false
  }
 },
 "nbformat": 4,
 "nbformat_minor": 5
}
